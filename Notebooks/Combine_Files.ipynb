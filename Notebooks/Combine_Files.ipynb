{
 "cells": [
  {
   "cell_type": "markdown",
   "id": "b1c7208c",
   "metadata": {},
   "source": [
    "# Combining Oil Data"
   ]
  },
  {
   "cell_type": "markdown",
   "id": "38313aff",
   "metadata": {},
   "source": [
    "## Imports"
   ]
  },
  {
   "cell_type": "code",
   "execution_count": 1,
   "id": "10f3e599",
   "metadata": {},
   "outputs": [],
   "source": [
    "from importlib.metadata import version\n",
    "import pandas as pd\n",
    "import numpy as np\n",
    "import seaborn as sns\n",
    "from pathlib import Path\n",
    "import os\n",
    "import matplotlib.pyplot as plt"
   ]
  },
  {
   "cell_type": "code",
   "execution_count": 2,
   "id": "67a68da6",
   "metadata": {},
   "outputs": [],
   "source": [
    "from importlib.metadata import version"
   ]
  },
  {
   "cell_type": "code",
   "execution_count": 3,
   "id": "22b46b8d",
   "metadata": {},
   "outputs": [
    {
     "name": "stdout",
     "output_type": "stream",
     "text": [
      "pandas version: 2.3.1\n",
      "numpy version: 1.23.5\n",
      "seaborn version: 0.13.2\n",
      "matplotlib version: 3.10.5\n"
     ]
    }
   ],
   "source": [
    "list = ['pandas', 'numpy', 'seaborn', 'matplotlib']\n",
    "for package in list:\n",
    "    try:\n",
    "        print(f\"{package} version: {version(package)}\") # Raises PackageNotFoundError if not found\n",
    "    except:\n",
    "         print(f\"❌ Package '{package}' not found. Please install it.\")"
   ]
  },
  {
   "cell_type": "markdown",
   "id": "1bbefac4",
   "metadata": {},
   "source": [
    "## Data Preparation"
   ]
  },
  {
   "cell_type": "code",
   "execution_count": null,
   "id": "5ba3cf4c",
   "metadata": {},
   "outputs": [],
   "source": [
    "# Login using e.g. `huggingface-cli login` to access this dataset\n",
    "# df = pd.read_csv(\"hf://datasets/MaxPrestige/CRUDE_OIL_PRICES/blob/main/Data/OIL_DATASET.csv\")\n",
    "\n",
    "OIL_DATA_ROOT = Path(\"../Data_Cleaning/Raw_Download_Data_Refined_Headers\")\n",
    "# OIL_PATH_ORIGINAL = OIL_DATA_ROOT / \"OIL_Dataset_1984-2025.csv\"     # Set the data source path\n",
    "OIL_DATA_CLEAN=\"OIL_Dataset_Cleaned.csv\"\n",
    "OIL_DATA_CLEAN_PATH = OIL_DATA_ROOT / OIL_DATA_CLEAN"
   ]
  },
  {
   "cell_type": "markdown",
   "id": "f0fc0699",
   "metadata": {},
   "source": [
    "### Other locations"
   ]
  },
  {
   "cell_type": "code",
   "execution_count": 24,
   "id": "d6d21e9d",
   "metadata": {},
   "outputs": [],
   "source": [
    "Exports_by_Destination = OIL_DATA_ROOT / \"Exports_by_Destination.csv\"     # Set the data source path\n",
    "Oil_Brent_01_02_24_08_13_25 = OIL_DATA_ROOT / \"Oil_(Brent)_01_02_24-08_13_25.csv\"     # Set the data source path\n",
    "Oil_Brent_01_02_2005_08_13_2025 = OIL_DATA_ROOT / \"Oil_(Brent)_01_02_2005-08_13_2025.csv\"     # Set the data source path\n",
    "Oil_Brent_01_02_2015_08_13_2025 = OIL_DATA_ROOT / \"Oil_(Brent)_01_02_2015-08_13_2025.csv\"     # Set the data source path\n",
    "Oil_Brent_09_21_00_08_13_25 = OIL_DATA_ROOT / \"Oil_(Brent)_09_21_00-08_13_25.csv\"     # Set the data source path\n",
    "U_S_Crude_Oil_First_Purchase_Prices_by_Area = OIL_DATA_ROOT / \"U.S._Crude_Oil_First_Purchase_Prices_by_Area.csv\"     # Set the data source path\n",
    "U_S_crude_oil_production = OIL_DATA_ROOT / \"U.S._crude_oil_production.csv\"     # Set the data source path\n",
    "U_S_Imports_by_Country_of_Origin = OIL_DATA_ROOT / \"U.S._Imports_by_Country_of_Origin.csv\"     # Set the data source path\n",
    "U_S_Net_Imports_by_Country = OIL_DATA_ROOT / \"U.S._Net_Imports_by_Country.csv\"     # Set the data source path\n",
    "Weekly_Imports_and_Exports = OIL_DATA_ROOT / \"Weekly_Imports_&_Exports.csv\"     # Set the data source path\n"
   ]
  },
  {
   "cell_type": "markdown",
   "id": "ea9f4d48",
   "metadata": {},
   "source": [
    "#### File Verification"
   ]
  },
  {
   "cell_type": "code",
   "execution_count": 25,
   "id": "2f4471e8",
   "metadata": {},
   "outputs": [],
   "source": [
    "paths = [Exports_by_Destination, Oil_Brent_01_02_24_08_13_25, Oil_Brent_01_02_2005_08_13_2025, Oil_Brent_01_02_2015_08_13_2025, Oil_Brent_09_21_00_08_13_25, U_S_Crude_Oil_First_Purchase_Prices_by_Area, U_S_crude_oil_production, U_S_Imports_by_Country_of_Origin, U_S_Net_Imports_by_Country, Weekly_Imports_and_Exports]\n",
    "\n",
    "try:\n",
    "    for path in paths:\n",
    "        if not path.exists():\n",
    "            raise FileNotFoundError(f\"The file '{path}' does not exist.\")\n",
    "except FileNotFoundError as e:\n",
    "    print(e)"
   ]
  },
  {
   "cell_type": "markdown",
   "id": "bd070a82",
   "metadata": {},
   "source": [
    "#### Reading Files to DataFrames"
   ]
  },
  {
   "cell_type": "code",
   "execution_count": 26,
   "id": "2532d9ee",
   "metadata": {},
   "outputs": [
    {
     "ename": "ParserError",
     "evalue": "Error tokenizing data. C error: Expected 6 fields in line 2828, saw 7\n",
     "output_type": "error",
     "traceback": [
      "\u001b[1;31m---------------------------------------------------------------------------\u001b[0m",
      "\u001b[1;31mParserError\u001b[0m                               Traceback (most recent call last)",
      "Cell \u001b[1;32mIn[26], line 3\u001b[0m\n\u001b[0;32m      1\u001b[0m Exports_by_Destination_df \u001b[38;5;241m=\u001b[39m pd\u001b[38;5;241m.\u001b[39mread_csv(Exports_by_Destination)\n\u001b[0;32m      2\u001b[0m Oil_Brent_01_02_24_08_13_25_df \u001b[38;5;241m=\u001b[39m pd\u001b[38;5;241m.\u001b[39mread_csv(Oil_Brent_01_02_24_08_13_25)\n\u001b[1;32m----> 3\u001b[0m Oil_Brent_01_02_2005_08_13_2025_df \u001b[38;5;241m=\u001b[39m \u001b[43mpd\u001b[49m\u001b[38;5;241;43m.\u001b[39;49m\u001b[43mread_csv\u001b[49m\u001b[43m(\u001b[49m\u001b[43mOil_Brent_01_02_2005_08_13_2025\u001b[49m\u001b[43m)\u001b[49m\n\u001b[0;32m      4\u001b[0m Oil_Brent_01_02_2015_08_13_2025_df \u001b[38;5;241m=\u001b[39m pd\u001b[38;5;241m.\u001b[39mread_csv(Oil_Brent_01_02_2015_08_13_2025)\n\u001b[0;32m      5\u001b[0m Oil_Brent_09_21_00_08_13_25_df \u001b[38;5;241m=\u001b[39m pd\u001b[38;5;241m.\u001b[39mread_csv(Oil_Brent_09_21_00_08_13_25)\n",
      "File \u001b[1;32mc:\\Users\\brianperez\\AppData\\Local\\anaconda3\\envs\\WP_env\\lib\\site-packages\\pandas\\io\\parsers\\readers.py:1026\u001b[0m, in \u001b[0;36mread_csv\u001b[1;34m(filepath_or_buffer, sep, delimiter, header, names, index_col, usecols, dtype, engine, converters, true_values, false_values, skipinitialspace, skiprows, skipfooter, nrows, na_values, keep_default_na, na_filter, verbose, skip_blank_lines, parse_dates, infer_datetime_format, keep_date_col, date_parser, date_format, dayfirst, cache_dates, iterator, chunksize, compression, thousands, decimal, lineterminator, quotechar, quoting, doublequote, escapechar, comment, encoding, encoding_errors, dialect, on_bad_lines, delim_whitespace, low_memory, memory_map, float_precision, storage_options, dtype_backend)\u001b[0m\n\u001b[0;32m   1013\u001b[0m kwds_defaults \u001b[38;5;241m=\u001b[39m _refine_defaults_read(\n\u001b[0;32m   1014\u001b[0m     dialect,\n\u001b[0;32m   1015\u001b[0m     delimiter,\n\u001b[1;32m   (...)\u001b[0m\n\u001b[0;32m   1022\u001b[0m     dtype_backend\u001b[38;5;241m=\u001b[39mdtype_backend,\n\u001b[0;32m   1023\u001b[0m )\n\u001b[0;32m   1024\u001b[0m kwds\u001b[38;5;241m.\u001b[39mupdate(kwds_defaults)\n\u001b[1;32m-> 1026\u001b[0m \u001b[38;5;28;01mreturn\u001b[39;00m \u001b[43m_read\u001b[49m\u001b[43m(\u001b[49m\u001b[43mfilepath_or_buffer\u001b[49m\u001b[43m,\u001b[49m\u001b[43m \u001b[49m\u001b[43mkwds\u001b[49m\u001b[43m)\u001b[49m\n",
      "File \u001b[1;32mc:\\Users\\brianperez\\AppData\\Local\\anaconda3\\envs\\WP_env\\lib\\site-packages\\pandas\\io\\parsers\\readers.py:626\u001b[0m, in \u001b[0;36m_read\u001b[1;34m(filepath_or_buffer, kwds)\u001b[0m\n\u001b[0;32m    623\u001b[0m     \u001b[38;5;28;01mreturn\u001b[39;00m parser\n\u001b[0;32m    625\u001b[0m \u001b[38;5;28;01mwith\u001b[39;00m parser:\n\u001b[1;32m--> 626\u001b[0m     \u001b[38;5;28;01mreturn\u001b[39;00m \u001b[43mparser\u001b[49m\u001b[38;5;241;43m.\u001b[39;49m\u001b[43mread\u001b[49m\u001b[43m(\u001b[49m\u001b[43mnrows\u001b[49m\u001b[43m)\u001b[49m\n",
      "File \u001b[1;32mc:\\Users\\brianperez\\AppData\\Local\\anaconda3\\envs\\WP_env\\lib\\site-packages\\pandas\\io\\parsers\\readers.py:1923\u001b[0m, in \u001b[0;36mTextFileReader.read\u001b[1;34m(self, nrows)\u001b[0m\n\u001b[0;32m   1916\u001b[0m nrows \u001b[38;5;241m=\u001b[39m validate_integer(\u001b[38;5;124m\"\u001b[39m\u001b[38;5;124mnrows\u001b[39m\u001b[38;5;124m\"\u001b[39m, nrows)\n\u001b[0;32m   1917\u001b[0m \u001b[38;5;28;01mtry\u001b[39;00m:\n\u001b[0;32m   1918\u001b[0m     \u001b[38;5;66;03m# error: \"ParserBase\" has no attribute \"read\"\u001b[39;00m\n\u001b[0;32m   1919\u001b[0m     (\n\u001b[0;32m   1920\u001b[0m         index,\n\u001b[0;32m   1921\u001b[0m         columns,\n\u001b[0;32m   1922\u001b[0m         col_dict,\n\u001b[1;32m-> 1923\u001b[0m     ) \u001b[38;5;241m=\u001b[39m \u001b[38;5;28;43mself\u001b[39;49m\u001b[38;5;241;43m.\u001b[39;49m\u001b[43m_engine\u001b[49m\u001b[38;5;241;43m.\u001b[39;49m\u001b[43mread\u001b[49m\u001b[43m(\u001b[49m\u001b[43m  \u001b[49m\u001b[38;5;66;43;03m# type: ignore[attr-defined]\u001b[39;49;00m\n\u001b[0;32m   1924\u001b[0m \u001b[43m        \u001b[49m\u001b[43mnrows\u001b[49m\n\u001b[0;32m   1925\u001b[0m \u001b[43m    \u001b[49m\u001b[43m)\u001b[49m\n\u001b[0;32m   1926\u001b[0m \u001b[38;5;28;01mexcept\u001b[39;00m \u001b[38;5;167;01mException\u001b[39;00m:\n\u001b[0;32m   1927\u001b[0m     \u001b[38;5;28mself\u001b[39m\u001b[38;5;241m.\u001b[39mclose()\n",
      "File \u001b[1;32mc:\\Users\\brianperez\\AppData\\Local\\anaconda3\\envs\\WP_env\\lib\\site-packages\\pandas\\io\\parsers\\c_parser_wrapper.py:234\u001b[0m, in \u001b[0;36mCParserWrapper.read\u001b[1;34m(self, nrows)\u001b[0m\n\u001b[0;32m    232\u001b[0m \u001b[38;5;28;01mtry\u001b[39;00m:\n\u001b[0;32m    233\u001b[0m     \u001b[38;5;28;01mif\u001b[39;00m \u001b[38;5;28mself\u001b[39m\u001b[38;5;241m.\u001b[39mlow_memory:\n\u001b[1;32m--> 234\u001b[0m         chunks \u001b[38;5;241m=\u001b[39m \u001b[38;5;28;43mself\u001b[39;49m\u001b[38;5;241;43m.\u001b[39;49m\u001b[43m_reader\u001b[49m\u001b[38;5;241;43m.\u001b[39;49m\u001b[43mread_low_memory\u001b[49m\u001b[43m(\u001b[49m\u001b[43mnrows\u001b[49m\u001b[43m)\u001b[49m\n\u001b[0;32m    235\u001b[0m         \u001b[38;5;66;03m# destructive to chunks\u001b[39;00m\n\u001b[0;32m    236\u001b[0m         data \u001b[38;5;241m=\u001b[39m _concatenate_chunks(chunks)\n",
      "File \u001b[1;32mpandas/_libs/parsers.pyx:838\u001b[0m, in \u001b[0;36mpandas._libs.parsers.TextReader.read_low_memory\u001b[1;34m()\u001b[0m\n",
      "File \u001b[1;32mpandas/_libs/parsers.pyx:905\u001b[0m, in \u001b[0;36mpandas._libs.parsers.TextReader._read_rows\u001b[1;34m()\u001b[0m\n",
      "File \u001b[1;32mpandas/_libs/parsers.pyx:874\u001b[0m, in \u001b[0;36mpandas._libs.parsers.TextReader._tokenize_rows\u001b[1;34m()\u001b[0m\n",
      "File \u001b[1;32mpandas/_libs/parsers.pyx:891\u001b[0m, in \u001b[0;36mpandas._libs.parsers.TextReader._check_tokenize_status\u001b[1;34m()\u001b[0m\n",
      "File \u001b[1;32mpandas/_libs/parsers.pyx:2061\u001b[0m, in \u001b[0;36mpandas._libs.parsers.raise_parser_error\u001b[1;34m()\u001b[0m\n",
      "\u001b[1;31mParserError\u001b[0m: Error tokenizing data. C error: Expected 6 fields in line 2828, saw 7\n"
     ]
    }
   ],
   "source": [
    "Exports_by_Destination_df = pd.read_csv(Exports_by_Destination)\n",
    "Oil_Brent_01_02_24_08_13_25_df = pd.read_csv(Oil_Brent_01_02_24_08_13_25)\n",
    "Oil_Brent_01_02_2005_08_13_2025_df = pd.read_csv(Oil_Brent_01_02_2005_08_13_2025)\n",
    "Oil_Brent_01_02_2015_08_13_2025_df = pd.read_csv(Oil_Brent_01_02_2015_08_13_2025)\n",
    "Oil_Brent_09_21_00_08_13_25_df = pd.read_csv(Oil_Brent_09_21_00_08_13_25)\n",
    "U_S_Crude_Oil_First_Purchase_Prices_by_Area_df = pd.read_csv(U_S_Crude_Oil_First_Purchase_Prices_by_Area)\n",
    "U_S_crude_oil_production_df = pd.read_csv(U_S_crude_oil_production)\n",
    "U_S_Imports_by_Country_of_Origin_df = pd.read_csv(U_S_Imports_by_Country_of_Origin)\n",
    "U_S_Net_Imports_by_Country_df = pd.read_csv(U_S_Net_Imports_by_Country)\n",
    "Weekly_Imports_and_Exports_df = pd.read_csv(Weekly_Imports_and_Exports)\n"
   ]
  },
  {
   "cell_type": "code",
   "execution_count": 10,
   "id": "e2cd8704",
   "metadata": {},
   "outputs": [
    {
     "data": {
      "text/html": [
       "<div>\n",
       "<style scoped>\n",
       "    .dataframe tbody tr th:only-of-type {\n",
       "        vertical-align: middle;\n",
       "    }\n",
       "\n",
       "    .dataframe tbody tr th {\n",
       "        vertical-align: top;\n",
       "    }\n",
       "\n",
       "    .dataframe thead th {\n",
       "        text-align: right;\n",
       "    }\n",
       "</style>\n",
       "<table border=\"1\" class=\"dataframe\">\n",
       "  <thead>\n",
       "    <tr style=\"text-align: right;\">\n",
       "      <th></th>\n",
       "      <th>DAY_OF_YEAR</th>\n",
       "      <th>PRECIPITATION</th>\n",
       "      <th>LAGGED_PRECIPITATION</th>\n",
       "      <th>AVG_WIND_SPEED</th>\n",
       "      <th>MIN_TEMP</th>\n",
       "      <th>MAX_TEMP</th>\n",
       "    </tr>\n",
       "  </thead>\n",
       "  <tbody>\n",
       "    <tr>\n",
       "      <th>0</th>\n",
       "      <td>1.0</td>\n",
       "      <td>0.0</td>\n",
       "      <td>0.0</td>\n",
       "      <td>4.70</td>\n",
       "      <td>51.0</td>\n",
       "      <td>79.0</td>\n",
       "    </tr>\n",
       "    <tr>\n",
       "      <th>1</th>\n",
       "      <td>2.0</td>\n",
       "      <td>0.0</td>\n",
       "      <td>0.0</td>\n",
       "      <td>5.59</td>\n",
       "      <td>46.0</td>\n",
       "      <td>71.0</td>\n",
       "    </tr>\n",
       "    <tr>\n",
       "      <th>2</th>\n",
       "      <td>3.0</td>\n",
       "      <td>0.0</td>\n",
       "      <td>0.0</td>\n",
       "      <td>5.37</td>\n",
       "      <td>47.0</td>\n",
       "      <td>70.0</td>\n",
       "    </tr>\n",
       "    <tr>\n",
       "      <th>3</th>\n",
       "      <td>4.0</td>\n",
       "      <td>0.0</td>\n",
       "      <td>0.0</td>\n",
       "      <td>4.70</td>\n",
       "      <td>45.0</td>\n",
       "      <td>76.0</td>\n",
       "    </tr>\n",
       "    <tr>\n",
       "      <th>4</th>\n",
       "      <td>5.0</td>\n",
       "      <td>0.0</td>\n",
       "      <td>0.0</td>\n",
       "      <td>5.14</td>\n",
       "      <td>49.0</td>\n",
       "      <td>74.0</td>\n",
       "    </tr>\n",
       "    <tr>\n",
       "      <th>...</th>\n",
       "      <td>...</td>\n",
       "      <td>...</td>\n",
       "      <td>...</td>\n",
       "      <td>...</td>\n",
       "      <td>...</td>\n",
       "      <td>...</td>\n",
       "    </tr>\n",
       "    <tr>\n",
       "      <th>14971</th>\n",
       "      <td>6.0</td>\n",
       "      <td>0.0</td>\n",
       "      <td>0.0</td>\n",
       "      <td>2.91</td>\n",
       "      <td>47.0</td>\n",
       "      <td>71.0</td>\n",
       "    </tr>\n",
       "    <tr>\n",
       "      <th>14972</th>\n",
       "      <td>7.0</td>\n",
       "      <td>0.0</td>\n",
       "      <td>0.0</td>\n",
       "      <td>13.42</td>\n",
       "      <td>49.0</td>\n",
       "      <td>73.0</td>\n",
       "    </tr>\n",
       "    <tr>\n",
       "      <th>14973</th>\n",
       "      <td>8.0</td>\n",
       "      <td>0.0</td>\n",
       "      <td>0.0</td>\n",
       "      <td>10.51</td>\n",
       "      <td>53.0</td>\n",
       "      <td>73.0</td>\n",
       "    </tr>\n",
       "    <tr>\n",
       "      <th>14974</th>\n",
       "      <td>9.0</td>\n",
       "      <td>0.0</td>\n",
       "      <td>0.0</td>\n",
       "      <td>4.92</td>\n",
       "      <td>46.0</td>\n",
       "      <td>68.0</td>\n",
       "    </tr>\n",
       "    <tr>\n",
       "      <th>14975</th>\n",
       "      <td>10.0</td>\n",
       "      <td>0.0</td>\n",
       "      <td>0.0</td>\n",
       "      <td>3.58</td>\n",
       "      <td>46.0</td>\n",
       "      <td>70.0</td>\n",
       "    </tr>\n",
       "  </tbody>\n",
       "</table>\n",
       "<p>14976 rows × 6 columns</p>\n",
       "</div>"
      ],
      "text/plain": [
       "       DAY_OF_YEAR  PRECIPITATION  LAGGED_PRECIPITATION  AVG_WIND_SPEED  \\\n",
       "0              1.0            0.0                   0.0            4.70   \n",
       "1              2.0            0.0                   0.0            5.59   \n",
       "2              3.0            0.0                   0.0            5.37   \n",
       "3              4.0            0.0                   0.0            4.70   \n",
       "4              5.0            0.0                   0.0            5.14   \n",
       "...            ...            ...                   ...             ...   \n",
       "14971          6.0            0.0                   0.0            2.91   \n",
       "14972          7.0            0.0                   0.0           13.42   \n",
       "14973          8.0            0.0                   0.0           10.51   \n",
       "14974          9.0            0.0                   0.0            4.92   \n",
       "14975         10.0            0.0                   0.0            3.58   \n",
       "\n",
       "       MIN_TEMP  MAX_TEMP  \n",
       "0          51.0      79.0  \n",
       "1          46.0      71.0  \n",
       "2          47.0      70.0  \n",
       "3          45.0      76.0  \n",
       "4          49.0      74.0  \n",
       "...         ...       ...  \n",
       "14971      47.0      71.0  \n",
       "14972      49.0      73.0  \n",
       "14973      53.0      73.0  \n",
       "14974      46.0      68.0  \n",
       "14975      46.0      70.0  \n",
       "\n",
       "[14976 rows x 6 columns]"
      ]
     },
     "execution_count": 10,
     "metadata": {},
     "output_type": "execute_result"
    }
   ],
   "source": [
    "df"
   ]
  }
 ],
 "metadata": {
  "kernelspec": {
   "display_name": "WP_env",
   "language": "python",
   "name": "python3"
  },
  "language_info": {
   "codemirror_mode": {
    "name": "ipython",
    "version": 3
   },
   "file_extension": ".py",
   "mimetype": "text/x-python",
   "name": "python",
   "nbconvert_exporter": "python",
   "pygments_lexer": "ipython3",
   "version": "3.10.18"
  }
 },
 "nbformat": 4,
 "nbformat_minor": 5
}

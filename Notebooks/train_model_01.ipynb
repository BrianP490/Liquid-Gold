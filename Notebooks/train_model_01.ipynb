{
 "cells": [
  {
   "cell_type": "markdown",
   "id": "b1c7208c",
   "metadata": {},
   "source": [
    "# Creating the Training Pipeline"
   ]
  },
  {
   "cell_type": "markdown",
   "id": "38313aff",
   "metadata": {},
   "source": [
    "## Imports"
   ]
  },
  {
   "cell_type": "code",
   "execution_count": 24,
   "id": "10f3e599",
   "metadata": {},
   "outputs": [],
   "source": [
    "from importlib.metadata import version\n",
    "import pandas as pd\n",
    "import numpy as np\n",
    "from pathlib import Path\n",
    "import os\n",
    "import matplotlib.pyplot as plt\n",
    "from torch.utils.data import Dataset, DataLoader\n",
    "import torch\n",
    "from torch.nn import Module # For type hinting\n",
    "import joblib\n",
    "from sklearn.model_selection import train_test_split\n",
    "from sklearn.preprocessing import MinMaxScaler\n",
    "import time\n",
    "import argparse\n",
    "from tqdm import tqdm\n"
   ]
  },
  {
   "cell_type": "code",
   "execution_count": 2,
   "id": "67a68da6",
   "metadata": {},
   "outputs": [],
   "source": [
    "from importlib.metadata import version"
   ]
  },
  {
   "cell_type": "code",
   "execution_count": 13,
   "id": "22b46b8d",
   "metadata": {},
   "outputs": [
    {
     "name": "stdout",
     "output_type": "stream",
     "text": [
      "pandas version: 2.3.1\n",
      "numpy version: 1.23.5\n",
      "seaborn version: 0.13.2\n",
      "matplotlib version: 3.10.5\n",
      "torch version: 2.5.1\n",
      "joblib version: 1.5.1\n"
     ]
    }
   ],
   "source": [
    "list = ['pandas', 'numpy', 'seaborn', 'matplotlib', 'torch', 'joblib']\n",
    "for package in list:\n",
    "    try:\n",
    "        print(f\"{package} version: {version(package)}\") # Raises PackageNotFoundError if not found\n",
    "    except:\n",
    "         print(f\"❌ Package '{package}' not found. Please install it.\")"
   ]
  },
  {
   "cell_type": "markdown",
   "id": "1bbefac4",
   "metadata": {},
   "source": [
    "## Data Pipeline"
   ]
  },
  {
   "cell_type": "markdown",
   "id": "de220668",
   "metadata": {},
   "source": [
    "### Creating Dataset Class"
   ]
  },
  {
   "cell_type": "code",
   "execution_count": 4,
   "id": "5fdbbdbd",
   "metadata": {},
   "outputs": [],
   "source": [
    "class OilDataset(Dataset):\n",
    "    \"\"\"Dataset class For the OIL_DATASET\"\"\"\n",
    "    def __init__(self, csv_file=\"../Data/DataSplits/test.csv\"):\n",
    "        try:\n",
    "            self.data = pd.read_csv(csv_file)   # Assign a pandas data frame\n",
    "            \n",
    "        except FileNotFoundError:\n",
    "            raise FileNotFoundError(f\"File not found: {csv_file}\")\n",
    "\n",
    "        # Define feature and label columns\n",
    "        self.label_column = \"Close\"\n",
    "        # Remove the Date column and the label column\n",
    "        self.feature_columns = self.data.columns.drop([self.label_column])\n",
    "        \n",
    "\n",
    "    def __getitem__(self, index):\n",
    "        features = self.data.loc[index, self.feature_columns].values\n",
    "        \n",
    "        label = self.data.loc[index, self.label_column] # Extract the label for the given index\n",
    "        return (\n",
    "            torch.tensor(features, dtype=torch.float),\n",
    "            torch.tensor(label, dtype=torch.float)\n",
    "        )\n",
    "\n",
    "    def __len__(self):\n",
    "        return len(self.data)"
   ]
  },
  {
   "cell_type": "markdown",
   "id": "82c9b5c1",
   "metadata": {},
   "source": [
    "### Data Pipeline Function"
   ]
  },
  {
   "cell_type": "code",
   "execution_count": 28,
   "id": "9335a497",
   "metadata": {},
   "outputs": [],
   "source": [
    "def data_pipeline(root_data_dir: str= \"../Data\", data_file_path: str=\"OIL_DATASET.csv\", data_splits_dir: str=\"DataSplits\", scaler_dir = \"Scalers\", batch_size: int=64, num_workers=0, pin_memory: bool=False, drop_last: bool=True) -> tuple[Dataset, Dataset, Dataset, DataLoader, DataLoader, DataLoader, MinMaxScaler, MinMaxScaler]:\n",
    "    \"\"\"This function prepares the train, test, and validation datasets.\n",
    "    Args:\n",
    "        root_data_dir (str): The root of the Data Directory\n",
    "        data_file_path (str): The name of the original dataset (with .csv file extension).\n",
    "        data_splits_dir (str): Path to the train, test, and validation datasets.\n",
    "        scaler_dir (str): Path to the feature and label scalers.\n",
    "        batch_size (int): The dataloader's batch_size.\n",
    "        num_workers (int): The dataloader's number of workers.\n",
    "        pin_memory (bool): The dataloader's pin memory option.\n",
    "        drop_last (bool): The dataloader's drop_last option.\n",
    "\n",
    "    Returns: \n",
    "        train_dataset (Dataset): Dataset Class for the training dataset.\n",
    "        test_dataset (Dataset): Dataset Class for the test dataset.\n",
    "        validation_dataset (Dataset): Dataset Class for the validation dataset.\n",
    "        train_dataloader (DataLoader): The train dataloader.\n",
    "        test_dataloader (DataLoader): The test dataloader.\n",
    "        validation_dataloader (DataLoader): The validation dataloader.\n",
    "        feature_scaler (MinMaxScaler): The scaler used to scale the features of the model input.\n",
    "        label_scaler (MinMaxScaler): The scaler used to scale the labels of the model input.\n",
    "        \"\"\"\n",
    "    if not root_data_dir or not data_file_path or not data_splits_dir:  # Check for empty strings at the beginning\n",
    "        raise ValueError(\"File and directory paths cannot be empty strings.\")\n",
    "    DATA_ROOT = Path(root_data_dir)\n",
    "    # OIL_PATH_ORIGINAL = DATA_ROOT / \"OIL_Dataset_1984-2025.csv\"     # Set the data source path\n",
    "\n",
    "    DATA_CLEAN_PATH = DATA_ROOT / data_file_path # Set the path to the complete dataset\n",
    "\n",
    "    if DATA_CLEAN_PATH.exists():\n",
    "        print(f\"CSV file detected, reading from '{DATA_ROOT}'\")\n",
    "        df = pd.read_csv(DATA_CLEAN_PATH)\n",
    "    else:\n",
    "        print(f\"Downloading CSV file from HuggingFace\")\n",
    "        os.makedirs(DATA_ROOT, exist_ok=True)       # Create the Data Root Directory\n",
    "        df = pd.read_csv(\"hf://datasets/MaxPrestige/CRUDE_OIL_PRICES/Data/OIL_DATASET.csv\")  # Download and read the data into a pandas dataframe\n",
    "        df.to_csv(DATA_CLEAN_PATH, index=False)     # Save the file, omitting saving the index\n",
    "\n",
    "    DATA_SPLITS_DIR = DATA_ROOT / data_splits_dir\n",
    "    SCALER_DIR = DATA_ROOT / scaler_dir\n",
    "\n",
    "    TRAIN_DATA_PATH = DATA_SPLITS_DIR / \"train.csv\"\n",
    "    TEST_DATA_PATH = DATA_SPLITS_DIR / \"test.csv\"\n",
    "    VALIDATION_DATA_PATH = DATA_SPLITS_DIR / \"val.csv\"\n",
    "\n",
    "    FEATURE_SCALER_PATH = SCALER_DIR / \"feature-scaler.joblib\"\n",
    "    LABEL_SCALER_PATH = SCALER_DIR / \"label-scaler.joblib\"\n",
    "\n",
    "    label_col = \"Close\"\n",
    "    extra_dropped_cols = 'Date'\n",
    "\n",
    "    if os.path.exists(TRAIN_DATA_PATH) and os.path.exists(TEST_DATA_PATH) and os.path.exists(VALIDATION_DATA_PATH) :\n",
    "        print(f\"Train, Test, and Validation csv datasets detected in '{DATA_SPLITS_DIR}.' Skipping generation and loading scaler(s)\")\n",
    "        try:\n",
    "            feature_scaler = joblib.load(FEATURE_SCALER_PATH)\n",
    "            label_scaler = joblib.load(LABEL_SCALER_PATH)\n",
    "        except Exception as e:\n",
    "            raise RuntimeError(f\"An unexpected error occurred when loading scalers: {e}\")\n",
    "    else:\n",
    "        print(f\"Datasets not found in '{DATA_SPLITS_DIR}' or incomplete. Generating datasets...\")\n",
    "        # os.makedirs(MODEL_ROOT, exist_ok=True)\n",
    "        os.makedirs(DATA_SPLITS_DIR, exist_ok=True)     # Create the Data Splits Parent Directory\n",
    "        os.makedirs(SCALER_DIR, exist_ok=True)     # Create the Scaler Parent Directory\n",
    "\n",
    "        feature_scaler = MinMaxScaler()\n",
    "        label_scaler = MinMaxScaler()\n",
    "        # Split the Dataframe into separate features and labels DataFrames\n",
    "        df_features = df.drop(columns=[label_col, extra_dropped_cols], inplace=False)\n",
    "        df_labels = df[[label_col]]     # Instead of returning a pandas Series using \"[]\", return a dataframe using the \"[[]]\" to get a shape with (-1,1)\n",
    "\n",
    "        # Split into smaller DataFrames for the Train, Test, and Validation splits\n",
    "        X_train, X_inter, Y_train, Y_inter = train_test_split(df_features, df_labels, test_size=0.1, random_state=42)\n",
    "        X_validation, X_test, Y_validation, Y_test = train_test_split(X_inter, Y_inter, test_size=0.5, random_state=42)\n",
    "\n",
    "        feature_scaler.fit(X_train)\n",
    "        label_scaler.fit(Y_train)\n",
    "\n",
    "        # Save the fitted scaler object\n",
    "        try:\n",
    "            joblib.dump(feature_scaler, FEATURE_SCALER_PATH)\n",
    "            print(f\"Feature scaler stored in: ({FEATURE_SCALER_PATH})\")\n",
    "            joblib.dump(label_scaler, LABEL_SCALER_PATH)\n",
    "            print(f\"Label scaler stored in: ({LABEL_SCALER_PATH})\")\n",
    "        except Exception as e:\n",
    "            raise RuntimeError(f\"An unexpected error occurred when saving  Scalers: {e}\")\n",
    "\n",
    "        # Scale the rest of the data; returns numpy arrays\n",
    "        X_train_scaled = feature_scaler.transform(X_train)\n",
    "        Y_train_scaled = label_scaler.transform(Y_train)\n",
    "        X_validation_scaled = feature_scaler.transform(X_validation)\n",
    "        Y_validation_scaled = label_scaler.transform(Y_validation)\n",
    "        X_test_scaled = feature_scaler.transform(X_test)\n",
    "        Y_test_scaled = label_scaler.transform(Y_test)\n",
    "\n",
    "        print(f\"Train Features Scaled Shape: {X_train_scaled.shape}\")\n",
    "        print(f\"Train Labels Scaled Shape: {Y_test_scaled.shape}\")\n",
    "        print(f\"validation Features Scaled Shape: {X_validation_scaled.shape}\")\n",
    "        print(f\"validation Labels: {Y_validation_scaled.shape}\")\n",
    "        print(f\"test Features Scaled Shape: {X_test_scaled.shape}\")\n",
    "        print(f\"test Labels Scaled Shape: {Y_test_scaled.shape}\")\n",
    "        # Define the column names of the features and label\n",
    "        features_names = df_features.columns\n",
    "        label_name = df_labels.columns\n",
    "        # Create dataframes using the scaled data\n",
    "        X_train_df = pd.DataFrame(X_train_scaled, columns=features_names)\n",
    "        X_test_df = pd.DataFrame(X_test_scaled, columns=features_names)\n",
    "        X_validation_df = pd.DataFrame(X_validation_scaled, columns=features_names)\n",
    "        Y_train_df = pd.DataFrame(Y_train_scaled, columns=label_name)\n",
    "        Y_test_df = pd.DataFrame(Y_test_scaled, columns=label_name)\n",
    "        Y_validation_df = pd.DataFrame(Y_validation_scaled, columns=label_name)\n",
    "\n",
    "        # Concatenate the features and labels back into a single DataFrame for each set\n",
    "        train_data_frame = pd.concat([X_train_df, Y_train_df.reset_index(drop=True)], axis=1)\n",
    "        test_data_frame = pd.concat([X_test_df, Y_test_df.reset_index(drop=True)], axis=1)\n",
    "        validation_data_frame = pd.concat([X_validation_df, Y_validation_df.reset_index(drop=True)], axis=1)\n",
    "\n",
    "        # Saving the split data to csv files\n",
    "        train_data_frame.to_csv(TRAIN_DATA_PATH, index=False)\n",
    "        test_data_frame.to_csv(TEST_DATA_PATH, index=False)\n",
    "        validation_data_frame.to_csv(VALIDATION_DATA_PATH, index=False)\n",
    "    # Creating Datasets from the stored datasets\n",
    "    print(f\"Initializing Datasets\")\n",
    "    train_dataset = OilDataset(TRAIN_DATA_PATH)\n",
    "    test_dataset = OilDataset(TEST_DATA_PATH)\n",
    "    val_dataset = OilDataset(VALIDATION_DATA_PATH)\n",
    "    \n",
    "    print(f\"Creating DataLoaders with batch_size ({batch_size}), num_workers ({num_workers}), pin_memory ({pin_memory}). Training dataset drop_last: ({drop_last})\")\n",
    "    train_dataloader = DataLoader(dataset=train_dataset, batch_size=batch_size, num_workers=num_workers, pin_memory=pin_memory, drop_last=drop_last, shuffle=True)\n",
    "    validation_dataloader = DataLoader(dataset=val_dataset, batch_size=batch_size, num_workers=num_workers, pin_memory=pin_memory, drop_last=drop_last, shuffle=False)\n",
    "    test_dataloader = DataLoader(dataset=test_dataset, batch_size=batch_size, num_workers=num_workers, pin_memory=pin_memory, drop_last=drop_last, shuffle=False)\n",
    "\n",
    "    print(f\"Training DataLoader has ({len(train_dataloader)}) batches, Test DataLoader has ({len(test_dataloader)}) batches, Validation DataLoader has ({len(validation_dataloader)}) batches\")\n",
    "\n",
    "    return (train_dataset, test_dataset, val_dataset, train_dataloader, test_dataloader, validation_dataloader, feature_scaler, label_scaler)"
   ]
  },
  {
   "cell_type": "code",
   "execution_count": 38,
   "id": "3838d663",
   "metadata": {},
   "outputs": [
    {
     "name": "stdout",
     "output_type": "stream",
     "text": [
      "CSV file detected, reading from '..\\Data'\n",
      "Train, Test, and Validation csv datasets detected in '..\\Data\\DataSplits.' Skipping generation and loading scaler(s)\n",
      "Initializing Datasets\n",
      "Creating DataLoaders with batch_size (64), num_workers (0), pin_memory (False). Training dataset drop_last: (True)\n",
      "Training DataLoader has (89) batches, Test DataLoader has (4) batches, Validation DataLoader has (4) batches\n"
     ]
    }
   ],
   "source": [
    "try:\n",
    "    data_pipeline(root_data_dir=\"../Data\", data_file_path=\"OIL_DATASET.csv\", data_splits_dir=\"DataSplits\")\n",
    "except Exception as e:\n",
    "    raise RuntimeError(f\"An unexpected error occurred when running the data pipeline function:{e}\")"
   ]
  },
  {
   "cell_type": "markdown",
   "id": "60e203af",
   "metadata": {},
   "source": [
    "## Agent Architecture"
   ]
  },
  {
   "cell_type": "markdown",
   "id": "090e22b8",
   "metadata": {},
   "source": [
    "### Module Layer"
   ]
  },
  {
   "cell_type": "code",
   "execution_count": null,
   "id": "955cfcea",
   "metadata": {},
   "outputs": [],
   "source": [
    "class ModuleLayer(torch.nn.Module):\n",
    "    \"\"\"Class for the individual layer blocks.\"\"\"\n",
    "    def __init__(self, intermediate_dim=32, dropout_rate=0.1):\n",
    "        super().__init__()\n",
    "        self.mod_linear = torch.nn.Linear(intermediate_dim, intermediate_dim)\n",
    "        self.mod_norm = torch.nn.LayerNorm(normalized_shape=intermediate_dim)\n",
    "        self.mod_relu = torch.nn.ReLU()\n",
    "        self.dropout = torch.nn.Dropout(p=dropout_rate)\n",
    "\n",
    "    def forward(self, x):\n",
    "        x = self.mod_linear(x)\n",
    "        x = self.mod_norm(x)\n",
    "        x = self.mod_relu(x)\n",
    "        x = self.dropout(x)\n",
    "        return x"
   ]
  },
  {
   "cell_type": "markdown",
   "id": "83a9c2e5",
   "metadata": {},
   "source": [
    "### Oil Agent"
   ]
  },
  {
   "cell_type": "code",
   "execution_count": 34,
   "id": "0898fff8",
   "metadata": {},
   "outputs": [],
   "source": [
    "class Agent(torch.nn.Module):\n",
    "    \"\"\"Class for Agent Structure using multiple Layer Blocks.\"\"\"\n",
    "    def __init__(self, cfg):\n",
    "        super().__init__()\n",
    "        self.linear = torch.nn.Linear(in_features=cfg[\"in_dim\"], out_features=cfg[\"intermediate_dim\"])\n",
    "        self.layers = torch.nn.Sequential(*[ModuleLayer(intermediate_dim=cfg[\"intermediate_dim\"], dropout_rate=cfg[\"dropout_rate\"]) for _ in range(cfg[\"num_blocks\"])])\n",
    "        self.out = torch.nn.Linear(in_features=cfg[\"intermediate_dim\"], out_features=cfg[\"out_dim\"])\n",
    "\n",
    "    def forward(self, x):\n",
    "        x = self.linear(x)\n",
    "        x = self.layers(x)\n",
    "        x = self.out(x)\n",
    "        return x"
   ]
  },
  {
   "cell_type": "markdown",
   "id": "619b1106",
   "metadata": {},
   "source": [
    "## Helper Functions"
   ]
  },
  {
   "cell_type": "markdown",
   "id": "7cbf679b",
   "metadata": {},
   "source": [
    "### Log Iteration Functions"
   ]
  },
  {
   "cell_type": "code",
   "execution_count": 17,
   "id": "a05d5d4c",
   "metadata": {},
   "outputs": [],
   "source": [
    "def log_iteration(batch_idx: int, total_batches: int, loss_value: float):\n",
    "    \"\"\"Logs the loss of the current batch.\"\"\"\n",
    "    print(f\"Epoch batch [{batch_idx}/{total_batches}] | Loss: {loss_value:.7f}\")"
   ]
  },
  {
   "cell_type": "code",
   "execution_count": 20,
   "id": "162971a7",
   "metadata": {},
   "outputs": [],
   "source": [
    "def log_epoch_iteration(epoch: int, avg_epoch_loss: float):\n",
    "    \"\"\"Log Current Metrics accumulated in the current epoch iteration.\n",
    "    Args:\n",
    "        epoch (int): the current iteration\n",
    "        avg_epoch_loss (float): The average loss of the current epoch\n",
    "    Returns:\n",
    "        N/A\n",
    "        \"\"\"\n",
    "    if avg_epoch_loss:\n",
    "        print(f\"=====================  [EPOCH ({epoch}) LOGGING]  =====================\")\n",
    "        print(\"| AVERAGES of THIS EPOCH:\")\n",
    "        print(f\"| ACCUMULATED LOSS: {avg_epoch_loss:.7f}\")\n",
    "        print(f\"===========================================================\")\n",
    "    \n",
    "    else:\n",
    "        print(\"No Data collected for this epoch to log\")"
   ]
  },
  {
   "cell_type": "markdown",
   "id": "6b44d5f8",
   "metadata": {},
   "source": [
    "### Evaluate Model Function"
   ]
  },
  {
   "cell_type": "code",
   "execution_count": 21,
   "id": "58184545",
   "metadata": {},
   "outputs": [],
   "source": [
    "def evaluate_model(model: Module, dataloader: DataLoader, current_epoch: int = None, max_epochs: int=None, device: str = 'cpu') -> float:\n",
    "    \"\"\"\n",
    "    Evaluates the model on a given dataset and returns the average loss.\n",
    "    Args:\n",
    "        model (Module): The Model.\n",
    "        dataloader (DataLoader): The dataloader to calculate average loss with.\n",
    "        current_epoch (int): The current epoch [optional].\n",
    "        max_epochs (int): The maximum number of epochs [optional].\n",
    "        device (str): The device that the calculations will take place on.\n",
    "    Returns:\n",
    "        avg_loss (float): The calculated average loss.\n",
    "    \"\"\"\n",
    "    model.eval()\n",
    "    total_loss = 0.0\n",
    "    # loss_fn = torch.nn.MELoss(reduction='sum') # Use reduction='sum' instead of 'mean' for total loss\n",
    "    loss_fn = torch.nn.L1Loss(reduction='sum')\n",
    "    if len(dataloader.dataset) == 0:\n",
    "        print(\"Warning: Evaluation dataset is empty. Skipping evaluation.\")\n",
    "        return float('nan')\n",
    "    \n",
    "    with torch.no_grad():\n",
    "        for batch_inputs, batch_labels in dataloader:\n",
    "            batch_inputs, batch_labels = batch_inputs.to(device), batch_labels.unsqueeze(dim=-1).to(device)\n",
    "            outputs = model(batch_inputs)\n",
    "            loss = loss_fn(outputs, batch_labels)\n",
    "            total_loss += loss.item()\n",
    "    \n",
    "    avg_loss = total_loss / len(dataloader.dataset)     # Calculate the average loss on the dataset\n",
    "\n",
    "    if current_epoch and max_epochs:   # If the function was called in the training loop\n",
    "        print(f\"===================  [Epoch ({current_epoch}/{max_epochs})]  ===================\")\n",
    "        print(f\"Entire Validation Dataset Average Loss: {avg_loss:.4f}\")\n",
    "        print(f\"====================================================\")\n",
    "\n",
    "    else:   # If the function was called outside of the training loop\n",
    "        print(f\"===============================================\")\n",
    "        print(f\"Entire Dataset Average Loss: {avg_loss:.4f} \")\n",
    "        print(f\"=====================================================\")\n",
    "            \n",
    "    return avg_loss"
   ]
  },
  {
   "cell_type": "markdown",
   "id": "f44fbd9d",
   "metadata": {},
   "source": [
    "### Training Function"
   ]
  },
  {
   "cell_type": "code",
   "execution_count": 32,
   "id": "591d5dbb",
   "metadata": {},
   "outputs": [],
   "source": [
    "def train_model(model_config: dict, train_dataloader: DataLoader, validation_dataloader: DataLoader, model: Agent = None, epochs=32, learning_rate=0.0003, max_grad_norm=0.5, log_iterations=10, eval_iterations=10, device=\"cpu\") -> Agent:\n",
    "    \"\"\"The Model Training function.\n",
    "\n",
    "    Args:\n",
    "        model_config (dict): The base configurations for building the policies.\n",
    "        train_dataloader (DataLoader): The dataloader for the training loop.\n",
    "        validation_dataloader (DataLoader): The dataloader for the validation loop.\n",
    "        model (Agent): The model to be trained.\n",
    "        epochs (int): The number of times the outer loop is performed.\n",
    "        learning_rate (float): The hyperparameter that affects how much the model's parameters learn on each update iteration.\n",
    "        max_grad_norm (float): Used to promote numerical stability and prevent exploding gradients.\n",
    "        log_iterations (int): Used to log information about the state of the Agent.\n",
    "        eval_iterations (int): Used to run an evaluation of the Agent.\n",
    "        device (str): The device that the model will be trained on.\n",
    "\n",
    "    Returns: \n",
    "        agent (Module): The Trained Model in evaluation mode.\n",
    "    \"\"\"\n",
    "    print(f\"Training Model on {device} with {epochs} main epochs, {learning_rate} learning rate, max_grad_norm={max_grad_norm}.\")\n",
    "    print(f\"Logging every {log_iterations} epoch iterations, evaluating every {eval_iterations} epoch iterations.\")\n",
    "\n",
    "    agent = (model if model is not None else Agent(model_config)).to(device) # Create agent if nothing was passed, otherwise, create the agent. Send agent to device.\n",
    "\n",
    "    optimizer = torch.optim.AdamW(params=agent.parameters(), lr=learning_rate, weight_decay=0.01)\n",
    "    loss_fn = torch.nn.L1Loss(reduction='mean')      # Define the Loss function\n",
    "\n",
    "\n",
    "    history = {'train_loss': [], 'val_loss': []}\n",
    "\n",
    "    train_dataloader_length = len(train_dataloader)\n",
    "    agent.train()   # Set agent to training mode\n",
    "    for epoch in tqdm(range(epochs), desc=f\">>>>>>>>>>>>>>>>>>>>>\\nMain Epoch (Outer Loop)\", leave=True):\n",
    "\n",
    "        epoch_loss_total = 0.0\n",
    "        for batch_idx, (inputs, labels) in enumerate(tqdm(train_dataloader, desc=f\"Epoch {epoch + 1}/{epochs} - Training\", leave=False)):           # Get a mini-batch of training examples from the dataloader\n",
    "            # optimizer.zero_grad(set_to_none=True)       # Clear the gradients built up; Setting to None to improve performance\n",
    "            optimizer.zero_grad()       # Clear the gradients built up; Setting to None to improve performance\n",
    "\n",
    "            inputs, labels = inputs.to(device), labels.unsqueeze(dim=-1).to(device)   # Move the inputs and labels to the device\n",
    "\n",
    "            agent_outputs = agent(inputs)       # Pass the inputs to the model and get the outputs.\n",
    "\n",
    "            loss = loss_fn(agent_outputs, labels)      # Calculate the mini-batch loss\n",
    "            epoch_loss_total += loss.item()\n",
    "            \n",
    "            loss.backward()         # Calculate the loss with respect to the model parameters\n",
    "            torch.nn.utils.clip_grad_norm_(parameters=agent.parameters(), max_norm=max_grad_norm)   # Prevent the gradients from affecting the model parameters too much and reduce the risk of exploding gradients\n",
    "\n",
    "            optimizer.step()      # Update the model's parameters using the learning rate\n",
    "\n",
    "            # LOGGING LOSS OF CURRENT ITERATION\n",
    "            if (batch_idx + 1) % log_iterations == 0:\n",
    "                log_iteration(batch_idx=(batch_idx + 1), total_batches=train_dataloader_length, loss_value=loss.item())\n",
    "\n",
    "        # CALCULATE AND STORE THE AVERAGE EPOCH LOSS\n",
    "        epoch_avg_loss = epoch_loss_total / train_dataloader_length\n",
    "        history[\"train_loss\"].append(epoch_avg_loss)\n",
    "\n",
    "        # LOG THE AVERAGE LOSS OF THE EPOCH\n",
    "        log_epoch_iteration(epoch=epoch, avg_epoch_loss=epoch_avg_loss)\n",
    "\n",
    "        # EVALUATE THE MODEL\n",
    "        if (epoch + 1) % eval_iterations == 0:\n",
    "            val_loss = evaluate_model(model=agent, dataloader=validation_dataloader, current_epoch=(epoch + 1), max_epochs=epochs, device=device)\n",
    "            history[\"val_loss\"].append(val_loss)\n",
    "            agent.train()   # Set agent to training mode\n",
    "        \n",
    "    return agent.eval(), history"
   ]
  },
  {
   "cell_type": "markdown",
   "id": "d0f61270",
   "metadata": {},
   "source": [
    "## Main Loop"
   ]
  },
  {
   "cell_type": "code",
   "execution_count": null,
   "id": "8249c7d3",
   "metadata": {},
   "outputs": [],
   "source": [
    "def main(args) -> int:\n",
    "    print(\"SETTING UP FOR TRAINING\")\n",
    "    \n",
    "    if args.device:     # Check if the user specified to use a CPU or GPU for training\n",
    "        device = args.device\n",
    "    else:\n",
    "        if args.use_cuda:   # Check if the user wanted to use CUDA if available.\n",
    "            device = torch.device(\"cuda\" if torch.cuda.is_available() else \"cpu\")\n",
    "\n",
    "    SAVE_LOCATION = \"./models/Agent.pt\"   # Define the model path and name of the trained model weights\n",
    "\n",
    "    BASE_CONFIG={\n",
    "    \"in_dim\": 22,    # Number of Features as input\n",
    "    \"intermediate_dim\": 128,    \n",
    "    \"out_dim\": 1,   \n",
    "    \"num_blocks\": 12,   # Number of reapeating Layer Blocks\n",
    "    \"dropout_rate\": 0.1     # Rate for dropout layer\n",
    "}\n",
    "\n",
    "    # --- Data Preparation Pipeline --- \n",
    "    try:\n",
    "        (train_dataset, test_dataset, validation_dataset, train_dataloader, test_dataloader, validation_dataloader, feature_scaler, label_scaler) = data_pipeline(batch_size=args.dataloader_batch_size)\n",
    "    except ValueError as e:\n",
    "        print(f\"Caught an error: {e}\")\n",
    "\n",
    "    print(\"BEGINNING TRAINING SCRIPT\")\n",
    "    start_time=time.time()\n",
    "\n",
    "    trained_policy, training_history = train_model(\n",
    "        model_config=BASE_CONFIG,\n",
    "        train_dataloader=train_dataloader,\n",
    "        validation_dataloader=validation_dataloader,\n",
    "        model=None,     # Create new model\n",
    "        epochs=args.epochs,\n",
    "        learning_rate=args.learning_rate,\n",
    "        max_grad_norm=args.max_grad_norm,\n",
    "        log_iterations=args.log_iterations,\n",
    "        eval_iterations=args.eval_iterations,\n",
    "        device=device,\n",
    "    )\n",
    "    end_time=time.time()\n",
    "\n",
    "    # --- Calculate Training Time --- \n",
    "\n",
    "    elapsed_time= end_time - start_time\n",
    "    hrs = int(elapsed_time / 3600)\n",
    "    min = int((elapsed_time % 3600) / 60)\n",
    "    seconds_remaining = elapsed_time - (hrs * 3600 ) - (min * 60)\n",
    "\n",
    "    print(f\"FINISHED MODEL TRAINING. \\nTRAINING TOOK: {hrs} Hours, {min} Minutes, and {seconds_remaining:.3f} Seconds\")\n",
    "\n",
    "    # --- Testing Trained Model --- \n",
    "    print(\"\\nTESTING THE TRAINED POLICY:\")\n",
    "    test_loss = evaluate_model(model=trained_policy, dataloader=test_dataloader, current_epoch=None, max_epochs=None, device='cpu')\n",
    "\n",
    "    # ---  Saving Model Section  ---   \n",
    "\n",
    "    if args.save_model:     # Check if the user wants to save the trained model weights\n",
    "        if args.model_output_path:     # Check if the user specified a target save location\n",
    "            SAVE_LOCATION=args.model_output_path\n",
    "\n",
    "        parent_dir = os.path.dirname(SAVE_LOCATION)\n",
    "\n",
    "        # If parent_dir is empty, it means the SAVE_LOCATION is just a filename\n",
    "        # in the current directory, so no new directories need to be created.\n",
    "        if parent_dir and parent_dir != '.':\n",
    "            try:\n",
    "                os.makedirs(parent_dir, exist_ok=True)\n",
    "                print(f\"Parent directory '{parent_dir}' created to store the model.\")\n",
    "            except OSError as e:\n",
    "                print(f\"Error creating directory {parent_dir}: {e}\")\n",
    "                SAVE_LOCATION='model.pt'      # Fall back to a default save location if problem occurs.\n",
    "        \n",
    "        try:\n",
    "            torch.save(trained_policy.state_dict(), f=SAVE_LOCATION)\n",
    "            print(f\"Model weights saved in: {SAVE_LOCATION}\")\n",
    "        except Exception as e:\n",
    "            print(f\"Error saving model to {SAVE_LOCATION}: {e}\")\n",
    "\n",
    "    return 0"
   ]
  },
  {
   "cell_type": "code",
   "execution_count": 37,
   "id": "3bef96e7",
   "metadata": {},
   "outputs": [
    {
     "name": "stdout",
     "output_type": "stream",
     "text": [
      "Namespace(epochs=256, learning_rate=0.003, max_grad_norm=3.0, dataloader_batch_size=64, dataloader_pin_memory=True, dataloader_num_workers=0, log_iterations=256, eval_iterations=64, use_cuda=False, device='cpu', save_model=True, model_output_path='models/Weather-Agent_01.pt')\n",
      "SETTING UP FOR TRAINING\n",
      "CSV file detected, reading from '..\\Data'\n",
      "Train, Test, and Validation csv datasets detected in '..\\Data\\DataSplits.' Skipping generation and loading scaler(s)\n",
      "Initializing Datasets\n",
      "Creating DataLoaders with batch_size (64), num_workers (0), pin_memory (False). Training dataset drop_last: (True)\n",
      "Training DataLoader has (89) batches, Test DataLoader has (4) batches, Validation DataLoader has (4) batches\n",
      "BEGINNING TRAINING SCRIPT\n",
      "Training Model on cpu with 256 main epochs, 0.003 learning rate, max_grad_norm=3.0.\n",
      "Logging every 256 epoch iterations, evaluating every 64 epoch iterations.\n"
     ]
    },
    {
     "name": "stderr",
     "output_type": "stream",
     "text": [
      ">>>>>>>>>>>>>>>>>>>>>\n",
      ">>>>>>>>>>>>>>>>>>>>>p):   0%|          | 0/256 [00:00<?, ?it/s]\n",
      "Main Epoch (Outer Loop):   0%|          | 1/256 [00:02<08:33,  2.01s/it]"
     ]
    },
    {
     "name": "stdout",
     "output_type": "stream",
     "text": [
      "=====================  [EPOCH (0) LOGGING]  =====================\n",
      "| AVERAGES of THIS EPOCH:\n",
      "| ACCUMULATED LOSS: 0.2078976\n",
      "===========================================================\n"
     ]
    },
    {
     "name": "stderr",
     "output_type": "stream",
     "text": [
      ">>>>>>>>>>>>>>>>>>>>>\n",
      "Main Epoch (Outer Loop):   1%|          | 2/256 [00:03<07:59,  1.89s/it]"
     ]
    },
    {
     "name": "stdout",
     "output_type": "stream",
     "text": [
      "=====================  [EPOCH (1) LOGGING]  =====================\n",
      "| AVERAGES of THIS EPOCH:\n",
      "| ACCUMULATED LOSS: 0.1812691\n",
      "===========================================================\n"
     ]
    },
    {
     "name": "stderr",
     "output_type": "stream",
     "text": [
      ">>>>>>>>>>>>>>>>>>>>>\n",
      "Main Epoch (Outer Loop):   1%|          | 3/256 [00:05<07:54,  1.87s/it]"
     ]
    },
    {
     "name": "stdout",
     "output_type": "stream",
     "text": [
      "=====================  [EPOCH (2) LOGGING]  =====================\n",
      "| AVERAGES of THIS EPOCH:\n",
      "| ACCUMULATED LOSS: 0.1794794\n",
      "===========================================================\n"
     ]
    },
    {
     "name": "stderr",
     "output_type": "stream",
     "text": [
      ">>>>>>>>>>>>>>>>>>>>>\n",
      "Main Epoch (Outer Loop):   2%|▏         | 4/256 [00:07<07:55,  1.89s/it]"
     ]
    },
    {
     "name": "stdout",
     "output_type": "stream",
     "text": [
      "=====================  [EPOCH (3) LOGGING]  =====================\n",
      "| AVERAGES of THIS EPOCH:\n",
      "| ACCUMULATED LOSS: 0.1796704\n",
      "===========================================================\n"
     ]
    },
    {
     "name": "stderr",
     "output_type": "stream",
     "text": [
      ">>>>>>>>>>>>>>>>>>>>>\n",
      "Main Epoch (Outer Loop):   2%|▏         | 5/256 [00:09<07:36,  1.82s/it]"
     ]
    },
    {
     "name": "stdout",
     "output_type": "stream",
     "text": [
      "=====================  [EPOCH (4) LOGGING]  =====================\n",
      "| AVERAGES of THIS EPOCH:\n",
      "| ACCUMULATED LOSS: 0.1795080\n",
      "===========================================================\n"
     ]
    },
    {
     "name": "stderr",
     "output_type": "stream",
     "text": [
      ">>>>>>>>>>>>>>>>>>>>>\n",
      "Main Epoch (Outer Loop):   2%|▏         | 6/256 [00:11<07:27,  1.79s/it]"
     ]
    },
    {
     "name": "stdout",
     "output_type": "stream",
     "text": [
      "=====================  [EPOCH (5) LOGGING]  =====================\n",
      "| AVERAGES of THIS EPOCH:\n",
      "| ACCUMULATED LOSS: 0.1793922\n",
      "===========================================================\n"
     ]
    },
    {
     "name": "stderr",
     "output_type": "stream",
     "text": [
      ">>>>>>>>>>>>>>>>>>>>>\n",
      "Main Epoch (Outer Loop):   3%|▎         | 7/256 [00:12<07:25,  1.79s/it]"
     ]
    },
    {
     "name": "stdout",
     "output_type": "stream",
     "text": [
      "=====================  [EPOCH (6) LOGGING]  =====================\n",
      "| AVERAGES of THIS EPOCH:\n",
      "| ACCUMULATED LOSS: 0.1777634\n",
      "===========================================================\n"
     ]
    },
    {
     "name": "stderr",
     "output_type": "stream",
     "text": [
      ">>>>>>>>>>>>>>>>>>>>>\n",
      "Main Epoch (Outer Loop):   3%|▎         | 8/256 [00:14<07:21,  1.78s/it]"
     ]
    },
    {
     "name": "stdout",
     "output_type": "stream",
     "text": [
      "=====================  [EPOCH (7) LOGGING]  =====================\n",
      "| AVERAGES of THIS EPOCH:\n",
      "| ACCUMULATED LOSS: 0.1775900\n",
      "===========================================================\n"
     ]
    },
    {
     "name": "stderr",
     "output_type": "stream",
     "text": [
      ">>>>>>>>>>>>>>>>>>>>>\n",
      "Main Epoch (Outer Loop):   4%|▎         | 9/256 [00:16<07:25,  1.80s/it]"
     ]
    },
    {
     "name": "stdout",
     "output_type": "stream",
     "text": [
      "=====================  [EPOCH (8) LOGGING]  =====================\n",
      "| AVERAGES of THIS EPOCH:\n",
      "| ACCUMULATED LOSS: 0.1785001\n",
      "===========================================================\n"
     ]
    },
    {
     "name": "stderr",
     "output_type": "stream",
     "text": [
      ">>>>>>>>>>>>>>>>>>>>>\n",
      "Main Epoch (Outer Loop):   4%|▍         | 10/256 [00:18<07:45,  1.89s/it]"
     ]
    },
    {
     "name": "stdout",
     "output_type": "stream",
     "text": [
      "=====================  [EPOCH (9) LOGGING]  =====================\n",
      "| AVERAGES of THIS EPOCH:\n",
      "| ACCUMULATED LOSS: 0.1788258\n",
      "===========================================================\n"
     ]
    },
    {
     "name": "stderr",
     "output_type": "stream",
     "text": [
      ">>>>>>>>>>>>>>>>>>>>>\n",
      "Main Epoch (Outer Loop):   4%|▍         | 11/256 [00:20<07:40,  1.88s/it]"
     ]
    },
    {
     "name": "stdout",
     "output_type": "stream",
     "text": [
      "=====================  [EPOCH (10) LOGGING]  =====================\n",
      "| AVERAGES of THIS EPOCH:\n",
      "| ACCUMULATED LOSS: 0.1783075\n",
      "===========================================================\n"
     ]
    },
    {
     "name": "stderr",
     "output_type": "stream",
     "text": [
      ">>>>>>>>>>>>>>>>>>>>>\n",
      "Main Epoch (Outer Loop):   5%|▍         | 12/256 [00:22<07:41,  1.89s/it]"
     ]
    },
    {
     "name": "stdout",
     "output_type": "stream",
     "text": [
      "=====================  [EPOCH (11) LOGGING]  =====================\n",
      "| AVERAGES of THIS EPOCH:\n",
      "| ACCUMULATED LOSS: 0.1781379\n",
      "===========================================================\n"
     ]
    },
    {
     "name": "stderr",
     "output_type": "stream",
     "text": [
      ">>>>>>>>>>>>>>>>>>>>>\n",
      "Main Epoch (Outer Loop):   5%|▌         | 13/256 [00:24<07:34,  1.87s/it]"
     ]
    },
    {
     "name": "stdout",
     "output_type": "stream",
     "text": [
      "=====================  [EPOCH (12) LOGGING]  =====================\n",
      "| AVERAGES of THIS EPOCH:\n",
      "| ACCUMULATED LOSS: 0.1790366\n",
      "===========================================================\n"
     ]
    },
    {
     "name": "stderr",
     "output_type": "stream",
     "text": [
      ">>>>>>>>>>>>>>>>>>>>>\n",
      "Main Epoch (Outer Loop):   5%|▌         | 14/256 [00:25<07:30,  1.86s/it]"
     ]
    },
    {
     "name": "stdout",
     "output_type": "stream",
     "text": [
      "=====================  [EPOCH (13) LOGGING]  =====================\n",
      "| AVERAGES of THIS EPOCH:\n",
      "| ACCUMULATED LOSS: 0.1783307\n",
      "===========================================================\n"
     ]
    },
    {
     "name": "stderr",
     "output_type": "stream",
     "text": [
      ">>>>>>>>>>>>>>>>>>>>>\n",
      "Main Epoch (Outer Loop):   6%|▌         | 15/256 [00:27<07:34,  1.88s/it]"
     ]
    },
    {
     "name": "stdout",
     "output_type": "stream",
     "text": [
      "=====================  [EPOCH (14) LOGGING]  =====================\n",
      "| AVERAGES of THIS EPOCH:\n",
      "| ACCUMULATED LOSS: 0.1787058\n",
      "===========================================================\n"
     ]
    },
    {
     "name": "stderr",
     "output_type": "stream",
     "text": [
      ">>>>>>>>>>>>>>>>>>>>>\n",
      "Main Epoch (Outer Loop):   6%|▋         | 16/256 [00:29<07:30,  1.88s/it]"
     ]
    },
    {
     "name": "stdout",
     "output_type": "stream",
     "text": [
      "=====================  [EPOCH (15) LOGGING]  =====================\n",
      "| AVERAGES of THIS EPOCH:\n",
      "| ACCUMULATED LOSS: 0.1784489\n",
      "===========================================================\n"
     ]
    },
    {
     "name": "stderr",
     "output_type": "stream",
     "text": [
      ">>>>>>>>>>>>>>>>>>>>>\n",
      "Main Epoch (Outer Loop):   7%|▋         | 17/256 [00:31<07:25,  1.87s/it]"
     ]
    },
    {
     "name": "stdout",
     "output_type": "stream",
     "text": [
      "=====================  [EPOCH (16) LOGGING]  =====================\n",
      "| AVERAGES of THIS EPOCH:\n",
      "| ACCUMULATED LOSS: 0.1775800\n",
      "===========================================================\n"
     ]
    },
    {
     "name": "stderr",
     "output_type": "stream",
     "text": [
      ">>>>>>>>>>>>>>>>>>>>>\n",
      "Main Epoch (Outer Loop):   7%|▋         | 18/256 [00:33<07:17,  1.84s/it]"
     ]
    },
    {
     "name": "stdout",
     "output_type": "stream",
     "text": [
      "=====================  [EPOCH (17) LOGGING]  =====================\n",
      "| AVERAGES of THIS EPOCH:\n",
      "| ACCUMULATED LOSS: 0.1781208\n",
      "===========================================================\n"
     ]
    },
    {
     "name": "stderr",
     "output_type": "stream",
     "text": [
      ">>>>>>>>>>>>>>>>>>>>>\n",
      "Main Epoch (Outer Loop):   7%|▋         | 19/256 [00:35<07:19,  1.85s/it]"
     ]
    },
    {
     "name": "stdout",
     "output_type": "stream",
     "text": [
      "=====================  [EPOCH (18) LOGGING]  =====================\n",
      "| AVERAGES of THIS EPOCH:\n",
      "| ACCUMULATED LOSS: 0.1772807\n",
      "===========================================================\n"
     ]
    },
    {
     "name": "stderr",
     "output_type": "stream",
     "text": [
      ">>>>>>>>>>>>>>>>>>>>>\n",
      "Main Epoch (Outer Loop):   8%|▊         | 20/256 [00:37<07:11,  1.83s/it]"
     ]
    },
    {
     "name": "stdout",
     "output_type": "stream",
     "text": [
      "=====================  [EPOCH (19) LOGGING]  =====================\n",
      "| AVERAGES of THIS EPOCH:\n",
      "| ACCUMULATED LOSS: 0.1773250\n",
      "===========================================================\n"
     ]
    },
    {
     "name": "stderr",
     "output_type": "stream",
     "text": [
      ">>>>>>>>>>>>>>>>>>>>>\n",
      "Main Epoch (Outer Loop):   8%|▊         | 21/256 [00:38<07:19,  1.87s/it]"
     ]
    },
    {
     "name": "stdout",
     "output_type": "stream",
     "text": [
      "=====================  [EPOCH (20) LOGGING]  =====================\n",
      "| AVERAGES of THIS EPOCH:\n",
      "| ACCUMULATED LOSS: 0.1775334\n",
      "===========================================================\n"
     ]
    },
    {
     "name": "stderr",
     "output_type": "stream",
     "text": [
      ">>>>>>>>>>>>>>>>>>>>>\n",
      "Main Epoch (Outer Loop):   9%|▊         | 22/256 [00:40<07:23,  1.89s/it]"
     ]
    },
    {
     "name": "stdout",
     "output_type": "stream",
     "text": [
      "=====================  [EPOCH (21) LOGGING]  =====================\n",
      "| AVERAGES of THIS EPOCH:\n",
      "| ACCUMULATED LOSS: 0.1772145\n",
      "===========================================================\n"
     ]
    },
    {
     "name": "stderr",
     "output_type": "stream",
     "text": [
      ">>>>>>>>>>>>>>>>>>>>>\n",
      "Main Epoch (Outer Loop):   9%|▉         | 23/256 [00:42<07:23,  1.91s/it]"
     ]
    },
    {
     "name": "stdout",
     "output_type": "stream",
     "text": [
      "=====================  [EPOCH (22) LOGGING]  =====================\n",
      "| AVERAGES of THIS EPOCH:\n",
      "| ACCUMULATED LOSS: 0.1768245\n",
      "===========================================================\n"
     ]
    },
    {
     "name": "stderr",
     "output_type": "stream",
     "text": [
      ">>>>>>>>>>>>>>>>>>>>>\n",
      "Main Epoch (Outer Loop):   9%|▉         | 24/256 [00:44<07:14,  1.87s/it]"
     ]
    },
    {
     "name": "stdout",
     "output_type": "stream",
     "text": [
      "=====================  [EPOCH (23) LOGGING]  =====================\n",
      "| AVERAGES of THIS EPOCH:\n",
      "| ACCUMULATED LOSS: 0.1775246\n",
      "===========================================================\n"
     ]
    },
    {
     "name": "stderr",
     "output_type": "stream",
     "text": [
      ">>>>>>>>>>>>>>>>>>>>>\n",
      "Main Epoch (Outer Loop):  10%|▉         | 25/256 [00:46<07:12,  1.87s/it]"
     ]
    },
    {
     "name": "stdout",
     "output_type": "stream",
     "text": [
      "=====================  [EPOCH (24) LOGGING]  =====================\n",
      "| AVERAGES of THIS EPOCH:\n",
      "| ACCUMULATED LOSS: 0.1779064\n",
      "===========================================================\n"
     ]
    },
    {
     "name": "stderr",
     "output_type": "stream",
     "text": [
      ">>>>>>>>>>>>>>>>>>>>>\n",
      "Main Epoch (Outer Loop):  10%|█         | 26/256 [00:48<07:14,  1.89s/it]"
     ]
    },
    {
     "name": "stdout",
     "output_type": "stream",
     "text": [
      "=====================  [EPOCH (25) LOGGING]  =====================\n",
      "| AVERAGES of THIS EPOCH:\n",
      "| ACCUMULATED LOSS: 0.1775110\n",
      "===========================================================\n"
     ]
    },
    {
     "name": "stderr",
     "output_type": "stream",
     "text": [
      ">>>>>>>>>>>>>>>>>>>>>\n",
      "Main Epoch (Outer Loop):  11%|█         | 27/256 [00:50<07:09,  1.87s/it]"
     ]
    },
    {
     "name": "stdout",
     "output_type": "stream",
     "text": [
      "=====================  [EPOCH (26) LOGGING]  =====================\n",
      "| AVERAGES of THIS EPOCH:\n",
      "| ACCUMULATED LOSS: 0.1768823\n",
      "===========================================================\n"
     ]
    },
    {
     "name": "stderr",
     "output_type": "stream",
     "text": [
      ">>>>>>>>>>>>>>>>>>>>>\n",
      "Main Epoch (Outer Loop):  11%|█         | 28/256 [00:52<07:10,  1.89s/it]"
     ]
    },
    {
     "name": "stdout",
     "output_type": "stream",
     "text": [
      "=====================  [EPOCH (27) LOGGING]  =====================\n",
      "| AVERAGES of THIS EPOCH:\n",
      "| ACCUMULATED LOSS: 0.1774619\n",
      "===========================================================\n"
     ]
    },
    {
     "name": "stderr",
     "output_type": "stream",
     "text": [
      ">>>>>>>>>>>>>>>>>>>>>\n",
      "Main Epoch (Outer Loop):  11%|█▏        | 29/256 [00:54<07:08,  1.89s/it]"
     ]
    },
    {
     "name": "stdout",
     "output_type": "stream",
     "text": [
      "=====================  [EPOCH (28) LOGGING]  =====================\n",
      "| AVERAGES of THIS EPOCH:\n",
      "| ACCUMULATED LOSS: 0.1768717\n",
      "===========================================================\n"
     ]
    },
    {
     "name": "stderr",
     "output_type": "stream",
     "text": [
      ">>>>>>>>>>>>>>>>>>>>>\n",
      "Main Epoch (Outer Loop):  12%|█▏        | 30/256 [00:55<07:05,  1.88s/it]"
     ]
    },
    {
     "name": "stdout",
     "output_type": "stream",
     "text": [
      "=====================  [EPOCH (29) LOGGING]  =====================\n",
      "| AVERAGES of THIS EPOCH:\n",
      "| ACCUMULATED LOSS: 0.1775331\n",
      "===========================================================\n"
     ]
    },
    {
     "name": "stderr",
     "output_type": "stream",
     "text": [
      ">>>>>>>>>>>>>>>>>>>>>\n",
      "Main Epoch (Outer Loop):  12%|█▏        | 31/256 [00:57<07:07,  1.90s/it]"
     ]
    },
    {
     "name": "stdout",
     "output_type": "stream",
     "text": [
      "=====================  [EPOCH (30) LOGGING]  =====================\n",
      "| AVERAGES of THIS EPOCH:\n",
      "| ACCUMULATED LOSS: 0.1772229\n",
      "===========================================================\n"
     ]
    },
    {
     "name": "stderr",
     "output_type": "stream",
     "text": [
      ">>>>>>>>>>>>>>>>>>>>>\n",
      "Main Epoch (Outer Loop):  12%|█▎        | 32/256 [00:59<07:12,  1.93s/it]"
     ]
    },
    {
     "name": "stdout",
     "output_type": "stream",
     "text": [
      "=====================  [EPOCH (31) LOGGING]  =====================\n",
      "| AVERAGES of THIS EPOCH:\n",
      "| ACCUMULATED LOSS: 0.1769181\n",
      "===========================================================\n"
     ]
    },
    {
     "name": "stderr",
     "output_type": "stream",
     "text": [
      ">>>>>>>>>>>>>>>>>>>>>\n",
      "Main Epoch (Outer Loop):  13%|█▎        | 33/256 [01:02<07:22,  1.99s/it]"
     ]
    },
    {
     "name": "stdout",
     "output_type": "stream",
     "text": [
      "=====================  [EPOCH (32) LOGGING]  =====================\n",
      "| AVERAGES of THIS EPOCH:\n",
      "| ACCUMULATED LOSS: 0.1770944\n",
      "===========================================================\n"
     ]
    },
    {
     "name": "stderr",
     "output_type": "stream",
     "text": [
      ">>>>>>>>>>>>>>>>>>>>>\n",
      "Main Epoch (Outer Loop):  13%|█▎        | 34/256 [01:04<07:26,  2.01s/it]"
     ]
    },
    {
     "name": "stdout",
     "output_type": "stream",
     "text": [
      "=====================  [EPOCH (33) LOGGING]  =====================\n",
      "| AVERAGES of THIS EPOCH:\n",
      "| ACCUMULATED LOSS: 0.1769643\n",
      "===========================================================\n"
     ]
    },
    {
     "name": "stderr",
     "output_type": "stream",
     "text": [
      ">>>>>>>>>>>>>>>>>>>>>\n",
      "Main Epoch (Outer Loop):  14%|█▎        | 35/256 [01:05<07:14,  1.97s/it]"
     ]
    },
    {
     "name": "stdout",
     "output_type": "stream",
     "text": [
      "=====================  [EPOCH (34) LOGGING]  =====================\n",
      "| AVERAGES of THIS EPOCH:\n",
      "| ACCUMULATED LOSS: 0.1771552\n",
      "===========================================================\n"
     ]
    },
    {
     "name": "stderr",
     "output_type": "stream",
     "text": [
      ">>>>>>>>>>>>>>>>>>>>>\n",
      "Main Epoch (Outer Loop):  14%|█▍        | 36/256 [01:07<07:04,  1.93s/it]"
     ]
    },
    {
     "name": "stdout",
     "output_type": "stream",
     "text": [
      "=====================  [EPOCH (35) LOGGING]  =====================\n",
      "| AVERAGES of THIS EPOCH:\n",
      "| ACCUMULATED LOSS: 0.1769167\n",
      "===========================================================\n"
     ]
    },
    {
     "name": "stderr",
     "output_type": "stream",
     "text": [
      ">>>>>>>>>>>>>>>>>>>>>\n",
      "Main Epoch (Outer Loop):  14%|█▍        | 37/256 [01:09<07:02,  1.93s/it]"
     ]
    },
    {
     "name": "stdout",
     "output_type": "stream",
     "text": [
      "=====================  [EPOCH (36) LOGGING]  =====================\n",
      "| AVERAGES of THIS EPOCH:\n",
      "| ACCUMULATED LOSS: 0.1771205\n",
      "===========================================================\n"
     ]
    },
    {
     "name": "stderr",
     "output_type": "stream",
     "text": [
      ">>>>>>>>>>>>>>>>>>>>>\n",
      "Main Epoch (Outer Loop):  15%|█▍        | 38/256 [01:11<07:04,  1.95s/it]"
     ]
    },
    {
     "name": "stdout",
     "output_type": "stream",
     "text": [
      "=====================  [EPOCH (37) LOGGING]  =====================\n",
      "| AVERAGES of THIS EPOCH:\n",
      "| ACCUMULATED LOSS: 0.1771629\n",
      "===========================================================\n"
     ]
    },
    {
     "name": "stderr",
     "output_type": "stream",
     "text": [
      ">>>>>>>>>>>>>>>>>>>>>\n",
      "Main Epoch (Outer Loop):  15%|█▌        | 39/256 [01:13<07:05,  1.96s/it]"
     ]
    },
    {
     "name": "stdout",
     "output_type": "stream",
     "text": [
      "=====================  [EPOCH (38) LOGGING]  =====================\n",
      "| AVERAGES of THIS EPOCH:\n",
      "| ACCUMULATED LOSS: 0.1770409\n",
      "===========================================================\n"
     ]
    },
    {
     "name": "stderr",
     "output_type": "stream",
     "text": [
      ">>>>>>>>>>>>>>>>>>>>>\n",
      "Main Epoch (Outer Loop):  16%|█▌        | 40/256 [01:15<07:08,  1.98s/it]"
     ]
    },
    {
     "name": "stdout",
     "output_type": "stream",
     "text": [
      "=====================  [EPOCH (39) LOGGING]  =====================\n",
      "| AVERAGES of THIS EPOCH:\n",
      "| ACCUMULATED LOSS: 0.1767793\n",
      "===========================================================\n"
     ]
    },
    {
     "name": "stderr",
     "output_type": "stream",
     "text": [
      ">>>>>>>>>>>>>>>>>>>>>\n",
      "Main Epoch (Outer Loop):  16%|█▌        | 41/256 [01:17<07:09,  2.00s/it]"
     ]
    },
    {
     "name": "stdout",
     "output_type": "stream",
     "text": [
      "=====================  [EPOCH (40) LOGGING]  =====================\n",
      "| AVERAGES of THIS EPOCH:\n",
      "| ACCUMULATED LOSS: 0.1768973\n",
      "===========================================================\n"
     ]
    },
    {
     "name": "stderr",
     "output_type": "stream",
     "text": [
      ">>>>>>>>>>>>>>>>>>>>>\n",
      "Main Epoch (Outer Loop):  16%|█▋        | 42/256 [01:19<06:57,  1.95s/it]"
     ]
    },
    {
     "name": "stdout",
     "output_type": "stream",
     "text": [
      "=====================  [EPOCH (41) LOGGING]  =====================\n",
      "| AVERAGES of THIS EPOCH:\n",
      "| ACCUMULATED LOSS: 0.1766332\n",
      "===========================================================\n"
     ]
    },
    {
     "name": "stderr",
     "output_type": "stream",
     "text": [
      ">>>>>>>>>>>>>>>>>>>>>\n",
      "Main Epoch (Outer Loop):  17%|█▋        | 43/256 [01:21<06:47,  1.91s/it]"
     ]
    },
    {
     "name": "stdout",
     "output_type": "stream",
     "text": [
      "=====================  [EPOCH (42) LOGGING]  =====================\n",
      "| AVERAGES of THIS EPOCH:\n",
      "| ACCUMULATED LOSS: 0.1765719\n",
      "===========================================================\n"
     ]
    },
    {
     "name": "stderr",
     "output_type": "stream",
     "text": [
      ">>>>>>>>>>>>>>>>>>>>>\n",
      "Main Epoch (Outer Loop):  17%|█▋        | 44/256 [01:23<06:43,  1.90s/it]"
     ]
    },
    {
     "name": "stdout",
     "output_type": "stream",
     "text": [
      "=====================  [EPOCH (43) LOGGING]  =====================\n",
      "| AVERAGES of THIS EPOCH:\n",
      "| ACCUMULATED LOSS: 0.1768767\n",
      "===========================================================\n"
     ]
    },
    {
     "name": "stderr",
     "output_type": "stream",
     "text": [
      ">>>>>>>>>>>>>>>>>>>>>\n",
      "Main Epoch (Outer Loop):  18%|█▊        | 45/256 [01:25<06:43,  1.91s/it]"
     ]
    },
    {
     "name": "stdout",
     "output_type": "stream",
     "text": [
      "=====================  [EPOCH (44) LOGGING]  =====================\n",
      "| AVERAGES of THIS EPOCH:\n",
      "| ACCUMULATED LOSS: 0.1765186\n",
      "===========================================================\n"
     ]
    },
    {
     "name": "stderr",
     "output_type": "stream",
     "text": [
      ">>>>>>>>>>>>>>>>>>>>>\n",
      "Main Epoch (Outer Loop):  18%|█▊        | 46/256 [01:27<06:44,  1.92s/it]"
     ]
    },
    {
     "name": "stdout",
     "output_type": "stream",
     "text": [
      "=====================  [EPOCH (45) LOGGING]  =====================\n",
      "| AVERAGES of THIS EPOCH:\n",
      "| ACCUMULATED LOSS: 0.1767429\n",
      "===========================================================\n"
     ]
    },
    {
     "name": "stderr",
     "output_type": "stream",
     "text": [
      ">>>>>>>>>>>>>>>>>>>>>\n",
      "Main Epoch (Outer Loop):  18%|█▊        | 47/256 [01:29<06:44,  1.94s/it]"
     ]
    },
    {
     "name": "stdout",
     "output_type": "stream",
     "text": [
      "=====================  [EPOCH (46) LOGGING]  =====================\n",
      "| AVERAGES of THIS EPOCH:\n",
      "| ACCUMULATED LOSS: 0.1765990\n",
      "===========================================================\n"
     ]
    },
    {
     "name": "stderr",
     "output_type": "stream",
     "text": [
      ">>>>>>>>>>>>>>>>>>>>>\n",
      "Main Epoch (Outer Loop):  19%|█▉        | 48/256 [01:30<06:33,  1.89s/it]"
     ]
    },
    {
     "name": "stdout",
     "output_type": "stream",
     "text": [
      "=====================  [EPOCH (47) LOGGING]  =====================\n",
      "| AVERAGES of THIS EPOCH:\n",
      "| ACCUMULATED LOSS: 0.1768834\n",
      "===========================================================\n"
     ]
    },
    {
     "name": "stderr",
     "output_type": "stream",
     "text": [
      ">>>>>>>>>>>>>>>>>>>>>\n",
      "Main Epoch (Outer Loop):  19%|█▉        | 49/256 [01:32<06:32,  1.90s/it]"
     ]
    },
    {
     "name": "stdout",
     "output_type": "stream",
     "text": [
      "=====================  [EPOCH (48) LOGGING]  =====================\n",
      "| AVERAGES of THIS EPOCH:\n",
      "| ACCUMULATED LOSS: 0.1766814\n",
      "===========================================================\n"
     ]
    },
    {
     "name": "stderr",
     "output_type": "stream",
     "text": [
      ">>>>>>>>>>>>>>>>>>>>>\n",
      "Main Epoch (Outer Loop):  20%|█▉        | 50/256 [01:34<06:23,  1.86s/it]"
     ]
    },
    {
     "name": "stdout",
     "output_type": "stream",
     "text": [
      "=====================  [EPOCH (49) LOGGING]  =====================\n",
      "| AVERAGES of THIS EPOCH:\n",
      "| ACCUMULATED LOSS: 0.1763257\n",
      "===========================================================\n"
     ]
    },
    {
     "name": "stderr",
     "output_type": "stream",
     "text": [
      ">>>>>>>>>>>>>>>>>>>>>\n",
      "Main Epoch (Outer Loop):  20%|█▉        | 51/256 [01:36<06:22,  1.86s/it]"
     ]
    },
    {
     "name": "stdout",
     "output_type": "stream",
     "text": [
      "=====================  [EPOCH (50) LOGGING]  =====================\n",
      "| AVERAGES of THIS EPOCH:\n",
      "| ACCUMULATED LOSS: 0.1764180\n",
      "===========================================================\n"
     ]
    },
    {
     "name": "stderr",
     "output_type": "stream",
     "text": [
      ">>>>>>>>>>>>>>>>>>>>>\n",
      "Main Epoch (Outer Loop):  20%|██        | 52/256 [01:38<06:20,  1.86s/it]"
     ]
    },
    {
     "name": "stdout",
     "output_type": "stream",
     "text": [
      "=====================  [EPOCH (51) LOGGING]  =====================\n",
      "| AVERAGES of THIS EPOCH:\n",
      "| ACCUMULATED LOSS: 0.1764229\n",
      "===========================================================\n"
     ]
    },
    {
     "name": "stderr",
     "output_type": "stream",
     "text": [
      ">>>>>>>>>>>>>>>>>>>>>\n",
      "Main Epoch (Outer Loop):  21%|██        | 53/256 [01:40<06:24,  1.89s/it]"
     ]
    },
    {
     "name": "stdout",
     "output_type": "stream",
     "text": [
      "=====================  [EPOCH (52) LOGGING]  =====================\n",
      "| AVERAGES of THIS EPOCH:\n",
      "| ACCUMULATED LOSS: 0.1764022\n",
      "===========================================================\n"
     ]
    },
    {
     "name": "stderr",
     "output_type": "stream",
     "text": [
      ">>>>>>>>>>>>>>>>>>>>>\n",
      "Main Epoch (Outer Loop):  21%|██        | 54/256 [01:42<06:26,  1.91s/it]"
     ]
    },
    {
     "name": "stdout",
     "output_type": "stream",
     "text": [
      "=====================  [EPOCH (53) LOGGING]  =====================\n",
      "| AVERAGES of THIS EPOCH:\n",
      "| ACCUMULATED LOSS: 0.1764790\n",
      "===========================================================\n"
     ]
    },
    {
     "name": "stderr",
     "output_type": "stream",
     "text": [
      ">>>>>>>>>>>>>>>>>>>>>\n",
      "Main Epoch (Outer Loop):  21%|██▏       | 55/256 [01:44<06:29,  1.94s/it]"
     ]
    },
    {
     "name": "stdout",
     "output_type": "stream",
     "text": [
      "=====================  [EPOCH (54) LOGGING]  =====================\n",
      "| AVERAGES of THIS EPOCH:\n",
      "| ACCUMULATED LOSS: 0.1765672\n",
      "===========================================================\n"
     ]
    },
    {
     "name": "stderr",
     "output_type": "stream",
     "text": [
      ">>>>>>>>>>>>>>>>>>>>>\n",
      "Main Epoch (Outer Loop):  22%|██▏       | 56/256 [01:46<06:29,  1.95s/it]"
     ]
    },
    {
     "name": "stdout",
     "output_type": "stream",
     "text": [
      "=====================  [EPOCH (55) LOGGING]  =====================\n",
      "| AVERAGES of THIS EPOCH:\n",
      "| ACCUMULATED LOSS: 0.1764414\n",
      "===========================================================\n"
     ]
    },
    {
     "name": "stderr",
     "output_type": "stream",
     "text": [
      ">>>>>>>>>>>>>>>>>>>>>\n",
      "Main Epoch (Outer Loop):  22%|██▏       | 57/256 [01:48<06:30,  1.96s/it]"
     ]
    },
    {
     "name": "stdout",
     "output_type": "stream",
     "text": [
      "=====================  [EPOCH (56) LOGGING]  =====================\n",
      "| AVERAGES of THIS EPOCH:\n",
      "| ACCUMULATED LOSS: 0.1764962\n",
      "===========================================================\n"
     ]
    },
    {
     "name": "stderr",
     "output_type": "stream",
     "text": [
      ">>>>>>>>>>>>>>>>>>>>>\n",
      "Main Epoch (Outer Loop):  23%|██▎       | 58/256 [01:50<06:31,  1.98s/it]"
     ]
    },
    {
     "name": "stdout",
     "output_type": "stream",
     "text": [
      "=====================  [EPOCH (57) LOGGING]  =====================\n",
      "| AVERAGES of THIS EPOCH:\n",
      "| ACCUMULATED LOSS: 0.1764528\n",
      "===========================================================\n"
     ]
    },
    {
     "name": "stderr",
     "output_type": "stream",
     "text": [
      ">>>>>>>>>>>>>>>>>>>>>\n",
      "Main Epoch (Outer Loop):  23%|██▎       | 59/256 [01:52<06:32,  1.99s/it]"
     ]
    },
    {
     "name": "stdout",
     "output_type": "stream",
     "text": [
      "=====================  [EPOCH (58) LOGGING]  =====================\n",
      "| AVERAGES of THIS EPOCH:\n",
      "| ACCUMULATED LOSS: 0.1762927\n",
      "===========================================================\n"
     ]
    },
    {
     "name": "stderr",
     "output_type": "stream",
     "text": [
      ">>>>>>>>>>>>>>>>>>>>>\n",
      "Main Epoch (Outer Loop):  23%|██▎       | 60/256 [01:54<06:29,  1.99s/it]"
     ]
    },
    {
     "name": "stdout",
     "output_type": "stream",
     "text": [
      "=====================  [EPOCH (59) LOGGING]  =====================\n",
      "| AVERAGES of THIS EPOCH:\n",
      "| ACCUMULATED LOSS: 0.1761747\n",
      "===========================================================\n"
     ]
    },
    {
     "name": "stderr",
     "output_type": "stream",
     "text": [
      ">>>>>>>>>>>>>>>>>>>>>\n",
      "Main Epoch (Outer Loop):  24%|██▍       | 61/256 [01:56<06:23,  1.97s/it]"
     ]
    },
    {
     "name": "stdout",
     "output_type": "stream",
     "text": [
      "=====================  [EPOCH (60) LOGGING]  =====================\n",
      "| AVERAGES of THIS EPOCH:\n",
      "| ACCUMULATED LOSS: 0.1762858\n",
      "===========================================================\n"
     ]
    },
    {
     "name": "stderr",
     "output_type": "stream",
     "text": [
      ">>>>>>>>>>>>>>>>>>>>>\n",
      "Main Epoch (Outer Loop):  24%|██▍       | 62/256 [01:58<06:20,  1.96s/it]"
     ]
    },
    {
     "name": "stdout",
     "output_type": "stream",
     "text": [
      "=====================  [EPOCH (61) LOGGING]  =====================\n",
      "| AVERAGES of THIS EPOCH:\n",
      "| ACCUMULATED LOSS: 0.1761100\n",
      "===========================================================\n"
     ]
    },
    {
     "name": "stderr",
     "output_type": "stream",
     "text": [
      ">>>>>>>>>>>>>>>>>>>>>\n",
      "Main Epoch (Outer Loop):  25%|██▍       | 63/256 [01:59<06:10,  1.92s/it]"
     ]
    },
    {
     "name": "stdout",
     "output_type": "stream",
     "text": [
      "=====================  [EPOCH (62) LOGGING]  =====================\n",
      "| AVERAGES of THIS EPOCH:\n",
      "| ACCUMULATED LOSS: 0.1764762\n",
      "===========================================================\n"
     ]
    },
    {
     "name": "stderr",
     "output_type": "stream",
     "text": [
      ">>>>>>>>>>>>>>>>>>>>>\n",
      "Main Epoch (Outer Loop):  25%|██▌       | 64/256 [02:01<06:11,  1.93s/it]"
     ]
    },
    {
     "name": "stdout",
     "output_type": "stream",
     "text": [
      "=====================  [EPOCH (63) LOGGING]  =====================\n",
      "| AVERAGES of THIS EPOCH:\n",
      "| ACCUMULATED LOSS: 0.1761927\n",
      "===========================================================\n",
      "===================  [Epoch (64/256)]  ===================\n",
      "Entire Validation Dataset Average Loss: 0.1378\n",
      "====================================================\n"
     ]
    },
    {
     "name": "stderr",
     "output_type": "stream",
     "text": [
      ">>>>>>>>>>>>>>>>>>>>>\n",
      "Main Epoch (Outer Loop):  25%|██▌       | 65/256 [02:03<06:15,  1.96s/it]"
     ]
    },
    {
     "name": "stdout",
     "output_type": "stream",
     "text": [
      "=====================  [EPOCH (64) LOGGING]  =====================\n",
      "| AVERAGES of THIS EPOCH:\n",
      "| ACCUMULATED LOSS: 0.1762902\n",
      "===========================================================\n"
     ]
    },
    {
     "name": "stderr",
     "output_type": "stream",
     "text": [
      ">>>>>>>>>>>>>>>>>>>>>\n",
      "Main Epoch (Outer Loop):  26%|██▌       | 66/256 [02:05<06:11,  1.95s/it]"
     ]
    },
    {
     "name": "stdout",
     "output_type": "stream",
     "text": [
      "=====================  [EPOCH (65) LOGGING]  =====================\n",
      "| AVERAGES of THIS EPOCH:\n",
      "| ACCUMULATED LOSS: 0.1762884\n",
      "===========================================================\n"
     ]
    },
    {
     "name": "stderr",
     "output_type": "stream",
     "text": [
      ">>>>>>>>>>>>>>>>>>>>>\n",
      "Main Epoch (Outer Loop):  26%|██▌       | 67/256 [02:07<06:11,  1.96s/it]"
     ]
    },
    {
     "name": "stdout",
     "output_type": "stream",
     "text": [
      "=====================  [EPOCH (66) LOGGING]  =====================\n",
      "| AVERAGES of THIS EPOCH:\n",
      "| ACCUMULATED LOSS: 0.1763332\n",
      "===========================================================\n"
     ]
    },
    {
     "name": "stderr",
     "output_type": "stream",
     "text": [
      ">>>>>>>>>>>>>>>>>>>>>\n",
      "Main Epoch (Outer Loop):  27%|██▋       | 68/256 [02:09<06:15,  2.00s/it]"
     ]
    },
    {
     "name": "stdout",
     "output_type": "stream",
     "text": [
      "=====================  [EPOCH (67) LOGGING]  =====================\n",
      "| AVERAGES of THIS EPOCH:\n",
      "| ACCUMULATED LOSS: 0.1762258\n",
      "===========================================================\n"
     ]
    },
    {
     "name": "stderr",
     "output_type": "stream",
     "text": [
      ">>>>>>>>>>>>>>>>>>>>>\n",
      "Main Epoch (Outer Loop):  27%|██▋       | 69/256 [02:12<06:17,  2.02s/it]"
     ]
    },
    {
     "name": "stdout",
     "output_type": "stream",
     "text": [
      "=====================  [EPOCH (68) LOGGING]  =====================\n",
      "| AVERAGES of THIS EPOCH:\n",
      "| ACCUMULATED LOSS: 0.1762438\n",
      "===========================================================\n"
     ]
    },
    {
     "name": "stderr",
     "output_type": "stream",
     "text": [
      ">>>>>>>>>>>>>>>>>>>>>\n",
      "Main Epoch (Outer Loop):  27%|██▋       | 70/256 [02:14<06:17,  2.03s/it]"
     ]
    },
    {
     "name": "stdout",
     "output_type": "stream",
     "text": [
      "=====================  [EPOCH (69) LOGGING]  =====================\n",
      "| AVERAGES of THIS EPOCH:\n",
      "| ACCUMULATED LOSS: 0.1762904\n",
      "===========================================================\n"
     ]
    },
    {
     "name": "stderr",
     "output_type": "stream",
     "text": [
      ">>>>>>>>>>>>>>>>>>>>>\n",
      "Main Epoch (Outer Loop):  28%|██▊       | 71/256 [02:16<06:15,  2.03s/it]"
     ]
    },
    {
     "name": "stdout",
     "output_type": "stream",
     "text": [
      "=====================  [EPOCH (70) LOGGING]  =====================\n",
      "| AVERAGES of THIS EPOCH:\n",
      "| ACCUMULATED LOSS: 0.1765452\n",
      "===========================================================\n"
     ]
    },
    {
     "name": "stderr",
     "output_type": "stream",
     "text": [
      ">>>>>>>>>>>>>>>>>>>>>\n",
      "Main Epoch (Outer Loop):  28%|██▊       | 72/256 [02:17<06:03,  1.98s/it]"
     ]
    },
    {
     "name": "stdout",
     "output_type": "stream",
     "text": [
      "=====================  [EPOCH (71) LOGGING]  =====================\n",
      "| AVERAGES of THIS EPOCH:\n",
      "| ACCUMULATED LOSS: 0.1764635\n",
      "===========================================================\n"
     ]
    },
    {
     "name": "stderr",
     "output_type": "stream",
     "text": [
      ">>>>>>>>>>>>>>>>>>>>>\n",
      "Main Epoch (Outer Loop):  29%|██▊       | 73/256 [02:19<05:55,  1.95s/it]"
     ]
    },
    {
     "name": "stdout",
     "output_type": "stream",
     "text": [
      "=====================  [EPOCH (72) LOGGING]  =====================\n",
      "| AVERAGES of THIS EPOCH:\n",
      "| ACCUMULATED LOSS: 0.1762285\n",
      "===========================================================\n"
     ]
    },
    {
     "name": "stderr",
     "output_type": "stream",
     "text": [
      ">>>>>>>>>>>>>>>>>>>>>\n",
      "Main Epoch (Outer Loop):  29%|██▉       | 74/256 [02:21<05:53,  1.94s/it]"
     ]
    },
    {
     "name": "stdout",
     "output_type": "stream",
     "text": [
      "=====================  [EPOCH (73) LOGGING]  =====================\n",
      "| AVERAGES of THIS EPOCH:\n",
      "| ACCUMULATED LOSS: 0.1761799\n",
      "===========================================================\n"
     ]
    },
    {
     "name": "stderr",
     "output_type": "stream",
     "text": [
      ">>>>>>>>>>>>>>>>>>>>>\n",
      "Main Epoch (Outer Loop):  29%|██▉       | 75/256 [02:23<05:50,  1.94s/it]"
     ]
    },
    {
     "name": "stdout",
     "output_type": "stream",
     "text": [
      "=====================  [EPOCH (74) LOGGING]  =====================\n",
      "| AVERAGES of THIS EPOCH:\n",
      "| ACCUMULATED LOSS: 0.1761546\n",
      "===========================================================\n"
     ]
    },
    {
     "name": "stderr",
     "output_type": "stream",
     "text": [
      ">>>>>>>>>>>>>>>>>>>>>\n",
      "Main Epoch (Outer Loop):  30%|██▉       | 76/256 [02:25<05:49,  1.94s/it]"
     ]
    },
    {
     "name": "stdout",
     "output_type": "stream",
     "text": [
      "=====================  [EPOCH (75) LOGGING]  =====================\n",
      "| AVERAGES of THIS EPOCH:\n",
      "| ACCUMULATED LOSS: 0.1763676\n",
      "===========================================================\n"
     ]
    },
    {
     "name": "stderr",
     "output_type": "stream",
     "text": [
      ">>>>>>>>>>>>>>>>>>>>>\n",
      "Main Epoch (Outer Loop):  30%|███       | 77/256 [02:27<05:40,  1.90s/it]"
     ]
    },
    {
     "name": "stdout",
     "output_type": "stream",
     "text": [
      "=====================  [EPOCH (76) LOGGING]  =====================\n",
      "| AVERAGES of THIS EPOCH:\n",
      "| ACCUMULATED LOSS: 0.1762891\n",
      "===========================================================\n"
     ]
    },
    {
     "name": "stderr",
     "output_type": "stream",
     "text": [
      ">>>>>>>>>>>>>>>>>>>>>\n",
      "Main Epoch (Outer Loop):  30%|███       | 78/256 [02:29<05:44,  1.93s/it]"
     ]
    },
    {
     "name": "stdout",
     "output_type": "stream",
     "text": [
      "=====================  [EPOCH (77) LOGGING]  =====================\n",
      "| AVERAGES of THIS EPOCH:\n",
      "| ACCUMULATED LOSS: 0.1765284\n",
      "===========================================================\n"
     ]
    },
    {
     "name": "stderr",
     "output_type": "stream",
     "text": [
      ">>>>>>>>>>>>>>>>>>>>>\n",
      "Main Epoch (Outer Loop):  31%|███       | 79/256 [02:31<05:43,  1.94s/it]"
     ]
    },
    {
     "name": "stdout",
     "output_type": "stream",
     "text": [
      "=====================  [EPOCH (78) LOGGING]  =====================\n",
      "| AVERAGES of THIS EPOCH:\n",
      "| ACCUMULATED LOSS: 0.1761651\n",
      "===========================================================\n"
     ]
    },
    {
     "name": "stderr",
     "output_type": "stream",
     "text": [
      ">>>>>>>>>>>>>>>>>>>>>\n",
      "Main Epoch (Outer Loop):  31%|███▏      | 80/256 [02:33<05:47,  1.97s/it]"
     ]
    },
    {
     "name": "stdout",
     "output_type": "stream",
     "text": [
      "=====================  [EPOCH (79) LOGGING]  =====================\n",
      "| AVERAGES of THIS EPOCH:\n",
      "| ACCUMULATED LOSS: 0.1763923\n",
      "===========================================================\n"
     ]
    },
    {
     "name": "stderr",
     "output_type": "stream",
     "text": [
      ">>>>>>>>>>>>>>>>>>>>>\n",
      "Main Epoch (Outer Loop):  32%|███▏      | 81/256 [02:35<05:44,  1.97s/it]"
     ]
    },
    {
     "name": "stdout",
     "output_type": "stream",
     "text": [
      "=====================  [EPOCH (80) LOGGING]  =====================\n",
      "| AVERAGES of THIS EPOCH:\n",
      "| ACCUMULATED LOSS: 0.1762857\n",
      "===========================================================\n"
     ]
    },
    {
     "name": "stderr",
     "output_type": "stream",
     "text": [
      ">>>>>>>>>>>>>>>>>>>>>\n",
      "Main Epoch (Outer Loop):  32%|███▏      | 82/256 [02:37<05:37,  1.94s/it]"
     ]
    },
    {
     "name": "stdout",
     "output_type": "stream",
     "text": [
      "=====================  [EPOCH (81) LOGGING]  =====================\n",
      "| AVERAGES of THIS EPOCH:\n",
      "| ACCUMULATED LOSS: 0.1762936\n",
      "===========================================================\n"
     ]
    },
    {
     "name": "stderr",
     "output_type": "stream",
     "text": [
      ">>>>>>>>>>>>>>>>>>>>>\n",
      "Main Epoch (Outer Loop):  32%|███▏      | 83/256 [02:39<05:35,  1.94s/it]"
     ]
    },
    {
     "name": "stdout",
     "output_type": "stream",
     "text": [
      "=====================  [EPOCH (82) LOGGING]  =====================\n",
      "| AVERAGES of THIS EPOCH:\n",
      "| ACCUMULATED LOSS: 0.1764825\n",
      "===========================================================\n"
     ]
    },
    {
     "name": "stderr",
     "output_type": "stream",
     "text": [
      ">>>>>>>>>>>>>>>>>>>>>\n",
      "Main Epoch (Outer Loop):  33%|███▎      | 84/256 [02:41<05:40,  1.98s/it]"
     ]
    },
    {
     "name": "stdout",
     "output_type": "stream",
     "text": [
      "=====================  [EPOCH (83) LOGGING]  =====================\n",
      "| AVERAGES of THIS EPOCH:\n",
      "| ACCUMULATED LOSS: 0.1764399\n",
      "===========================================================\n"
     ]
    },
    {
     "name": "stderr",
     "output_type": "stream",
     "text": [
      ">>>>>>>>>>>>>>>>>>>>>\n",
      "Main Epoch (Outer Loop):  33%|███▎      | 85/256 [02:43<05:38,  1.98s/it]"
     ]
    },
    {
     "name": "stdout",
     "output_type": "stream",
     "text": [
      "=====================  [EPOCH (84) LOGGING]  =====================\n",
      "| AVERAGES of THIS EPOCH:\n",
      "| ACCUMULATED LOSS: 0.1762269\n",
      "===========================================================\n"
     ]
    },
    {
     "name": "stderr",
     "output_type": "stream",
     "text": [
      ">>>>>>>>>>>>>>>>>>>>>\n",
      "Main Epoch (Outer Loop):  34%|███▎      | 86/256 [02:45<05:50,  2.06s/it]"
     ]
    },
    {
     "name": "stdout",
     "output_type": "stream",
     "text": [
      "=====================  [EPOCH (85) LOGGING]  =====================\n",
      "| AVERAGES of THIS EPOCH:\n",
      "| ACCUMULATED LOSS: 0.1763797\n",
      "===========================================================\n"
     ]
    },
    {
     "name": "stderr",
     "output_type": "stream",
     "text": [
      ">>>>>>>>>>>>>>>>>>>>>\n",
      "Main Epoch (Outer Loop):  34%|███▍      | 87/256 [02:47<06:03,  2.15s/it]"
     ]
    },
    {
     "name": "stdout",
     "output_type": "stream",
     "text": [
      "=====================  [EPOCH (86) LOGGING]  =====================\n",
      "| AVERAGES of THIS EPOCH:\n",
      "| ACCUMULATED LOSS: 0.1759258\n",
      "===========================================================\n"
     ]
    },
    {
     "name": "stderr",
     "output_type": "stream",
     "text": [
      ">>>>>>>>>>>>>>>>>>>>>\n",
      "Main Epoch (Outer Loop):  34%|███▍      | 88/256 [02:50<06:07,  2.19s/it]"
     ]
    },
    {
     "name": "stdout",
     "output_type": "stream",
     "text": [
      "=====================  [EPOCH (87) LOGGING]  =====================\n",
      "| AVERAGES of THIS EPOCH:\n",
      "| ACCUMULATED LOSS: 0.1765008\n",
      "===========================================================\n"
     ]
    },
    {
     "name": "stderr",
     "output_type": "stream",
     "text": [
      ">>>>>>>>>>>>>>>>>>>>>\n",
      "Main Epoch (Outer Loop):  35%|███▍      | 89/256 [02:52<06:14,  2.24s/it]"
     ]
    },
    {
     "name": "stdout",
     "output_type": "stream",
     "text": [
      "=====================  [EPOCH (88) LOGGING]  =====================\n",
      "| AVERAGES of THIS EPOCH:\n",
      "| ACCUMULATED LOSS: 0.1762218\n",
      "===========================================================\n"
     ]
    },
    {
     "name": "stderr",
     "output_type": "stream",
     "text": [
      ">>>>>>>>>>>>>>>>>>>>>\n",
      "Main Epoch (Outer Loop):  35%|███▌      | 90/256 [02:54<06:21,  2.30s/it]"
     ]
    },
    {
     "name": "stdout",
     "output_type": "stream",
     "text": [
      "=====================  [EPOCH (89) LOGGING]  =====================\n",
      "| AVERAGES of THIS EPOCH:\n",
      "| ACCUMULATED LOSS: 0.1763850\n",
      "===========================================================\n"
     ]
    },
    {
     "name": "stderr",
     "output_type": "stream",
     "text": [
      ">>>>>>>>>>>>>>>>>>>>>\n",
      "Main Epoch (Outer Loop):  36%|███▌      | 91/256 [02:57<06:23,  2.33s/it]"
     ]
    },
    {
     "name": "stdout",
     "output_type": "stream",
     "text": [
      "=====================  [EPOCH (90) LOGGING]  =====================\n",
      "| AVERAGES of THIS EPOCH:\n",
      "| ACCUMULATED LOSS: 0.1761641\n",
      "===========================================================\n"
     ]
    },
    {
     "name": "stderr",
     "output_type": "stream",
     "text": [
      ">>>>>>>>>>>>>>>>>>>>>\n",
      "Main Epoch (Outer Loop):  36%|███▌      | 92/256 [02:59<06:25,  2.35s/it]"
     ]
    },
    {
     "name": "stdout",
     "output_type": "stream",
     "text": [
      "=====================  [EPOCH (91) LOGGING]  =====================\n",
      "| AVERAGES of THIS EPOCH:\n",
      "| ACCUMULATED LOSS: 0.1763141\n",
      "===========================================================\n"
     ]
    },
    {
     "name": "stderr",
     "output_type": "stream",
     "text": [
      ">>>>>>>>>>>>>>>>>>>>>\n",
      "Main Epoch (Outer Loop):  36%|███▋      | 93/256 [03:02<06:17,  2.31s/it]"
     ]
    },
    {
     "name": "stdout",
     "output_type": "stream",
     "text": [
      "=====================  [EPOCH (92) LOGGING]  =====================\n",
      "| AVERAGES of THIS EPOCH:\n",
      "| ACCUMULATED LOSS: 0.1761382\n",
      "===========================================================\n"
     ]
    },
    {
     "name": "stderr",
     "output_type": "stream",
     "text": [
      ">>>>>>>>>>>>>>>>>>>>>\n",
      "Main Epoch (Outer Loop):  37%|███▋      | 94/256 [03:04<06:16,  2.32s/it]"
     ]
    },
    {
     "name": "stdout",
     "output_type": "stream",
     "text": [
      "=====================  [EPOCH (93) LOGGING]  =====================\n",
      "| AVERAGES of THIS EPOCH:\n",
      "| ACCUMULATED LOSS: 0.1765441\n",
      "===========================================================\n"
     ]
    },
    {
     "name": "stderr",
     "output_type": "stream",
     "text": [
      ">>>>>>>>>>>>>>>>>>>>>\n",
      "Main Epoch (Outer Loop):  37%|███▋      | 95/256 [03:06<06:13,  2.32s/it]"
     ]
    },
    {
     "name": "stdout",
     "output_type": "stream",
     "text": [
      "=====================  [EPOCH (94) LOGGING]  =====================\n",
      "| AVERAGES of THIS EPOCH:\n",
      "| ACCUMULATED LOSS: 0.1762310\n",
      "===========================================================\n"
     ]
    },
    {
     "name": "stderr",
     "output_type": "stream",
     "text": [
      ">>>>>>>>>>>>>>>>>>>>>\n",
      "Main Epoch (Outer Loop):  38%|███▊      | 96/256 [03:09<06:12,  2.33s/it]"
     ]
    },
    {
     "name": "stdout",
     "output_type": "stream",
     "text": [
      "=====================  [EPOCH (95) LOGGING]  =====================\n",
      "| AVERAGES of THIS EPOCH:\n",
      "| ACCUMULATED LOSS: 0.1764245\n",
      "===========================================================\n"
     ]
    },
    {
     "name": "stderr",
     "output_type": "stream",
     "text": [
      ">>>>>>>>>>>>>>>>>>>>>\n",
      "Main Epoch (Outer Loop):  38%|███▊      | 97/256 [03:11<06:13,  2.35s/it]"
     ]
    },
    {
     "name": "stdout",
     "output_type": "stream",
     "text": [
      "=====================  [EPOCH (96) LOGGING]  =====================\n",
      "| AVERAGES of THIS EPOCH:\n",
      "| ACCUMULATED LOSS: 0.1761391\n",
      "===========================================================\n"
     ]
    },
    {
     "name": "stderr",
     "output_type": "stream",
     "text": [
      ">>>>>>>>>>>>>>>>>>>>>\n",
      "Main Epoch (Outer Loop):  38%|███▊      | 98/256 [03:13<06:12,  2.36s/it]"
     ]
    },
    {
     "name": "stdout",
     "output_type": "stream",
     "text": [
      "=====================  [EPOCH (97) LOGGING]  =====================\n",
      "| AVERAGES of THIS EPOCH:\n",
      "| ACCUMULATED LOSS: 0.1762477\n",
      "===========================================================\n"
     ]
    },
    {
     "name": "stderr",
     "output_type": "stream",
     "text": [
      ">>>>>>>>>>>>>>>>>>>>>\n",
      "Main Epoch (Outer Loop):  39%|███▊      | 99/256 [03:16<06:15,  2.39s/it]"
     ]
    },
    {
     "name": "stdout",
     "output_type": "stream",
     "text": [
      "=====================  [EPOCH (98) LOGGING]  =====================\n",
      "| AVERAGES of THIS EPOCH:\n",
      "| ACCUMULATED LOSS: 0.1761558\n",
      "===========================================================\n"
     ]
    },
    {
     "name": "stderr",
     "output_type": "stream",
     "text": [
      ">>>>>>>>>>>>>>>>>>>>>\n",
      "Main Epoch (Outer Loop):  39%|███▉      | 100/256 [03:18<06:10,  2.38s/it]"
     ]
    },
    {
     "name": "stdout",
     "output_type": "stream",
     "text": [
      "=====================  [EPOCH (99) LOGGING]  =====================\n",
      "| AVERAGES of THIS EPOCH:\n",
      "| ACCUMULATED LOSS: 0.1763806\n",
      "===========================================================\n"
     ]
    },
    {
     "name": "stderr",
     "output_type": "stream",
     "text": [
      ">>>>>>>>>>>>>>>>>>>>>\n",
      "Main Epoch (Outer Loop):  39%|███▉      | 101/256 [03:21<06:12,  2.40s/it]"
     ]
    },
    {
     "name": "stdout",
     "output_type": "stream",
     "text": [
      "=====================  [EPOCH (100) LOGGING]  =====================\n",
      "| AVERAGES of THIS EPOCH:\n",
      "| ACCUMULATED LOSS: 0.1762967\n",
      "===========================================================\n"
     ]
    },
    {
     "name": "stderr",
     "output_type": "stream",
     "text": [
      ">>>>>>>>>>>>>>>>>>>>>\n",
      "Main Epoch (Outer Loop):  40%|███▉      | 102/256 [03:23<06:08,  2.39s/it]"
     ]
    },
    {
     "name": "stdout",
     "output_type": "stream",
     "text": [
      "=====================  [EPOCH (101) LOGGING]  =====================\n",
      "| AVERAGES of THIS EPOCH:\n",
      "| ACCUMULATED LOSS: 0.1765062\n",
      "===========================================================\n"
     ]
    },
    {
     "name": "stderr",
     "output_type": "stream",
     "text": [
      ">>>>>>>>>>>>>>>>>>>>>\n",
      "Main Epoch (Outer Loop):  40%|████      | 103/256 [03:25<06:02,  2.37s/it]"
     ]
    },
    {
     "name": "stdout",
     "output_type": "stream",
     "text": [
      "=====================  [EPOCH (102) LOGGING]  =====================\n",
      "| AVERAGES of THIS EPOCH:\n",
      "| ACCUMULATED LOSS: 0.1762891\n",
      "===========================================================\n"
     ]
    },
    {
     "name": "stderr",
     "output_type": "stream",
     "text": [
      ">>>>>>>>>>>>>>>>>>>>>\n",
      "Main Epoch (Outer Loop):  41%|████      | 104/256 [03:28<05:58,  2.36s/it]"
     ]
    },
    {
     "name": "stdout",
     "output_type": "stream",
     "text": [
      "=====================  [EPOCH (103) LOGGING]  =====================\n",
      "| AVERAGES of THIS EPOCH:\n",
      "| ACCUMULATED LOSS: 0.1763439\n",
      "===========================================================\n"
     ]
    },
    {
     "name": "stderr",
     "output_type": "stream",
     "text": [
      ">>>>>>>>>>>>>>>>>>>>>\n",
      "Main Epoch (Outer Loop):  41%|████      | 105/256 [03:30<05:58,  2.37s/it]"
     ]
    },
    {
     "name": "stdout",
     "output_type": "stream",
     "text": [
      "=====================  [EPOCH (104) LOGGING]  =====================\n",
      "| AVERAGES of THIS EPOCH:\n",
      "| ACCUMULATED LOSS: 0.1761860\n",
      "===========================================================\n"
     ]
    },
    {
     "name": "stderr",
     "output_type": "stream",
     "text": [
      ">>>>>>>>>>>>>>>>>>>>>\n",
      "Main Epoch (Outer Loop):  41%|████▏     | 106/256 [03:32<05:53,  2.36s/it]"
     ]
    },
    {
     "name": "stdout",
     "output_type": "stream",
     "text": [
      "=====================  [EPOCH (105) LOGGING]  =====================\n",
      "| AVERAGES of THIS EPOCH:\n",
      "| ACCUMULATED LOSS: 0.1766288\n",
      "===========================================================\n"
     ]
    },
    {
     "name": "stderr",
     "output_type": "stream",
     "text": [
      ">>>>>>>>>>>>>>>>>>>>>\n",
      "Main Epoch (Outer Loop):  42%|████▏     | 107/256 [03:35<05:53,  2.38s/it]"
     ]
    },
    {
     "name": "stdout",
     "output_type": "stream",
     "text": [
      "=====================  [EPOCH (106) LOGGING]  =====================\n",
      "| AVERAGES of THIS EPOCH:\n",
      "| ACCUMULATED LOSS: 0.1760818\n",
      "===========================================================\n"
     ]
    },
    {
     "name": "stderr",
     "output_type": "stream",
     "text": [
      ">>>>>>>>>>>>>>>>>>>>>\n",
      "Main Epoch (Outer Loop):  42%|████▏     | 108/256 [03:37<05:50,  2.37s/it]"
     ]
    },
    {
     "name": "stdout",
     "output_type": "stream",
     "text": [
      "=====================  [EPOCH (107) LOGGING]  =====================\n",
      "| AVERAGES of THIS EPOCH:\n",
      "| ACCUMULATED LOSS: 0.1765762\n",
      "===========================================================\n"
     ]
    },
    {
     "name": "stderr",
     "output_type": "stream",
     "text": [
      ">>>>>>>>>>>>>>>>>>>>>\n",
      "Main Epoch (Outer Loop):  43%|████▎     | 109/256 [03:40<05:51,  2.39s/it]"
     ]
    },
    {
     "name": "stdout",
     "output_type": "stream",
     "text": [
      "=====================  [EPOCH (108) LOGGING]  =====================\n",
      "| AVERAGES of THIS EPOCH:\n",
      "| ACCUMULATED LOSS: 0.1759480\n",
      "===========================================================\n"
     ]
    },
    {
     "name": "stderr",
     "output_type": "stream",
     "text": [
      ">>>>>>>>>>>>>>>>>>>>>\n",
      "Main Epoch (Outer Loop):  43%|████▎     | 110/256 [03:42<05:47,  2.38s/it]"
     ]
    },
    {
     "name": "stdout",
     "output_type": "stream",
     "text": [
      "=====================  [EPOCH (109) LOGGING]  =====================\n",
      "| AVERAGES of THIS EPOCH:\n",
      "| ACCUMULATED LOSS: 0.1764443\n",
      "===========================================================\n"
     ]
    },
    {
     "name": "stderr",
     "output_type": "stream",
     "text": [
      ">>>>>>>>>>>>>>>>>>>>>\n",
      "Main Epoch (Outer Loop):  43%|████▎     | 111/256 [03:44<05:43,  2.37s/it]"
     ]
    },
    {
     "name": "stdout",
     "output_type": "stream",
     "text": [
      "=====================  [EPOCH (110) LOGGING]  =====================\n",
      "| AVERAGES of THIS EPOCH:\n",
      "| ACCUMULATED LOSS: 0.1763344\n",
      "===========================================================\n"
     ]
    },
    {
     "name": "stderr",
     "output_type": "stream",
     "text": [
      ">>>>>>>>>>>>>>>>>>>>>\n",
      "Main Epoch (Outer Loop):  44%|████▍     | 112/256 [03:47<05:40,  2.37s/it]"
     ]
    },
    {
     "name": "stdout",
     "output_type": "stream",
     "text": [
      "=====================  [EPOCH (111) LOGGING]  =====================\n",
      "| AVERAGES of THIS EPOCH:\n",
      "| ACCUMULATED LOSS: 0.1760943\n",
      "===========================================================\n"
     ]
    },
    {
     "name": "stderr",
     "output_type": "stream",
     "text": [
      ">>>>>>>>>>>>>>>>>>>>>\n",
      "Main Epoch (Outer Loop):  44%|████▍     | 113/256 [03:49<05:36,  2.35s/it]"
     ]
    },
    {
     "name": "stdout",
     "output_type": "stream",
     "text": [
      "=====================  [EPOCH (112) LOGGING]  =====================\n",
      "| AVERAGES of THIS EPOCH:\n",
      "| ACCUMULATED LOSS: 0.1761344\n",
      "===========================================================\n"
     ]
    },
    {
     "name": "stderr",
     "output_type": "stream",
     "text": [
      ">>>>>>>>>>>>>>>>>>>>>\n",
      "Main Epoch (Outer Loop):  45%|████▍     | 114/256 [03:51<05:34,  2.35s/it]"
     ]
    },
    {
     "name": "stdout",
     "output_type": "stream",
     "text": [
      "=====================  [EPOCH (113) LOGGING]  =====================\n",
      "| AVERAGES of THIS EPOCH:\n",
      "| ACCUMULATED LOSS: 0.1761451\n",
      "===========================================================\n"
     ]
    },
    {
     "name": "stderr",
     "output_type": "stream",
     "text": [
      ">>>>>>>>>>>>>>>>>>>>>\n",
      "Main Epoch (Outer Loop):  45%|████▍     | 115/256 [03:54<05:31,  2.35s/it]"
     ]
    },
    {
     "name": "stdout",
     "output_type": "stream",
     "text": [
      "=====================  [EPOCH (114) LOGGING]  =====================\n",
      "| AVERAGES of THIS EPOCH:\n",
      "| ACCUMULATED LOSS: 0.1762289\n",
      "===========================================================\n"
     ]
    },
    {
     "name": "stderr",
     "output_type": "stream",
     "text": [
      ">>>>>>>>>>>>>>>>>>>>>\n",
      "Main Epoch (Outer Loop):  45%|████▌     | 116/256 [03:56<05:29,  2.35s/it]"
     ]
    },
    {
     "name": "stdout",
     "output_type": "stream",
     "text": [
      "=====================  [EPOCH (115) LOGGING]  =====================\n",
      "| AVERAGES of THIS EPOCH:\n",
      "| ACCUMULATED LOSS: 0.1761783\n",
      "===========================================================\n"
     ]
    },
    {
     "name": "stderr",
     "output_type": "stream",
     "text": [
      ">>>>>>>>>>>>>>>>>>>>>\n",
      "Main Epoch (Outer Loop):  46%|████▌     | 117/256 [03:58<05:27,  2.36s/it]"
     ]
    },
    {
     "name": "stdout",
     "output_type": "stream",
     "text": [
      "=====================  [EPOCH (116) LOGGING]  =====================\n",
      "| AVERAGES of THIS EPOCH:\n",
      "| ACCUMULATED LOSS: 0.1762798\n",
      "===========================================================\n"
     ]
    },
    {
     "name": "stderr",
     "output_type": "stream",
     "text": [
      ">>>>>>>>>>>>>>>>>>>>>\n",
      "Main Epoch (Outer Loop):  46%|████▌     | 118/256 [04:01<05:24,  2.35s/it]"
     ]
    },
    {
     "name": "stdout",
     "output_type": "stream",
     "text": [
      "=====================  [EPOCH (117) LOGGING]  =====================\n",
      "| AVERAGES of THIS EPOCH:\n",
      "| ACCUMULATED LOSS: 0.1762538\n",
      "===========================================================\n"
     ]
    },
    {
     "name": "stderr",
     "output_type": "stream",
     "text": [
      ">>>>>>>>>>>>>>>>>>>>>\n",
      "Main Epoch (Outer Loop):  46%|████▋     | 119/256 [04:03<05:22,  2.35s/it]"
     ]
    },
    {
     "name": "stdout",
     "output_type": "stream",
     "text": [
      "=====================  [EPOCH (118) LOGGING]  =====================\n",
      "| AVERAGES of THIS EPOCH:\n",
      "| ACCUMULATED LOSS: 0.1761605\n",
      "===========================================================\n"
     ]
    },
    {
     "name": "stderr",
     "output_type": "stream",
     "text": [
      ">>>>>>>>>>>>>>>>>>>>>\n",
      "Main Epoch (Outer Loop):  47%|████▋     | 120/256 [04:05<05:19,  2.35s/it]"
     ]
    },
    {
     "name": "stdout",
     "output_type": "stream",
     "text": [
      "=====================  [EPOCH (119) LOGGING]  =====================\n",
      "| AVERAGES of THIS EPOCH:\n",
      "| ACCUMULATED LOSS: 0.1762769\n",
      "===========================================================\n"
     ]
    },
    {
     "name": "stderr",
     "output_type": "stream",
     "text": [
      ">>>>>>>>>>>>>>>>>>>>>\n",
      "Main Epoch (Outer Loop):  47%|████▋     | 121/256 [04:08<05:17,  2.35s/it]"
     ]
    },
    {
     "name": "stdout",
     "output_type": "stream",
     "text": [
      "=====================  [EPOCH (120) LOGGING]  =====================\n",
      "| AVERAGES of THIS EPOCH:\n",
      "| ACCUMULATED LOSS: 0.1764802\n",
      "===========================================================\n"
     ]
    },
    {
     "name": "stderr",
     "output_type": "stream",
     "text": [
      ">>>>>>>>>>>>>>>>>>>>>\n",
      "Main Epoch (Outer Loop):  48%|████▊     | 122/256 [04:10<05:15,  2.36s/it]"
     ]
    },
    {
     "name": "stdout",
     "output_type": "stream",
     "text": [
      "=====================  [EPOCH (121) LOGGING]  =====================\n",
      "| AVERAGES of THIS EPOCH:\n",
      "| ACCUMULATED LOSS: 0.1761702\n",
      "===========================================================\n"
     ]
    },
    {
     "name": "stderr",
     "output_type": "stream",
     "text": [
      ">>>>>>>>>>>>>>>>>>>>>\n",
      "Main Epoch (Outer Loop):  48%|████▊     | 123/256 [04:13<05:15,  2.37s/it]"
     ]
    },
    {
     "name": "stdout",
     "output_type": "stream",
     "text": [
      "=====================  [EPOCH (122) LOGGING]  =====================\n",
      "| AVERAGES of THIS EPOCH:\n",
      "| ACCUMULATED LOSS: 0.1762696\n",
      "===========================================================\n"
     ]
    },
    {
     "name": "stderr",
     "output_type": "stream",
     "text": [
      ">>>>>>>>>>>>>>>>>>>>>\n",
      "Main Epoch (Outer Loop):  48%|████▊     | 124/256 [04:15<05:12,  2.37s/it]"
     ]
    },
    {
     "name": "stdout",
     "output_type": "stream",
     "text": [
      "=====================  [EPOCH (123) LOGGING]  =====================\n",
      "| AVERAGES of THIS EPOCH:\n",
      "| ACCUMULATED LOSS: 0.1763899\n",
      "===========================================================\n"
     ]
    },
    {
     "name": "stderr",
     "output_type": "stream",
     "text": [
      ">>>>>>>>>>>>>>>>>>>>>\n",
      "Main Epoch (Outer Loop):  49%|████▉     | 125/256 [04:17<05:12,  2.39s/it]"
     ]
    },
    {
     "name": "stdout",
     "output_type": "stream",
     "text": [
      "=====================  [EPOCH (124) LOGGING]  =====================\n",
      "| AVERAGES of THIS EPOCH:\n",
      "| ACCUMULATED LOSS: 0.1762398\n",
      "===========================================================\n"
     ]
    },
    {
     "name": "stderr",
     "output_type": "stream",
     "text": [
      ">>>>>>>>>>>>>>>>>>>>>\n",
      "Main Epoch (Outer Loop):  49%|████▉     | 126/256 [04:20<05:10,  2.38s/it]"
     ]
    },
    {
     "name": "stdout",
     "output_type": "stream",
     "text": [
      "=====================  [EPOCH (125) LOGGING]  =====================\n",
      "| AVERAGES of THIS EPOCH:\n",
      "| ACCUMULATED LOSS: 0.1763480\n",
      "===========================================================\n"
     ]
    },
    {
     "name": "stderr",
     "output_type": "stream",
     "text": [
      ">>>>>>>>>>>>>>>>>>>>>\n",
      "Main Epoch (Outer Loop):  50%|████▉     | 127/256 [04:22<05:11,  2.41s/it]"
     ]
    },
    {
     "name": "stdout",
     "output_type": "stream",
     "text": [
      "=====================  [EPOCH (126) LOGGING]  =====================\n",
      "| AVERAGES of THIS EPOCH:\n",
      "| ACCUMULATED LOSS: 0.1761107\n",
      "===========================================================\n"
     ]
    },
    {
     "name": "stderr",
     "output_type": "stream",
     "text": [
      ">>>>>>>>>>>>>>>>>>>>>\n",
      "Main Epoch (Outer Loop):  50%|█████     | 128/256 [04:25<05:09,  2.42s/it]"
     ]
    },
    {
     "name": "stdout",
     "output_type": "stream",
     "text": [
      "=====================  [EPOCH (127) LOGGING]  =====================\n",
      "| AVERAGES of THIS EPOCH:\n",
      "| ACCUMULATED LOSS: 0.1762767\n",
      "===========================================================\n",
      "===================  [Epoch (128/256)]  ===================\n",
      "Entire Validation Dataset Average Loss: 0.1375\n",
      "====================================================\n"
     ]
    },
    {
     "name": "stderr",
     "output_type": "stream",
     "text": [
      ">>>>>>>>>>>>>>>>>>>>>\n",
      "Main Epoch (Outer Loop):  50%|█████     | 129/256 [04:27<05:02,  2.39s/it]"
     ]
    },
    {
     "name": "stdout",
     "output_type": "stream",
     "text": [
      "=====================  [EPOCH (128) LOGGING]  =====================\n",
      "| AVERAGES of THIS EPOCH:\n",
      "| ACCUMULATED LOSS: 0.1764396\n",
      "===========================================================\n"
     ]
    },
    {
     "name": "stderr",
     "output_type": "stream",
     "text": [
      ">>>>>>>>>>>>>>>>>>>>>\n",
      "Main Epoch (Outer Loop):  51%|█████     | 130/256 [04:29<05:00,  2.39s/it]"
     ]
    },
    {
     "name": "stdout",
     "output_type": "stream",
     "text": [
      "=====================  [EPOCH (129) LOGGING]  =====================\n",
      "| AVERAGES of THIS EPOCH:\n",
      "| ACCUMULATED LOSS: 0.1764526\n",
      "===========================================================\n"
     ]
    },
    {
     "name": "stderr",
     "output_type": "stream",
     "text": [
      ">>>>>>>>>>>>>>>>>>>>>\n",
      "Main Epoch (Outer Loop):  51%|█████     | 131/256 [04:32<05:04,  2.44s/it]"
     ]
    },
    {
     "name": "stdout",
     "output_type": "stream",
     "text": [
      "=====================  [EPOCH (130) LOGGING]  =====================\n",
      "| AVERAGES of THIS EPOCH:\n",
      "| ACCUMULATED LOSS: 0.1762577\n",
      "===========================================================\n"
     ]
    },
    {
     "name": "stderr",
     "output_type": "stream",
     "text": [
      ">>>>>>>>>>>>>>>>>>>>>\n",
      "Main Epoch (Outer Loop):  52%|█████▏    | 132/256 [04:34<05:07,  2.48s/it]"
     ]
    },
    {
     "name": "stdout",
     "output_type": "stream",
     "text": [
      "=====================  [EPOCH (131) LOGGING]  =====================\n",
      "| AVERAGES of THIS EPOCH:\n",
      "| ACCUMULATED LOSS: 0.1761230\n",
      "===========================================================\n"
     ]
    },
    {
     "name": "stderr",
     "output_type": "stream",
     "text": [
      ">>>>>>>>>>>>>>>>>>>>>\n",
      "Main Epoch (Outer Loop):  52%|█████▏    | 133/256 [04:37<05:06,  2.49s/it]"
     ]
    },
    {
     "name": "stdout",
     "output_type": "stream",
     "text": [
      "=====================  [EPOCH (132) LOGGING]  =====================\n",
      "| AVERAGES of THIS EPOCH:\n",
      "| ACCUMULATED LOSS: 0.1763247\n",
      "===========================================================\n"
     ]
    },
    {
     "name": "stderr",
     "output_type": "stream",
     "text": [
      ">>>>>>>>>>>>>>>>>>>>>\n",
      "Main Epoch (Outer Loop):  52%|█████▏    | 134/256 [04:39<05:04,  2.50s/it]"
     ]
    },
    {
     "name": "stdout",
     "output_type": "stream",
     "text": [
      "=====================  [EPOCH (133) LOGGING]  =====================\n",
      "| AVERAGES of THIS EPOCH:\n",
      "| ACCUMULATED LOSS: 0.1762549\n",
      "===========================================================\n"
     ]
    },
    {
     "name": "stderr",
     "output_type": "stream",
     "text": [
      ">>>>>>>>>>>>>>>>>>>>>\n",
      "Main Epoch (Outer Loop):  53%|█████▎    | 135/256 [04:42<04:58,  2.46s/it]"
     ]
    },
    {
     "name": "stdout",
     "output_type": "stream",
     "text": [
      "=====================  [EPOCH (134) LOGGING]  =====================\n",
      "| AVERAGES of THIS EPOCH:\n",
      "| ACCUMULATED LOSS: 0.1763371\n",
      "===========================================================\n"
     ]
    },
    {
     "name": "stderr",
     "output_type": "stream",
     "text": [
      ">>>>>>>>>>>>>>>>>>>>>\n",
      "Main Epoch (Outer Loop):  53%|█████▎    | 136/256 [04:44<04:52,  2.44s/it]"
     ]
    },
    {
     "name": "stdout",
     "output_type": "stream",
     "text": [
      "=====================  [EPOCH (135) LOGGING]  =====================\n",
      "| AVERAGES of THIS EPOCH:\n",
      "| ACCUMULATED LOSS: 0.1763189\n",
      "===========================================================\n"
     ]
    },
    {
     "name": "stderr",
     "output_type": "stream",
     "text": [
      ">>>>>>>>>>>>>>>>>>>>>\n",
      "Main Epoch (Outer Loop):  54%|█████▎    | 137/256 [04:47<04:50,  2.44s/it]"
     ]
    },
    {
     "name": "stdout",
     "output_type": "stream",
     "text": [
      "=====================  [EPOCH (136) LOGGING]  =====================\n",
      "| AVERAGES of THIS EPOCH:\n",
      "| ACCUMULATED LOSS: 0.1761799\n",
      "===========================================================\n"
     ]
    },
    {
     "name": "stderr",
     "output_type": "stream",
     "text": [
      ">>>>>>>>>>>>>>>>>>>>>\n",
      "Main Epoch (Outer Loop):  54%|█████▍    | 138/256 [04:49<04:42,  2.39s/it]"
     ]
    },
    {
     "name": "stdout",
     "output_type": "stream",
     "text": [
      "=====================  [EPOCH (137) LOGGING]  =====================\n",
      "| AVERAGES of THIS EPOCH:\n",
      "| ACCUMULATED LOSS: 0.1763159\n",
      "===========================================================\n"
     ]
    },
    {
     "name": "stderr",
     "output_type": "stream",
     "text": [
      ">>>>>>>>>>>>>>>>>>>>>\n",
      "Main Epoch (Outer Loop):  54%|█████▍    | 139/256 [04:51<04:35,  2.36s/it]"
     ]
    },
    {
     "name": "stdout",
     "output_type": "stream",
     "text": [
      "=====================  [EPOCH (138) LOGGING]  =====================\n",
      "| AVERAGES of THIS EPOCH:\n",
      "| ACCUMULATED LOSS: 0.1761995\n",
      "===========================================================\n"
     ]
    },
    {
     "name": "stderr",
     "output_type": "stream",
     "text": [
      ">>>>>>>>>>>>>>>>>>>>>\n",
      "Main Epoch (Outer Loop):  55%|█████▍    | 140/256 [04:53<04:28,  2.31s/it]"
     ]
    },
    {
     "name": "stdout",
     "output_type": "stream",
     "text": [
      "=====================  [EPOCH (139) LOGGING]  =====================\n",
      "| AVERAGES of THIS EPOCH:\n",
      "| ACCUMULATED LOSS: 0.1764431\n",
      "===========================================================\n"
     ]
    },
    {
     "name": "stderr",
     "output_type": "stream",
     "text": [
      ">>>>>>>>>>>>>>>>>>>>>\n",
      "Main Epoch (Outer Loop):  55%|█████▌    | 141/256 [04:56<04:21,  2.28s/it]"
     ]
    },
    {
     "name": "stdout",
     "output_type": "stream",
     "text": [
      "=====================  [EPOCH (140) LOGGING]  =====================\n",
      "| AVERAGES of THIS EPOCH:\n",
      "| ACCUMULATED LOSS: 0.1764133\n",
      "===========================================================\n"
     ]
    },
    {
     "name": "stderr",
     "output_type": "stream",
     "text": [
      ">>>>>>>>>>>>>>>>>>>>>\n",
      "Main Epoch (Outer Loop):  55%|█████▌    | 142/256 [04:58<04:18,  2.27s/it]"
     ]
    },
    {
     "name": "stdout",
     "output_type": "stream",
     "text": [
      "=====================  [EPOCH (141) LOGGING]  =====================\n",
      "| AVERAGES of THIS EPOCH:\n",
      "| ACCUMULATED LOSS: 0.1762686\n",
      "===========================================================\n"
     ]
    },
    {
     "name": "stderr",
     "output_type": "stream",
     "text": [
      ">>>>>>>>>>>>>>>>>>>>>\n",
      "Main Epoch (Outer Loop):  56%|█████▌    | 143/256 [05:00<04:15,  2.26s/it]"
     ]
    },
    {
     "name": "stdout",
     "output_type": "stream",
     "text": [
      "=====================  [EPOCH (142) LOGGING]  =====================\n",
      "| AVERAGES of THIS EPOCH:\n",
      "| ACCUMULATED LOSS: 0.1761372\n",
      "===========================================================\n"
     ]
    },
    {
     "name": "stderr",
     "output_type": "stream",
     "text": [
      ">>>>>>>>>>>>>>>>>>>>>\n",
      "Main Epoch (Outer Loop):  56%|█████▋    | 144/256 [05:02<04:13,  2.26s/it]"
     ]
    },
    {
     "name": "stdout",
     "output_type": "stream",
     "text": [
      "=====================  [EPOCH (143) LOGGING]  =====================\n",
      "| AVERAGES of THIS EPOCH:\n",
      "| ACCUMULATED LOSS: 0.1761680\n",
      "===========================================================\n"
     ]
    },
    {
     "name": "stderr",
     "output_type": "stream",
     "text": [
      ">>>>>>>>>>>>>>>>>>>>>\n",
      "Main Epoch (Outer Loop):  57%|█████▋    | 145/256 [05:05<04:10,  2.26s/it]"
     ]
    },
    {
     "name": "stdout",
     "output_type": "stream",
     "text": [
      "=====================  [EPOCH (144) LOGGING]  =====================\n",
      "| AVERAGES of THIS EPOCH:\n",
      "| ACCUMULATED LOSS: 0.1762833\n",
      "===========================================================\n"
     ]
    },
    {
     "name": "stderr",
     "output_type": "stream",
     "text": [
      ">>>>>>>>>>>>>>>>>>>>>\n",
      "Main Epoch (Outer Loop):  57%|█████▋    | 146/256 [05:07<04:09,  2.26s/it]"
     ]
    },
    {
     "name": "stdout",
     "output_type": "stream",
     "text": [
      "=====================  [EPOCH (145) LOGGING]  =====================\n",
      "| AVERAGES of THIS EPOCH:\n",
      "| ACCUMULATED LOSS: 0.1762875\n",
      "===========================================================\n"
     ]
    },
    {
     "name": "stderr",
     "output_type": "stream",
     "text": [
      ">>>>>>>>>>>>>>>>>>>>>\n",
      "Main Epoch (Outer Loop):  57%|█████▋    | 147/256 [05:09<04:07,  2.27s/it]"
     ]
    },
    {
     "name": "stdout",
     "output_type": "stream",
     "text": [
      "=====================  [EPOCH (146) LOGGING]  =====================\n",
      "| AVERAGES of THIS EPOCH:\n",
      "| ACCUMULATED LOSS: 0.1763869\n",
      "===========================================================\n"
     ]
    },
    {
     "name": "stderr",
     "output_type": "stream",
     "text": [
      ">>>>>>>>>>>>>>>>>>>>>\n",
      "Main Epoch (Outer Loop):  58%|█████▊    | 148/256 [05:11<04:02,  2.25s/it]"
     ]
    },
    {
     "name": "stdout",
     "output_type": "stream",
     "text": [
      "=====================  [EPOCH (147) LOGGING]  =====================\n",
      "| AVERAGES of THIS EPOCH:\n",
      "| ACCUMULATED LOSS: 0.1763738\n",
      "===========================================================\n"
     ]
    },
    {
     "name": "stderr",
     "output_type": "stream",
     "text": [
      ">>>>>>>>>>>>>>>>>>>>>\n",
      "Main Epoch (Outer Loop):  58%|█████▊    | 149/256 [05:14<04:01,  2.26s/it]"
     ]
    },
    {
     "name": "stdout",
     "output_type": "stream",
     "text": [
      "=====================  [EPOCH (148) LOGGING]  =====================\n",
      "| AVERAGES of THIS EPOCH:\n",
      "| ACCUMULATED LOSS: 0.1760727\n",
      "===========================================================\n"
     ]
    },
    {
     "name": "stderr",
     "output_type": "stream",
     "text": [
      ">>>>>>>>>>>>>>>>>>>>>\n",
      "Main Epoch (Outer Loop):  59%|█████▊    | 150/256 [05:16<03:58,  2.25s/it]"
     ]
    },
    {
     "name": "stdout",
     "output_type": "stream",
     "text": [
      "=====================  [EPOCH (149) LOGGING]  =====================\n",
      "| AVERAGES of THIS EPOCH:\n",
      "| ACCUMULATED LOSS: 0.1765331\n",
      "===========================================================\n"
     ]
    },
    {
     "name": "stderr",
     "output_type": "stream",
     "text": [
      ">>>>>>>>>>>>>>>>>>>>>\n",
      "Main Epoch (Outer Loop):  59%|█████▉    | 151/256 [05:18<03:57,  2.26s/it]"
     ]
    },
    {
     "name": "stdout",
     "output_type": "stream",
     "text": [
      "=====================  [EPOCH (150) LOGGING]  =====================\n",
      "| AVERAGES of THIS EPOCH:\n",
      "| ACCUMULATED LOSS: 0.1761905\n",
      "===========================================================\n"
     ]
    },
    {
     "name": "stderr",
     "output_type": "stream",
     "text": [
      ">>>>>>>>>>>>>>>>>>>>>\n",
      "Main Epoch (Outer Loop):  59%|█████▉    | 152/256 [05:20<03:56,  2.27s/it]"
     ]
    },
    {
     "name": "stdout",
     "output_type": "stream",
     "text": [
      "=====================  [EPOCH (151) LOGGING]  =====================\n",
      "| AVERAGES of THIS EPOCH:\n",
      "| ACCUMULATED LOSS: 0.1763437\n",
      "===========================================================\n"
     ]
    },
    {
     "name": "stderr",
     "output_type": "stream",
     "text": [
      ">>>>>>>>>>>>>>>>>>>>>\n",
      "Main Epoch (Outer Loop):  60%|█████▉    | 153/256 [05:23<03:48,  2.22s/it]"
     ]
    },
    {
     "name": "stdout",
     "output_type": "stream",
     "text": [
      "=====================  [EPOCH (152) LOGGING]  =====================\n",
      "| AVERAGES of THIS EPOCH:\n",
      "| ACCUMULATED LOSS: 0.1761812\n",
      "===========================================================\n"
     ]
    },
    {
     "name": "stderr",
     "output_type": "stream",
     "text": [
      ">>>>>>>>>>>>>>>>>>>>>\n",
      "Main Epoch (Outer Loop):  60%|██████    | 154/256 [05:25<03:46,  2.22s/it]"
     ]
    },
    {
     "name": "stdout",
     "output_type": "stream",
     "text": [
      "=====================  [EPOCH (153) LOGGING]  =====================\n",
      "| AVERAGES of THIS EPOCH:\n",
      "| ACCUMULATED LOSS: 0.1765235\n",
      "===========================================================\n"
     ]
    },
    {
     "name": "stderr",
     "output_type": "stream",
     "text": [
      ">>>>>>>>>>>>>>>>>>>>>\n",
      "Main Epoch (Outer Loop):  61%|██████    | 155/256 [05:27<03:45,  2.23s/it]"
     ]
    },
    {
     "name": "stdout",
     "output_type": "stream",
     "text": [
      "=====================  [EPOCH (154) LOGGING]  =====================\n",
      "| AVERAGES of THIS EPOCH:\n",
      "| ACCUMULATED LOSS: 0.1763199\n",
      "===========================================================\n"
     ]
    },
    {
     "name": "stderr",
     "output_type": "stream",
     "text": [
      ">>>>>>>>>>>>>>>>>>>>>\n",
      "Main Epoch (Outer Loop):  61%|██████    | 156/256 [05:29<03:49,  2.29s/it]"
     ]
    },
    {
     "name": "stdout",
     "output_type": "stream",
     "text": [
      "=====================  [EPOCH (155) LOGGING]  =====================\n",
      "| AVERAGES of THIS EPOCH:\n",
      "| ACCUMULATED LOSS: 0.1762883\n",
      "===========================================================\n"
     ]
    },
    {
     "name": "stderr",
     "output_type": "stream",
     "text": [
      ">>>>>>>>>>>>>>>>>>>>>\n",
      "Main Epoch (Outer Loop):  61%|██████▏   | 157/256 [05:32<03:49,  2.32s/it]"
     ]
    },
    {
     "name": "stdout",
     "output_type": "stream",
     "text": [
      "=====================  [EPOCH (156) LOGGING]  =====================\n",
      "| AVERAGES of THIS EPOCH:\n",
      "| ACCUMULATED LOSS: 0.1761473\n",
      "===========================================================\n"
     ]
    },
    {
     "name": "stderr",
     "output_type": "stream",
     "text": [
      ">>>>>>>>>>>>>>>>>>>>>\n",
      "Main Epoch (Outer Loop):  62%|██████▏   | 158/256 [05:34<03:47,  2.32s/it]"
     ]
    },
    {
     "name": "stdout",
     "output_type": "stream",
     "text": [
      "=====================  [EPOCH (157) LOGGING]  =====================\n",
      "| AVERAGES of THIS EPOCH:\n",
      "| ACCUMULATED LOSS: 0.1764529\n",
      "===========================================================\n"
     ]
    },
    {
     "name": "stderr",
     "output_type": "stream",
     "text": [
      ">>>>>>>>>>>>>>>>>>>>>\n",
      "Main Epoch (Outer Loop):  62%|██████▏   | 159/256 [05:36<03:43,  2.31s/it]"
     ]
    },
    {
     "name": "stdout",
     "output_type": "stream",
     "text": [
      "=====================  [EPOCH (158) LOGGING]  =====================\n",
      "| AVERAGES of THIS EPOCH:\n",
      "| ACCUMULATED LOSS: 0.1763625\n",
      "===========================================================\n"
     ]
    },
    {
     "name": "stderr",
     "output_type": "stream",
     "text": [
      ">>>>>>>>>>>>>>>>>>>>>\n",
      "Main Epoch (Outer Loop):  62%|██████▎   | 160/256 [05:39<03:39,  2.29s/it]"
     ]
    },
    {
     "name": "stdout",
     "output_type": "stream",
     "text": [
      "=====================  [EPOCH (159) LOGGING]  =====================\n",
      "| AVERAGES of THIS EPOCH:\n",
      "| ACCUMULATED LOSS: 0.1762083\n",
      "===========================================================\n"
     ]
    },
    {
     "name": "stderr",
     "output_type": "stream",
     "text": [
      ">>>>>>>>>>>>>>>>>>>>>\n",
      "Main Epoch (Outer Loop):  63%|██████▎   | 161/256 [05:41<03:35,  2.26s/it]"
     ]
    },
    {
     "name": "stdout",
     "output_type": "stream",
     "text": [
      "=====================  [EPOCH (160) LOGGING]  =====================\n",
      "| AVERAGES of THIS EPOCH:\n",
      "| ACCUMULATED LOSS: 0.1762514\n",
      "===========================================================\n"
     ]
    },
    {
     "name": "stderr",
     "output_type": "stream",
     "text": [
      ">>>>>>>>>>>>>>>>>>>>>\n",
      "Main Epoch (Outer Loop):  63%|██████▎   | 162/256 [05:43<03:29,  2.23s/it]"
     ]
    },
    {
     "name": "stdout",
     "output_type": "stream",
     "text": [
      "=====================  [EPOCH (161) LOGGING]  =====================\n",
      "| AVERAGES of THIS EPOCH:\n",
      "| ACCUMULATED LOSS: 0.1762476\n",
      "===========================================================\n"
     ]
    },
    {
     "name": "stderr",
     "output_type": "stream",
     "text": [
      ">>>>>>>>>>>>>>>>>>>>>\n",
      "Main Epoch (Outer Loop):  64%|██████▎   | 163/256 [05:45<03:26,  2.22s/it]"
     ]
    },
    {
     "name": "stdout",
     "output_type": "stream",
     "text": [
      "=====================  [EPOCH (162) LOGGING]  =====================\n",
      "| AVERAGES of THIS EPOCH:\n",
      "| ACCUMULATED LOSS: 0.1761013\n",
      "===========================================================\n"
     ]
    },
    {
     "name": "stderr",
     "output_type": "stream",
     "text": [
      ">>>>>>>>>>>>>>>>>>>>>\n",
      "Main Epoch (Outer Loop):  64%|██████▍   | 164/256 [05:47<03:23,  2.21s/it]"
     ]
    },
    {
     "name": "stdout",
     "output_type": "stream",
     "text": [
      "=====================  [EPOCH (163) LOGGING]  =====================\n",
      "| AVERAGES of THIS EPOCH:\n",
      "| ACCUMULATED LOSS: 0.1764056\n",
      "===========================================================\n"
     ]
    },
    {
     "name": "stderr",
     "output_type": "stream",
     "text": [
      ">>>>>>>>>>>>>>>>>>>>>\n",
      "Main Epoch (Outer Loop):  64%|██████▍   | 165/256 [05:50<03:22,  2.22s/it]"
     ]
    },
    {
     "name": "stdout",
     "output_type": "stream",
     "text": [
      "=====================  [EPOCH (164) LOGGING]  =====================\n",
      "| AVERAGES of THIS EPOCH:\n",
      "| ACCUMULATED LOSS: 0.1764436\n",
      "===========================================================\n"
     ]
    },
    {
     "name": "stderr",
     "output_type": "stream",
     "text": [
      ">>>>>>>>>>>>>>>>>>>>>\n",
      "Main Epoch (Outer Loop):  65%|██████▍   | 166/256 [05:52<03:19,  2.21s/it]"
     ]
    },
    {
     "name": "stdout",
     "output_type": "stream",
     "text": [
      "=====================  [EPOCH (165) LOGGING]  =====================\n",
      "| AVERAGES of THIS EPOCH:\n",
      "| ACCUMULATED LOSS: 0.1762002\n",
      "===========================================================\n"
     ]
    },
    {
     "name": "stderr",
     "output_type": "stream",
     "text": [
      ">>>>>>>>>>>>>>>>>>>>>\n",
      "Main Epoch (Outer Loop):  65%|██████▌   | 167/256 [05:54<03:17,  2.22s/it]"
     ]
    },
    {
     "name": "stdout",
     "output_type": "stream",
     "text": [
      "=====================  [EPOCH (166) LOGGING]  =====================\n",
      "| AVERAGES of THIS EPOCH:\n",
      "| ACCUMULATED LOSS: 0.1760727\n",
      "===========================================================\n"
     ]
    },
    {
     "name": "stderr",
     "output_type": "stream",
     "text": [
      ">>>>>>>>>>>>>>>>>>>>>\n",
      "Main Epoch (Outer Loop):  66%|██████▌   | 168/256 [05:56<03:14,  2.21s/it]"
     ]
    },
    {
     "name": "stdout",
     "output_type": "stream",
     "text": [
      "=====================  [EPOCH (167) LOGGING]  =====================\n",
      "| AVERAGES of THIS EPOCH:\n",
      "| ACCUMULATED LOSS: 0.1761316\n",
      "===========================================================\n"
     ]
    },
    {
     "name": "stderr",
     "output_type": "stream",
     "text": [
      ">>>>>>>>>>>>>>>>>>>>>\n",
      "Main Epoch (Outer Loop):  66%|██████▌   | 169/256 [05:59<03:12,  2.21s/it]"
     ]
    },
    {
     "name": "stdout",
     "output_type": "stream",
     "text": [
      "=====================  [EPOCH (168) LOGGING]  =====================\n",
      "| AVERAGES of THIS EPOCH:\n",
      "| ACCUMULATED LOSS: 0.1761306\n",
      "===========================================================\n"
     ]
    },
    {
     "name": "stderr",
     "output_type": "stream",
     "text": [
      ">>>>>>>>>>>>>>>>>>>>>\n",
      "Main Epoch (Outer Loop):  66%|██████▋   | 170/256 [06:01<03:09,  2.21s/it]"
     ]
    },
    {
     "name": "stdout",
     "output_type": "stream",
     "text": [
      "=====================  [EPOCH (169) LOGGING]  =====================\n",
      "| AVERAGES of THIS EPOCH:\n",
      "| ACCUMULATED LOSS: 0.1761896\n",
      "===========================================================\n"
     ]
    },
    {
     "name": "stderr",
     "output_type": "stream",
     "text": [
      ">>>>>>>>>>>>>>>>>>>>>\n",
      "Main Epoch (Outer Loop):  67%|██████▋   | 171/256 [06:03<03:06,  2.20s/it]"
     ]
    },
    {
     "name": "stdout",
     "output_type": "stream",
     "text": [
      "=====================  [EPOCH (170) LOGGING]  =====================\n",
      "| AVERAGES of THIS EPOCH:\n",
      "| ACCUMULATED LOSS: 0.1762593\n",
      "===========================================================\n"
     ]
    },
    {
     "name": "stderr",
     "output_type": "stream",
     "text": [
      ">>>>>>>>>>>>>>>>>>>>>\n",
      "Main Epoch (Outer Loop):  67%|██████▋   | 172/256 [06:05<03:05,  2.21s/it]"
     ]
    },
    {
     "name": "stdout",
     "output_type": "stream",
     "text": [
      "=====================  [EPOCH (171) LOGGING]  =====================\n",
      "| AVERAGES of THIS EPOCH:\n",
      "| ACCUMULATED LOSS: 0.1762752\n",
      "===========================================================\n"
     ]
    },
    {
     "name": "stderr",
     "output_type": "stream",
     "text": [
      ">>>>>>>>>>>>>>>>>>>>>\n",
      "Main Epoch (Outer Loop):  68%|██████▊   | 173/256 [06:08<03:07,  2.26s/it]"
     ]
    },
    {
     "name": "stdout",
     "output_type": "stream",
     "text": [
      "=====================  [EPOCH (172) LOGGING]  =====================\n",
      "| AVERAGES of THIS EPOCH:\n",
      "| ACCUMULATED LOSS: 0.1763432\n",
      "===========================================================\n"
     ]
    },
    {
     "name": "stderr",
     "output_type": "stream",
     "text": [
      ">>>>>>>>>>>>>>>>>>>>>\n",
      "Main Epoch (Outer Loop):  68%|██████▊   | 174/256 [06:10<03:12,  2.34s/it]"
     ]
    },
    {
     "name": "stdout",
     "output_type": "stream",
     "text": [
      "=====================  [EPOCH (173) LOGGING]  =====================\n",
      "| AVERAGES of THIS EPOCH:\n",
      "| ACCUMULATED LOSS: 0.1764134\n",
      "===========================================================\n"
     ]
    },
    {
     "name": "stderr",
     "output_type": "stream",
     "text": [
      ">>>>>>>>>>>>>>>>>>>>>\n",
      "Main Epoch (Outer Loop):  68%|██████▊   | 175/256 [06:12<03:11,  2.36s/it]"
     ]
    },
    {
     "name": "stdout",
     "output_type": "stream",
     "text": [
      "=====================  [EPOCH (174) LOGGING]  =====================\n",
      "| AVERAGES of THIS EPOCH:\n",
      "| ACCUMULATED LOSS: 0.1764316\n",
      "===========================================================\n"
     ]
    },
    {
     "name": "stderr",
     "output_type": "stream",
     "text": [
      ">>>>>>>>>>>>>>>>>>>>>\n",
      "Main Epoch (Outer Loop):  69%|██████▉   | 176/256 [06:15<03:07,  2.34s/it]"
     ]
    },
    {
     "name": "stdout",
     "output_type": "stream",
     "text": [
      "=====================  [EPOCH (175) LOGGING]  =====================\n",
      "| AVERAGES of THIS EPOCH:\n",
      "| ACCUMULATED LOSS: 0.1760855\n",
      "===========================================================\n"
     ]
    },
    {
     "name": "stderr",
     "output_type": "stream",
     "text": [
      ">>>>>>>>>>>>>>>>>>>>>\n",
      "Main Epoch (Outer Loop):  69%|██████▉   | 177/256 [06:17<03:02,  2.31s/it]"
     ]
    },
    {
     "name": "stdout",
     "output_type": "stream",
     "text": [
      "=====================  [EPOCH (176) LOGGING]  =====================\n",
      "| AVERAGES of THIS EPOCH:\n",
      "| ACCUMULATED LOSS: 0.1760858\n",
      "===========================================================\n"
     ]
    },
    {
     "name": "stderr",
     "output_type": "stream",
     "text": [
      ">>>>>>>>>>>>>>>>>>>>>\n",
      "Main Epoch (Outer Loop):  70%|██████▉   | 178/256 [06:19<02:58,  2.29s/it]"
     ]
    },
    {
     "name": "stdout",
     "output_type": "stream",
     "text": [
      "=====================  [EPOCH (177) LOGGING]  =====================\n",
      "| AVERAGES of THIS EPOCH:\n",
      "| ACCUMULATED LOSS: 0.1760959\n",
      "===========================================================\n"
     ]
    },
    {
     "name": "stderr",
     "output_type": "stream",
     "text": [
      ">>>>>>>>>>>>>>>>>>>>>\n",
      "Main Epoch (Outer Loop):  70%|██████▉   | 179/256 [06:21<02:52,  2.24s/it]"
     ]
    },
    {
     "name": "stdout",
     "output_type": "stream",
     "text": [
      "=====================  [EPOCH (178) LOGGING]  =====================\n",
      "| AVERAGES of THIS EPOCH:\n",
      "| ACCUMULATED LOSS: 0.1763562\n",
      "===========================================================\n"
     ]
    },
    {
     "name": "stderr",
     "output_type": "stream",
     "text": [
      ">>>>>>>>>>>>>>>>>>>>>\n",
      "Main Epoch (Outer Loop):  70%|███████   | 180/256 [06:24<02:48,  2.22s/it]"
     ]
    },
    {
     "name": "stdout",
     "output_type": "stream",
     "text": [
      "=====================  [EPOCH (179) LOGGING]  =====================\n",
      "| AVERAGES of THIS EPOCH:\n",
      "| ACCUMULATED LOSS: 0.1763726\n",
      "===========================================================\n"
     ]
    },
    {
     "name": "stderr",
     "output_type": "stream",
     "text": [
      ">>>>>>>>>>>>>>>>>>>>>\n",
      "Main Epoch (Outer Loop):  71%|███████   | 181/256 [06:26<02:45,  2.20s/it]"
     ]
    },
    {
     "name": "stdout",
     "output_type": "stream",
     "text": [
      "=====================  [EPOCH (180) LOGGING]  =====================\n",
      "| AVERAGES of THIS EPOCH:\n",
      "| ACCUMULATED LOSS: 0.1760746\n",
      "===========================================================\n"
     ]
    },
    {
     "name": "stderr",
     "output_type": "stream",
     "text": [
      ">>>>>>>>>>>>>>>>>>>>>\n",
      "Main Epoch (Outer Loop):  71%|███████   | 182/256 [06:28<02:46,  2.25s/it]"
     ]
    },
    {
     "name": "stdout",
     "output_type": "stream",
     "text": [
      "=====================  [EPOCH (181) LOGGING]  =====================\n",
      "| AVERAGES of THIS EPOCH:\n",
      "| ACCUMULATED LOSS: 0.1761597\n",
      "===========================================================\n"
     ]
    },
    {
     "name": "stderr",
     "output_type": "stream",
     "text": [
      ">>>>>>>>>>>>>>>>>>>>>\n",
      "Main Epoch (Outer Loop):  71%|███████▏  | 183/256 [06:31<02:50,  2.33s/it]"
     ]
    },
    {
     "name": "stdout",
     "output_type": "stream",
     "text": [
      "=====================  [EPOCH (182) LOGGING]  =====================\n",
      "| AVERAGES of THIS EPOCH:\n",
      "| ACCUMULATED LOSS: 0.1761605\n",
      "===========================================================\n"
     ]
    },
    {
     "name": "stderr",
     "output_type": "stream",
     "text": [
      ">>>>>>>>>>>>>>>>>>>>>\n",
      "Main Epoch (Outer Loop):  72%|███████▏  | 184/256 [06:33<02:48,  2.35s/it]"
     ]
    },
    {
     "name": "stdout",
     "output_type": "stream",
     "text": [
      "=====================  [EPOCH (183) LOGGING]  =====================\n",
      "| AVERAGES of THIS EPOCH:\n",
      "| ACCUMULATED LOSS: 0.1763245\n",
      "===========================================================\n"
     ]
    },
    {
     "name": "stderr",
     "output_type": "stream",
     "text": [
      ">>>>>>>>>>>>>>>>>>>>>\n",
      "Main Epoch (Outer Loop):  72%|███████▏  | 185/256 [06:35<02:44,  2.31s/it]"
     ]
    },
    {
     "name": "stdout",
     "output_type": "stream",
     "text": [
      "=====================  [EPOCH (184) LOGGING]  =====================\n",
      "| AVERAGES of THIS EPOCH:\n",
      "| ACCUMULATED LOSS: 0.1762658\n",
      "===========================================================\n"
     ]
    },
    {
     "name": "stderr",
     "output_type": "stream",
     "text": [
      ">>>>>>>>>>>>>>>>>>>>>\n",
      "Main Epoch (Outer Loop):  73%|███████▎  | 186/256 [06:37<02:40,  2.29s/it]"
     ]
    },
    {
     "name": "stdout",
     "output_type": "stream",
     "text": [
      "=====================  [EPOCH (185) LOGGING]  =====================\n",
      "| AVERAGES of THIS EPOCH:\n",
      "| ACCUMULATED LOSS: 0.1758842\n",
      "===========================================================\n"
     ]
    },
    {
     "name": "stderr",
     "output_type": "stream",
     "text": [
      ">>>>>>>>>>>>>>>>>>>>>\n",
      "Main Epoch (Outer Loop):  73%|███████▎  | 187/256 [06:40<02:38,  2.30s/it]"
     ]
    },
    {
     "name": "stdout",
     "output_type": "stream",
     "text": [
      "=====================  [EPOCH (186) LOGGING]  =====================\n",
      "| AVERAGES of THIS EPOCH:\n",
      "| ACCUMULATED LOSS: 0.1762706\n",
      "===========================================================\n"
     ]
    },
    {
     "name": "stderr",
     "output_type": "stream",
     "text": [
      ">>>>>>>>>>>>>>>>>>>>>\n",
      "Main Epoch (Outer Loop):  73%|███████▎  | 188/256 [06:42<02:38,  2.33s/it]"
     ]
    },
    {
     "name": "stdout",
     "output_type": "stream",
     "text": [
      "=====================  [EPOCH (187) LOGGING]  =====================\n",
      "| AVERAGES of THIS EPOCH:\n",
      "| ACCUMULATED LOSS: 0.1763642\n",
      "===========================================================\n"
     ]
    },
    {
     "name": "stderr",
     "output_type": "stream",
     "text": [
      ">>>>>>>>>>>>>>>>>>>>>\n",
      "Main Epoch (Outer Loop):  74%|███████▍  | 189/256 [06:45<02:43,  2.44s/it]"
     ]
    },
    {
     "name": "stdout",
     "output_type": "stream",
     "text": [
      "=====================  [EPOCH (188) LOGGING]  =====================\n",
      "| AVERAGES of THIS EPOCH:\n",
      "| ACCUMULATED LOSS: 0.1760514\n",
      "===========================================================\n"
     ]
    },
    {
     "name": "stderr",
     "output_type": "stream",
     "text": [
      ">>>>>>>>>>>>>>>>>>>>>\n",
      "Main Epoch (Outer Loop):  74%|███████▍  | 190/256 [06:48<02:46,  2.53s/it]"
     ]
    },
    {
     "name": "stdout",
     "output_type": "stream",
     "text": [
      "=====================  [EPOCH (189) LOGGING]  =====================\n",
      "| AVERAGES of THIS EPOCH:\n",
      "| ACCUMULATED LOSS: 0.1762823\n",
      "===========================================================\n"
     ]
    },
    {
     "name": "stderr",
     "output_type": "stream",
     "text": [
      ">>>>>>>>>>>>>>>>>>>>>\n",
      "Main Epoch (Outer Loop):  75%|███████▍  | 191/256 [06:50<02:43,  2.52s/it]"
     ]
    },
    {
     "name": "stdout",
     "output_type": "stream",
     "text": [
      "=====================  [EPOCH (190) LOGGING]  =====================\n",
      "| AVERAGES of THIS EPOCH:\n",
      "| ACCUMULATED LOSS: 0.1763750\n",
      "===========================================================\n"
     ]
    },
    {
     "name": "stderr",
     "output_type": "stream",
     "text": [
      ">>>>>>>>>>>>>>>>>>>>>\n",
      "Main Epoch (Outer Loop):  75%|███████▌  | 192/256 [06:53<02:39,  2.49s/it]"
     ]
    },
    {
     "name": "stdout",
     "output_type": "stream",
     "text": [
      "=====================  [EPOCH (191) LOGGING]  =====================\n",
      "| AVERAGES of THIS EPOCH:\n",
      "| ACCUMULATED LOSS: 0.1761582\n",
      "===========================================================\n",
      "===================  [Epoch (192/256)]  ===================\n",
      "Entire Validation Dataset Average Loss: 0.1373\n",
      "====================================================\n"
     ]
    },
    {
     "name": "stderr",
     "output_type": "stream",
     "text": [
      ">>>>>>>>>>>>>>>>>>>>>\n",
      "Main Epoch (Outer Loop):  75%|███████▌  | 193/256 [06:55<02:33,  2.44s/it]"
     ]
    },
    {
     "name": "stdout",
     "output_type": "stream",
     "text": [
      "=====================  [EPOCH (192) LOGGING]  =====================\n",
      "| AVERAGES of THIS EPOCH:\n",
      "| ACCUMULATED LOSS: 0.1762395\n",
      "===========================================================\n"
     ]
    },
    {
     "name": "stderr",
     "output_type": "stream",
     "text": [
      ">>>>>>>>>>>>>>>>>>>>>\n",
      "Main Epoch (Outer Loop):  76%|███████▌  | 194/256 [06:57<02:29,  2.41s/it]"
     ]
    },
    {
     "name": "stdout",
     "output_type": "stream",
     "text": [
      "=====================  [EPOCH (193) LOGGING]  =====================\n",
      "| AVERAGES of THIS EPOCH:\n",
      "| ACCUMULATED LOSS: 0.1762811\n",
      "===========================================================\n"
     ]
    },
    {
     "name": "stderr",
     "output_type": "stream",
     "text": [
      ">>>>>>>>>>>>>>>>>>>>>\n",
      "Main Epoch (Outer Loop):  76%|███████▌  | 195/256 [06:59<02:25,  2.38s/it]"
     ]
    },
    {
     "name": "stdout",
     "output_type": "stream",
     "text": [
      "=====================  [EPOCH (194) LOGGING]  =====================\n",
      "| AVERAGES of THIS EPOCH:\n",
      "| ACCUMULATED LOSS: 0.1761079\n",
      "===========================================================\n"
     ]
    },
    {
     "name": "stderr",
     "output_type": "stream",
     "text": [
      ">>>>>>>>>>>>>>>>>>>>>\n",
      "Main Epoch (Outer Loop):  77%|███████▋  | 196/256 [07:02<02:21,  2.37s/it]"
     ]
    },
    {
     "name": "stdout",
     "output_type": "stream",
     "text": [
      "=====================  [EPOCH (195) LOGGING]  =====================\n",
      "| AVERAGES of THIS EPOCH:\n",
      "| ACCUMULATED LOSS: 0.1760512\n",
      "===========================================================\n"
     ]
    },
    {
     "name": "stderr",
     "output_type": "stream",
     "text": [
      ">>>>>>>>>>>>>>>>>>>>>\n",
      "Main Epoch (Outer Loop):  77%|███████▋  | 197/256 [07:04<02:18,  2.35s/it]"
     ]
    },
    {
     "name": "stdout",
     "output_type": "stream",
     "text": [
      "=====================  [EPOCH (196) LOGGING]  =====================\n",
      "| AVERAGES of THIS EPOCH:\n",
      "| ACCUMULATED LOSS: 0.1761533\n",
      "===========================================================\n"
     ]
    },
    {
     "name": "stderr",
     "output_type": "stream",
     "text": [
      ">>>>>>>>>>>>>>>>>>>>>\n",
      "Main Epoch (Outer Loop):  77%|███████▋  | 198/256 [07:06<02:15,  2.34s/it]"
     ]
    },
    {
     "name": "stdout",
     "output_type": "stream",
     "text": [
      "=====================  [EPOCH (197) LOGGING]  =====================\n",
      "| AVERAGES of THIS EPOCH:\n",
      "| ACCUMULATED LOSS: 0.1760007\n",
      "===========================================================\n"
     ]
    },
    {
     "name": "stderr",
     "output_type": "stream",
     "text": [
      ">>>>>>>>>>>>>>>>>>>>>\n",
      "Main Epoch (Outer Loop):  78%|███████▊  | 199/256 [07:09<02:13,  2.35s/it]"
     ]
    },
    {
     "name": "stdout",
     "output_type": "stream",
     "text": [
      "=====================  [EPOCH (198) LOGGING]  =====================\n",
      "| AVERAGES of THIS EPOCH:\n",
      "| ACCUMULATED LOSS: 0.1766054\n",
      "===========================================================\n"
     ]
    },
    {
     "name": "stderr",
     "output_type": "stream",
     "text": [
      ">>>>>>>>>>>>>>>>>>>>>\n",
      "Main Epoch (Outer Loop):  78%|███████▊  | 200/256 [07:11<02:11,  2.35s/it]"
     ]
    },
    {
     "name": "stdout",
     "output_type": "stream",
     "text": [
      "=====================  [EPOCH (199) LOGGING]  =====================\n",
      "| AVERAGES of THIS EPOCH:\n",
      "| ACCUMULATED LOSS: 0.1761718\n",
      "===========================================================\n"
     ]
    },
    {
     "name": "stderr",
     "output_type": "stream",
     "text": [
      ">>>>>>>>>>>>>>>>>>>>>\n",
      "Main Epoch (Outer Loop):  79%|███████▊  | 201/256 [07:13<02:08,  2.33s/it]"
     ]
    },
    {
     "name": "stdout",
     "output_type": "stream",
     "text": [
      "=====================  [EPOCH (200) LOGGING]  =====================\n",
      "| AVERAGES of THIS EPOCH:\n",
      "| ACCUMULATED LOSS: 0.1761795\n",
      "===========================================================\n"
     ]
    },
    {
     "name": "stderr",
     "output_type": "stream",
     "text": [
      ">>>>>>>>>>>>>>>>>>>>>\n",
      "Main Epoch (Outer Loop):  79%|███████▉  | 202/256 [07:16<02:09,  2.39s/it]"
     ]
    },
    {
     "name": "stdout",
     "output_type": "stream",
     "text": [
      "=====================  [EPOCH (201) LOGGING]  =====================\n",
      "| AVERAGES of THIS EPOCH:\n",
      "| ACCUMULATED LOSS: 0.1762302\n",
      "===========================================================\n"
     ]
    },
    {
     "name": "stderr",
     "output_type": "stream",
     "text": [
      ">>>>>>>>>>>>>>>>>>>>>\n",
      "Main Epoch (Outer Loop):  79%|███████▉  | 203/256 [07:19<02:10,  2.47s/it]"
     ]
    },
    {
     "name": "stdout",
     "output_type": "stream",
     "text": [
      "=====================  [EPOCH (202) LOGGING]  =====================\n",
      "| AVERAGES of THIS EPOCH:\n",
      "| ACCUMULATED LOSS: 0.1762344\n",
      "===========================================================\n"
     ]
    },
    {
     "name": "stderr",
     "output_type": "stream",
     "text": [
      ">>>>>>>>>>>>>>>>>>>>>\n",
      "Main Epoch (Outer Loop):  80%|███████▉  | 204/256 [07:21<02:11,  2.52s/it]"
     ]
    },
    {
     "name": "stdout",
     "output_type": "stream",
     "text": [
      "=====================  [EPOCH (203) LOGGING]  =====================\n",
      "| AVERAGES of THIS EPOCH:\n",
      "| ACCUMULATED LOSS: 0.1762410\n",
      "===========================================================\n"
     ]
    },
    {
     "name": "stderr",
     "output_type": "stream",
     "text": [
      ">>>>>>>>>>>>>>>>>>>>>\n",
      "Main Epoch (Outer Loop):  80%|████████  | 205/256 [07:24<02:09,  2.54s/it]"
     ]
    },
    {
     "name": "stdout",
     "output_type": "stream",
     "text": [
      "=====================  [EPOCH (204) LOGGING]  =====================\n",
      "| AVERAGES of THIS EPOCH:\n",
      "| ACCUMULATED LOSS: 0.1761929\n",
      "===========================================================\n"
     ]
    },
    {
     "name": "stderr",
     "output_type": "stream",
     "text": [
      ">>>>>>>>>>>>>>>>>>>>>\n",
      "Main Epoch (Outer Loop):  80%|████████  | 206/256 [07:26<02:03,  2.48s/it]"
     ]
    },
    {
     "name": "stdout",
     "output_type": "stream",
     "text": [
      "=====================  [EPOCH (205) LOGGING]  =====================\n",
      "| AVERAGES of THIS EPOCH:\n",
      "| ACCUMULATED LOSS: 0.1763108\n",
      "===========================================================\n"
     ]
    },
    {
     "name": "stderr",
     "output_type": "stream",
     "text": [
      ">>>>>>>>>>>>>>>>>>>>>\n",
      "Main Epoch (Outer Loop):  81%|████████  | 207/256 [07:29<01:59,  2.45s/it]"
     ]
    },
    {
     "name": "stdout",
     "output_type": "stream",
     "text": [
      "=====================  [EPOCH (206) LOGGING]  =====================\n",
      "| AVERAGES of THIS EPOCH:\n",
      "| ACCUMULATED LOSS: 0.1761660\n",
      "===========================================================\n"
     ]
    },
    {
     "name": "stderr",
     "output_type": "stream",
     "text": [
      ">>>>>>>>>>>>>>>>>>>>>\n",
      "Main Epoch (Outer Loop):  81%|████████▏ | 208/256 [07:31<01:54,  2.38s/it]"
     ]
    },
    {
     "name": "stdout",
     "output_type": "stream",
     "text": [
      "=====================  [EPOCH (207) LOGGING]  =====================\n",
      "| AVERAGES of THIS EPOCH:\n",
      "| ACCUMULATED LOSS: 0.1762655\n",
      "===========================================================\n"
     ]
    },
    {
     "name": "stderr",
     "output_type": "stream",
     "text": [
      ">>>>>>>>>>>>>>>>>>>>>\n",
      "Main Epoch (Outer Loop):  82%|████████▏ | 209/256 [07:33<01:50,  2.36s/it]"
     ]
    },
    {
     "name": "stdout",
     "output_type": "stream",
     "text": [
      "=====================  [EPOCH (208) LOGGING]  =====================\n",
      "| AVERAGES of THIS EPOCH:\n",
      "| ACCUMULATED LOSS: 0.1764340\n",
      "===========================================================\n"
     ]
    },
    {
     "name": "stderr",
     "output_type": "stream",
     "text": [
      ">>>>>>>>>>>>>>>>>>>>>\n",
      "Main Epoch (Outer Loop):  82%|████████▏ | 210/256 [07:36<01:48,  2.37s/it]"
     ]
    },
    {
     "name": "stdout",
     "output_type": "stream",
     "text": [
      "=====================  [EPOCH (209) LOGGING]  =====================\n",
      "| AVERAGES of THIS EPOCH:\n",
      "| ACCUMULATED LOSS: 0.1763249\n",
      "===========================================================\n"
     ]
    },
    {
     "name": "stderr",
     "output_type": "stream",
     "text": [
      ">>>>>>>>>>>>>>>>>>>>>\n",
      "Main Epoch (Outer Loop):  82%|████████▏ | 211/256 [07:38<01:47,  2.39s/it]"
     ]
    },
    {
     "name": "stdout",
     "output_type": "stream",
     "text": [
      "=====================  [EPOCH (210) LOGGING]  =====================\n",
      "| AVERAGES of THIS EPOCH:\n",
      "| ACCUMULATED LOSS: 0.1762277\n",
      "===========================================================\n"
     ]
    },
    {
     "name": "stderr",
     "output_type": "stream",
     "text": [
      ">>>>>>>>>>>>>>>>>>>>>\n",
      "Main Epoch (Outer Loop):  83%|████████▎ | 212/256 [07:40<01:47,  2.43s/it]"
     ]
    },
    {
     "name": "stdout",
     "output_type": "stream",
     "text": [
      "=====================  [EPOCH (211) LOGGING]  =====================\n",
      "| AVERAGES of THIS EPOCH:\n",
      "| ACCUMULATED LOSS: 0.1763574\n",
      "===========================================================\n"
     ]
    },
    {
     "name": "stderr",
     "output_type": "stream",
     "text": [
      ">>>>>>>>>>>>>>>>>>>>>\n",
      "Main Epoch (Outer Loop):  83%|████████▎ | 213/256 [07:43<01:44,  2.43s/it]"
     ]
    },
    {
     "name": "stdout",
     "output_type": "stream",
     "text": [
      "=====================  [EPOCH (212) LOGGING]  =====================\n",
      "| AVERAGES of THIS EPOCH:\n",
      "| ACCUMULATED LOSS: 0.1765183\n",
      "===========================================================\n"
     ]
    },
    {
     "name": "stderr",
     "output_type": "stream",
     "text": [
      ">>>>>>>>>>>>>>>>>>>>>\n",
      "Main Epoch (Outer Loop):  84%|████████▎ | 214/256 [07:45<01:40,  2.39s/it]"
     ]
    },
    {
     "name": "stdout",
     "output_type": "stream",
     "text": [
      "=====================  [EPOCH (213) LOGGING]  =====================\n",
      "| AVERAGES of THIS EPOCH:\n",
      "| ACCUMULATED LOSS: 0.1763620\n",
      "===========================================================\n"
     ]
    },
    {
     "name": "stderr",
     "output_type": "stream",
     "text": [
      ">>>>>>>>>>>>>>>>>>>>>\n",
      "Main Epoch (Outer Loop):  84%|████████▍ | 215/256 [07:48<01:36,  2.36s/it]"
     ]
    },
    {
     "name": "stdout",
     "output_type": "stream",
     "text": [
      "=====================  [EPOCH (214) LOGGING]  =====================\n",
      "| AVERAGES of THIS EPOCH:\n",
      "| ACCUMULATED LOSS: 0.1763771\n",
      "===========================================================\n"
     ]
    },
    {
     "name": "stderr",
     "output_type": "stream",
     "text": [
      ">>>>>>>>>>>>>>>>>>>>>\n",
      "Main Epoch (Outer Loop):  84%|████████▍ | 216/256 [07:50<01:33,  2.34s/it]"
     ]
    },
    {
     "name": "stdout",
     "output_type": "stream",
     "text": [
      "=====================  [EPOCH (215) LOGGING]  =====================\n",
      "| AVERAGES of THIS EPOCH:\n",
      "| ACCUMULATED LOSS: 0.1763036\n",
      "===========================================================\n"
     ]
    },
    {
     "name": "stderr",
     "output_type": "stream",
     "text": [
      ">>>>>>>>>>>>>>>>>>>>>\n",
      "Main Epoch (Outer Loop):  85%|████████▍ | 217/256 [07:52<01:32,  2.36s/it]"
     ]
    },
    {
     "name": "stdout",
     "output_type": "stream",
     "text": [
      "=====================  [EPOCH (216) LOGGING]  =====================\n",
      "| AVERAGES of THIS EPOCH:\n",
      "| ACCUMULATED LOSS: 0.1762443\n",
      "===========================================================\n"
     ]
    },
    {
     "name": "stderr",
     "output_type": "stream",
     "text": [
      ">>>>>>>>>>>>>>>>>>>>>\n",
      "Main Epoch (Outer Loop):  85%|████████▌ | 218/256 [07:55<01:30,  2.38s/it]"
     ]
    },
    {
     "name": "stdout",
     "output_type": "stream",
     "text": [
      "=====================  [EPOCH (217) LOGGING]  =====================\n",
      "| AVERAGES of THIS EPOCH:\n",
      "| ACCUMULATED LOSS: 0.1760259\n",
      "===========================================================\n"
     ]
    },
    {
     "name": "stderr",
     "output_type": "stream",
     "text": [
      ">>>>>>>>>>>>>>>>>>>>>\n",
      "Main Epoch (Outer Loop):  86%|████████▌ | 219/256 [07:57<01:28,  2.40s/it]"
     ]
    },
    {
     "name": "stdout",
     "output_type": "stream",
     "text": [
      "=====================  [EPOCH (218) LOGGING]  =====================\n",
      "| AVERAGES of THIS EPOCH:\n",
      "| ACCUMULATED LOSS: 0.1762653\n",
      "===========================================================\n"
     ]
    },
    {
     "name": "stderr",
     "output_type": "stream",
     "text": [
      ">>>>>>>>>>>>>>>>>>>>>\n",
      "Main Epoch (Outer Loop):  86%|████████▌ | 220/256 [08:00<01:29,  2.48s/it]"
     ]
    },
    {
     "name": "stdout",
     "output_type": "stream",
     "text": [
      "=====================  [EPOCH (219) LOGGING]  =====================\n",
      "| AVERAGES of THIS EPOCH:\n",
      "| ACCUMULATED LOSS: 0.1763065\n",
      "===========================================================\n"
     ]
    },
    {
     "name": "stderr",
     "output_type": "stream",
     "text": [
      ">>>>>>>>>>>>>>>>>>>>>\n",
      "Main Epoch (Outer Loop):  86%|████████▋ | 221/256 [08:02<01:27,  2.49s/it]"
     ]
    },
    {
     "name": "stdout",
     "output_type": "stream",
     "text": [
      "=====================  [EPOCH (220) LOGGING]  =====================\n",
      "| AVERAGES of THIS EPOCH:\n",
      "| ACCUMULATED LOSS: 0.1762203\n",
      "===========================================================\n"
     ]
    },
    {
     "name": "stderr",
     "output_type": "stream",
     "text": [
      ">>>>>>>>>>>>>>>>>>>>>\n",
      "Main Epoch (Outer Loop):  87%|████████▋ | 222/256 [08:05<01:23,  2.46s/it]"
     ]
    },
    {
     "name": "stdout",
     "output_type": "stream",
     "text": [
      "=====================  [EPOCH (221) LOGGING]  =====================\n",
      "| AVERAGES of THIS EPOCH:\n",
      "| ACCUMULATED LOSS: 0.1763144\n",
      "===========================================================\n"
     ]
    },
    {
     "name": "stderr",
     "output_type": "stream",
     "text": [
      ">>>>>>>>>>>>>>>>>>>>>\n",
      "Main Epoch (Outer Loop):  87%|████████▋ | 223/256 [08:07<01:19,  2.41s/it]"
     ]
    },
    {
     "name": "stdout",
     "output_type": "stream",
     "text": [
      "=====================  [EPOCH (222) LOGGING]  =====================\n",
      "| AVERAGES of THIS EPOCH:\n",
      "| ACCUMULATED LOSS: 0.1764567\n",
      "===========================================================\n"
     ]
    },
    {
     "name": "stderr",
     "output_type": "stream",
     "text": [
      ">>>>>>>>>>>>>>>>>>>>>\n",
      "Main Epoch (Outer Loop):  88%|████████▊ | 224/256 [08:09<01:17,  2.41s/it]"
     ]
    },
    {
     "name": "stdout",
     "output_type": "stream",
     "text": [
      "=====================  [EPOCH (223) LOGGING]  =====================\n",
      "| AVERAGES of THIS EPOCH:\n",
      "| ACCUMULATED LOSS: 0.1761551\n",
      "===========================================================\n"
     ]
    },
    {
     "name": "stderr",
     "output_type": "stream",
     "text": [
      ">>>>>>>>>>>>>>>>>>>>>\n",
      "Main Epoch (Outer Loop):  88%|████████▊ | 225/256 [08:12<01:14,  2.39s/it]"
     ]
    },
    {
     "name": "stdout",
     "output_type": "stream",
     "text": [
      "=====================  [EPOCH (224) LOGGING]  =====================\n",
      "| AVERAGES of THIS EPOCH:\n",
      "| ACCUMULATED LOSS: 0.1761919\n",
      "===========================================================\n"
     ]
    },
    {
     "name": "stderr",
     "output_type": "stream",
     "text": [
      ">>>>>>>>>>>>>>>>>>>>>\n",
      "Main Epoch (Outer Loop):  88%|████████▊ | 226/256 [08:14<01:11,  2.38s/it]"
     ]
    },
    {
     "name": "stdout",
     "output_type": "stream",
     "text": [
      "=====================  [EPOCH (225) LOGGING]  =====================\n",
      "| AVERAGES of THIS EPOCH:\n",
      "| ACCUMULATED LOSS: 0.1763217\n",
      "===========================================================\n"
     ]
    },
    {
     "name": "stderr",
     "output_type": "stream",
     "text": [
      ">>>>>>>>>>>>>>>>>>>>>\n",
      "Main Epoch (Outer Loop):  89%|████████▊ | 227/256 [08:16<01:07,  2.33s/it]"
     ]
    },
    {
     "name": "stdout",
     "output_type": "stream",
     "text": [
      "=====================  [EPOCH (226) LOGGING]  =====================\n",
      "| AVERAGES of THIS EPOCH:\n",
      "| ACCUMULATED LOSS: 0.1763578\n",
      "===========================================================\n"
     ]
    },
    {
     "name": "stderr",
     "output_type": "stream",
     "text": [
      ">>>>>>>>>>>>>>>>>>>>>\n",
      "Main Epoch (Outer Loop):  89%|████████▉ | 228/256 [08:19<01:04,  2.32s/it]"
     ]
    },
    {
     "name": "stdout",
     "output_type": "stream",
     "text": [
      "=====================  [EPOCH (227) LOGGING]  =====================\n",
      "| AVERAGES of THIS EPOCH:\n",
      "| ACCUMULATED LOSS: 0.1759913\n",
      "===========================================================\n"
     ]
    },
    {
     "name": "stderr",
     "output_type": "stream",
     "text": [
      ">>>>>>>>>>>>>>>>>>>>>\n",
      "Main Epoch (Outer Loop):  89%|████████▉ | 229/256 [08:21<01:02,  2.31s/it]"
     ]
    },
    {
     "name": "stdout",
     "output_type": "stream",
     "text": [
      "=====================  [EPOCH (228) LOGGING]  =====================\n",
      "| AVERAGES of THIS EPOCH:\n",
      "| ACCUMULATED LOSS: 0.1764332\n",
      "===========================================================\n"
     ]
    },
    {
     "name": "stderr",
     "output_type": "stream",
     "text": [
      ">>>>>>>>>>>>>>>>>>>>>\n",
      "Main Epoch (Outer Loop):  90%|████████▉ | 230/256 [08:23<01:00,  2.32s/it]"
     ]
    },
    {
     "name": "stdout",
     "output_type": "stream",
     "text": [
      "=====================  [EPOCH (229) LOGGING]  =====================\n",
      "| AVERAGES of THIS EPOCH:\n",
      "| ACCUMULATED LOSS: 0.1763431\n",
      "===========================================================\n"
     ]
    },
    {
     "name": "stderr",
     "output_type": "stream",
     "text": [
      ">>>>>>>>>>>>>>>>>>>>>\n",
      "Main Epoch (Outer Loop):  90%|█████████ | 231/256 [08:26<00:57,  2.32s/it]"
     ]
    },
    {
     "name": "stdout",
     "output_type": "stream",
     "text": [
      "=====================  [EPOCH (230) LOGGING]  =====================\n",
      "| AVERAGES of THIS EPOCH:\n",
      "| ACCUMULATED LOSS: 0.1765147\n",
      "===========================================================\n"
     ]
    },
    {
     "name": "stderr",
     "output_type": "stream",
     "text": [
      ">>>>>>>>>>>>>>>>>>>>>\n",
      "Main Epoch (Outer Loop):  91%|█████████ | 232/256 [08:28<00:56,  2.35s/it]"
     ]
    },
    {
     "name": "stdout",
     "output_type": "stream",
     "text": [
      "=====================  [EPOCH (231) LOGGING]  =====================\n",
      "| AVERAGES of THIS EPOCH:\n",
      "| ACCUMULATED LOSS: 0.1764055\n",
      "===========================================================\n"
     ]
    },
    {
     "name": "stderr",
     "output_type": "stream",
     "text": [
      ">>>>>>>>>>>>>>>>>>>>>\n",
      "Main Epoch (Outer Loop):  91%|█████████ | 233/256 [08:30<00:54,  2.39s/it]"
     ]
    },
    {
     "name": "stdout",
     "output_type": "stream",
     "text": [
      "=====================  [EPOCH (232) LOGGING]  =====================\n",
      "| AVERAGES of THIS EPOCH:\n",
      "| ACCUMULATED LOSS: 0.1764603\n",
      "===========================================================\n"
     ]
    },
    {
     "name": "stderr",
     "output_type": "stream",
     "text": [
      ">>>>>>>>>>>>>>>>>>>>>\n",
      "Main Epoch (Outer Loop):  91%|█████████▏| 234/256 [08:33<00:54,  2.47s/it]"
     ]
    },
    {
     "name": "stdout",
     "output_type": "stream",
     "text": [
      "=====================  [EPOCH (233) LOGGING]  =====================\n",
      "| AVERAGES of THIS EPOCH:\n",
      "| ACCUMULATED LOSS: 0.1761031\n",
      "===========================================================\n"
     ]
    },
    {
     "name": "stderr",
     "output_type": "stream",
     "text": [
      ">>>>>>>>>>>>>>>>>>>>>\n",
      "Main Epoch (Outer Loop):  92%|█████████▏| 235/256 [08:36<00:52,  2.52s/it]"
     ]
    },
    {
     "name": "stdout",
     "output_type": "stream",
     "text": [
      "=====================  [EPOCH (234) LOGGING]  =====================\n",
      "| AVERAGES of THIS EPOCH:\n",
      "| ACCUMULATED LOSS: 0.1766216\n",
      "===========================================================\n"
     ]
    },
    {
     "name": "stderr",
     "output_type": "stream",
     "text": [
      ">>>>>>>>>>>>>>>>>>>>>\n",
      "Main Epoch (Outer Loop):  92%|█████████▏| 236/256 [08:38<00:49,  2.48s/it]"
     ]
    },
    {
     "name": "stdout",
     "output_type": "stream",
     "text": [
      "=====================  [EPOCH (235) LOGGING]  =====================\n",
      "| AVERAGES of THIS EPOCH:\n",
      "| ACCUMULATED LOSS: 0.1764534\n",
      "===========================================================\n"
     ]
    },
    {
     "name": "stderr",
     "output_type": "stream",
     "text": [
      ">>>>>>>>>>>>>>>>>>>>>\n",
      "Main Epoch (Outer Loop):  93%|█████████▎| 237/256 [08:40<00:46,  2.43s/it]"
     ]
    },
    {
     "name": "stdout",
     "output_type": "stream",
     "text": [
      "=====================  [EPOCH (236) LOGGING]  =====================\n",
      "| AVERAGES of THIS EPOCH:\n",
      "| ACCUMULATED LOSS: 0.1762663\n",
      "===========================================================\n"
     ]
    },
    {
     "name": "stderr",
     "output_type": "stream",
     "text": [
      ">>>>>>>>>>>>>>>>>>>>>\n",
      "Main Epoch (Outer Loop):  93%|█████████▎| 238/256 [08:43<00:42,  2.39s/it]"
     ]
    },
    {
     "name": "stdout",
     "output_type": "stream",
     "text": [
      "=====================  [EPOCH (237) LOGGING]  =====================\n",
      "| AVERAGES of THIS EPOCH:\n",
      "| ACCUMULATED LOSS: 0.1761049\n",
      "===========================================================\n"
     ]
    },
    {
     "name": "stderr",
     "output_type": "stream",
     "text": [
      ">>>>>>>>>>>>>>>>>>>>>\n",
      "Main Epoch (Outer Loop):  93%|█████████▎| 239/256 [08:45<00:40,  2.36s/it]"
     ]
    },
    {
     "name": "stdout",
     "output_type": "stream",
     "text": [
      "=====================  [EPOCH (238) LOGGING]  =====================\n",
      "| AVERAGES of THIS EPOCH:\n",
      "| ACCUMULATED LOSS: 0.1762527\n",
      "===========================================================\n"
     ]
    },
    {
     "name": "stderr",
     "output_type": "stream",
     "text": [
      ">>>>>>>>>>>>>>>>>>>>>\n",
      "Main Epoch (Outer Loop):  94%|█████████▍| 240/256 [08:47<00:37,  2.33s/it]"
     ]
    },
    {
     "name": "stdout",
     "output_type": "stream",
     "text": [
      "=====================  [EPOCH (239) LOGGING]  =====================\n",
      "| AVERAGES of THIS EPOCH:\n",
      "| ACCUMULATED LOSS: 0.1764467\n",
      "===========================================================\n"
     ]
    },
    {
     "name": "stderr",
     "output_type": "stream",
     "text": [
      ">>>>>>>>>>>>>>>>>>>>>\n",
      "Main Epoch (Outer Loop):  94%|█████████▍| 241/256 [08:50<00:35,  2.34s/it]"
     ]
    },
    {
     "name": "stdout",
     "output_type": "stream",
     "text": [
      "=====================  [EPOCH (240) LOGGING]  =====================\n",
      "| AVERAGES of THIS EPOCH:\n",
      "| ACCUMULATED LOSS: 0.1761995\n",
      "===========================================================\n"
     ]
    },
    {
     "name": "stderr",
     "output_type": "stream",
     "text": [
      ">>>>>>>>>>>>>>>>>>>>>\n",
      "Main Epoch (Outer Loop):  95%|█████████▍| 242/256 [08:52<00:33,  2.38s/it]"
     ]
    },
    {
     "name": "stdout",
     "output_type": "stream",
     "text": [
      "=====================  [EPOCH (241) LOGGING]  =====================\n",
      "| AVERAGES of THIS EPOCH:\n",
      "| ACCUMULATED LOSS: 0.1761884\n",
      "===========================================================\n"
     ]
    },
    {
     "name": "stderr",
     "output_type": "stream",
     "text": [
      ">>>>>>>>>>>>>>>>>>>>>\n",
      "Main Epoch (Outer Loop):  95%|█████████▍| 243/256 [08:55<00:31,  2.45s/it]"
     ]
    },
    {
     "name": "stdout",
     "output_type": "stream",
     "text": [
      "=====================  [EPOCH (242) LOGGING]  =====================\n",
      "| AVERAGES of THIS EPOCH:\n",
      "| ACCUMULATED LOSS: 0.1762566\n",
      "===========================================================\n"
     ]
    },
    {
     "name": "stderr",
     "output_type": "stream",
     "text": [
      ">>>>>>>>>>>>>>>>>>>>>\n",
      "Main Epoch (Outer Loop):  95%|█████████▌| 244/256 [08:57<00:29,  2.45s/it]"
     ]
    },
    {
     "name": "stdout",
     "output_type": "stream",
     "text": [
      "=====================  [EPOCH (243) LOGGING]  =====================\n",
      "| AVERAGES of THIS EPOCH:\n",
      "| ACCUMULATED LOSS: 0.1763171\n",
      "===========================================================\n"
     ]
    },
    {
     "name": "stderr",
     "output_type": "stream",
     "text": [
      ">>>>>>>>>>>>>>>>>>>>>\n",
      "Main Epoch (Outer Loop):  96%|█████████▌| 245/256 [08:59<00:26,  2.40s/it]"
     ]
    },
    {
     "name": "stdout",
     "output_type": "stream",
     "text": [
      "=====================  [EPOCH (244) LOGGING]  =====================\n",
      "| AVERAGES of THIS EPOCH:\n",
      "| ACCUMULATED LOSS: 0.1760860\n",
      "===========================================================\n"
     ]
    },
    {
     "name": "stderr",
     "output_type": "stream",
     "text": [
      ">>>>>>>>>>>>>>>>>>>>>\n",
      "Main Epoch (Outer Loop):  96%|█████████▌| 246/256 [09:02<00:23,  2.37s/it]"
     ]
    },
    {
     "name": "stdout",
     "output_type": "stream",
     "text": [
      "=====================  [EPOCH (245) LOGGING]  =====================\n",
      "| AVERAGES of THIS EPOCH:\n",
      "| ACCUMULATED LOSS: 0.1762420\n",
      "===========================================================\n"
     ]
    },
    {
     "name": "stderr",
     "output_type": "stream",
     "text": [
      ">>>>>>>>>>>>>>>>>>>>>\n",
      "Main Epoch (Outer Loop):  96%|█████████▋| 247/256 [09:04<00:21,  2.34s/it]"
     ]
    },
    {
     "name": "stdout",
     "output_type": "stream",
     "text": [
      "=====================  [EPOCH (246) LOGGING]  =====================\n",
      "| AVERAGES of THIS EPOCH:\n",
      "| ACCUMULATED LOSS: 0.1763017\n",
      "===========================================================\n"
     ]
    },
    {
     "name": "stderr",
     "output_type": "stream",
     "text": [
      ">>>>>>>>>>>>>>>>>>>>>\n",
      "Main Epoch (Outer Loop):  97%|█████████▋| 248/256 [09:06<00:18,  2.31s/it]"
     ]
    },
    {
     "name": "stdout",
     "output_type": "stream",
     "text": [
      "=====================  [EPOCH (247) LOGGING]  =====================\n",
      "| AVERAGES of THIS EPOCH:\n",
      "| ACCUMULATED LOSS: 0.1762481\n",
      "===========================================================\n"
     ]
    },
    {
     "name": "stderr",
     "output_type": "stream",
     "text": [
      ">>>>>>>>>>>>>>>>>>>>>\n",
      "Main Epoch (Outer Loop):  97%|█████████▋| 249/256 [09:09<00:16,  2.30s/it]"
     ]
    },
    {
     "name": "stdout",
     "output_type": "stream",
     "text": [
      "=====================  [EPOCH (248) LOGGING]  =====================\n",
      "| AVERAGES of THIS EPOCH:\n",
      "| ACCUMULATED LOSS: 0.1763597\n",
      "===========================================================\n"
     ]
    },
    {
     "name": "stderr",
     "output_type": "stream",
     "text": [
      ">>>>>>>>>>>>>>>>>>>>>\n",
      "Main Epoch (Outer Loop):  98%|█████████▊| 250/256 [09:11<00:13,  2.27s/it]"
     ]
    },
    {
     "name": "stdout",
     "output_type": "stream",
     "text": [
      "=====================  [EPOCH (249) LOGGING]  =====================\n",
      "| AVERAGES of THIS EPOCH:\n",
      "| ACCUMULATED LOSS: 0.1762361\n",
      "===========================================================\n"
     ]
    },
    {
     "name": "stderr",
     "output_type": "stream",
     "text": [
      ">>>>>>>>>>>>>>>>>>>>>\n",
      "Main Epoch (Outer Loop):  98%|█████████▊| 251/256 [09:13<00:11,  2.25s/it]"
     ]
    },
    {
     "name": "stdout",
     "output_type": "stream",
     "text": [
      "=====================  [EPOCH (250) LOGGING]  =====================\n",
      "| AVERAGES of THIS EPOCH:\n",
      "| ACCUMULATED LOSS: 0.1762311\n",
      "===========================================================\n"
     ]
    },
    {
     "name": "stderr",
     "output_type": "stream",
     "text": [
      ">>>>>>>>>>>>>>>>>>>>>\n",
      "Main Epoch (Outer Loop):  98%|█████████▊| 252/256 [09:15<00:08,  2.24s/it]"
     ]
    },
    {
     "name": "stdout",
     "output_type": "stream",
     "text": [
      "=====================  [EPOCH (251) LOGGING]  =====================\n",
      "| AVERAGES of THIS EPOCH:\n",
      "| ACCUMULATED LOSS: 0.1760086\n",
      "===========================================================\n"
     ]
    },
    {
     "name": "stderr",
     "output_type": "stream",
     "text": [
      ">>>>>>>>>>>>>>>>>>>>>\n",
      "Main Epoch (Outer Loop):  99%|█████████▉| 253/256 [09:17<00:06,  2.23s/it]"
     ]
    },
    {
     "name": "stdout",
     "output_type": "stream",
     "text": [
      "=====================  [EPOCH (252) LOGGING]  =====================\n",
      "| AVERAGES of THIS EPOCH:\n",
      "| ACCUMULATED LOSS: 0.1761897\n",
      "===========================================================\n"
     ]
    },
    {
     "name": "stderr",
     "output_type": "stream",
     "text": [
      ">>>>>>>>>>>>>>>>>>>>>\n",
      "Main Epoch (Outer Loop):  99%|█████████▉| 254/256 [09:20<00:04,  2.25s/it]"
     ]
    },
    {
     "name": "stdout",
     "output_type": "stream",
     "text": [
      "=====================  [EPOCH (253) LOGGING]  =====================\n",
      "| AVERAGES of THIS EPOCH:\n",
      "| ACCUMULATED LOSS: 0.1762169\n",
      "===========================================================\n"
     ]
    },
    {
     "name": "stderr",
     "output_type": "stream",
     "text": [
      ">>>>>>>>>>>>>>>>>>>>>\n",
      "Main Epoch (Outer Loop): 100%|█████████▉| 255/256 [09:22<00:02,  2.24s/it]"
     ]
    },
    {
     "name": "stdout",
     "output_type": "stream",
     "text": [
      "=====================  [EPOCH (254) LOGGING]  =====================\n",
      "| AVERAGES of THIS EPOCH:\n",
      "| ACCUMULATED LOSS: 0.1763119\n",
      "===========================================================\n"
     ]
    },
    {
     "name": "stderr",
     "output_type": "stream",
     "text": [
      ">>>>>>>>>>>>>>>>>>>>>\n",
      ">>>>>>>>>>>>>>>>>>>>>p): 100%|██████████| 256/256 [09:24<00:00,  2.26s/it]\n",
      "Main Epoch (Outer Loop): 100%|██████████| 256/256 [09:24<00:00,  2.21s/it]"
     ]
    },
    {
     "name": "stdout",
     "output_type": "stream",
     "text": [
      "=====================  [EPOCH (255) LOGGING]  =====================\n",
      "| AVERAGES of THIS EPOCH:\n",
      "| ACCUMULATED LOSS: 0.1762398\n",
      "===========================================================\n",
      "===================  [Epoch (256/256)]  ===================\n",
      "Entire Validation Dataset Average Loss: 0.1377\n",
      "====================================================\n",
      "FINISHED MODEL TRAINING. \n",
      "TRAINING TOOK: 0 Hours, 9 Minutes, and 24.666 Seconds\n",
      "\n",
      "TESTING THE TRAINED POLICY:\n",
      "===============================================\n",
      "Entire Dataset Average Loss: 0.1392 \n",
      "=====================================================\n",
      "Parent directory 'models' created to store the model.\n",
      "Model weights saved in: models/Weather-Agent_01.pt\n",
      "FINISHED MAIN SCRIPT\n",
      "OVERALL DURATION: 0 Hours, 9 Minutes, and 24.753 Seconds\n",
      "TERMINATING PROGRAM\n"
     ]
    },
    {
     "name": "stderr",
     "output_type": "stream",
     "text": [
      "\n"
     ]
    }
   ],
   "source": [
    "# Example usage (assuming you have a way to call this function, e.g., in a main block)\n",
    "if __name__ == '__main__':\n",
    "    # --- Begin Timing Main Script Execution Time ---\n",
    "    main_start_time=time.time()\n",
    "\n",
    "    parser = argparse.ArgumentParser(description=\"Train and evaluate a Regression Agent.\")\n",
    "\n",
    "    parser.add_argument('--epochs', type=int, default=8,\n",
    "        help='(int, default=8) Number of training epochs to run.')\n",
    "\n",
    "    parser.add_argument('--learning_rate', type=float, default=0.0003,\n",
    "        help='(float, default=0.0003) Learning rate used by the optimizer.')\n",
    "    \n",
    "    parser.add_argument('--max_grad_norm', type=float, default=3.0,\n",
    "        help='(float, default=3.0) The Maximum L2 Norm of the gradients for Gradient Clipping.')\n",
    "\n",
    "    parser.add_argument('--dataloader_batch_size', type=int, default=64,\n",
    "        help='(int, default=64) Batch size used by the dataloaders for training, validation, and testing.')\n",
    "\n",
    "    parser.add_argument('--dataloader_pin_memory', action='store_false',\n",
    "        help='(bool, default=True) Disable pinned memory in dataloaders (enabled by default).')\n",
    "\n",
    "    parser.add_argument('--dataloader_num_workers', type=int, default=0,\n",
    "        help='(int, default=0) Number of subprocesses to use for data loading.')\n",
    "\n",
    "    parser.add_argument('--log_iterations', type=int, default=32,\n",
    "        help='(int, default=32) Frequency (in iterations) to log training progress.')\n",
    "\n",
    "    parser.add_argument('--eval_iterations', type=int, default=32,\n",
    "        help='(int, default=32) Frequency (in iterations) to evaluate the model.')\n",
    "\n",
    "    parser.add_argument('--use_cuda', action='store_true',\n",
    "        help='(bool, default=False) Enable CUDA for training if available.')\n",
    "\n",
    "    parser.add_argument('--device', type=str, default='cpu',\n",
    "        help='(str, default=\"cpu\") Device to use for training (e.g., \"cpu\", \"cuda:0\"). Overrides --use_cuda.')\n",
    "\n",
    "    parser.add_argument('--save_model', action='store_true',\n",
    "        help='(bool, default=False) Save the trained model after training.')\n",
    "\n",
    "    parser.add_argument('--model_output_path', type=str, default='models/Weather-Agent.pt',\n",
    "        help='(str, default=\"models/Weather-Agent.pt\") File path to save the trained model.')\n",
    "\n",
    "\n",
    "    # # Parse the arguments (disabled for ipynb testing)\n",
    "    # args = parser.parse_args()\n",
    "\n",
    "    # For ipynb testing\n",
    "    simulated_args = [\n",
    "        '--epochs', '256',\n",
    "        '--learning_rate', '0.003',\n",
    "        '--log_iterations', '256',  # Basically turns logging off\n",
    "        '--eval_iterations', '64',\n",
    "        '--save_model',\n",
    "        '--model_output_path', 'models/Agent_01.pt'\n",
    "        #Everything else is default\n",
    "    ]\n",
    "    args = parser.parse_args(args=simulated_args)\n",
    "    print(args)\n",
    "    ## End of ipynb testing\n",
    "\n",
    "    ret = main(args)\n",
    "\n",
    "    main_end_time=time.time()\n",
    "\n",
    "    # --- Calculate Main Script Execution Time --- \n",
    "\n",
    "    elapsed_time= main_end_time - main_start_time\n",
    "    hrs = int(elapsed_time / 3600)\n",
    "    min = int((elapsed_time % 3600) / 60)\n",
    "    seconds_remaining = elapsed_time - (hrs * 3600 ) - (min * 60)\n",
    "\n",
    "    print(f\"FINISHED MAIN SCRIPT\\nOVERALL DURATION: {hrs} Hours, {min} Minutes, and {seconds_remaining:.3f} Seconds\")\n",
    "    if ret == 0:\n",
    "        print(\"TERMINATING PROGRAM\")\n",
    "    else: \n",
    "        print(\"Main Scipt Error\")"
   ]
  }
 ],
 "metadata": {
  "kernelspec": {
   "display_name": "WP_env",
   "language": "python",
   "name": "python3"
  },
  "language_info": {
   "codemirror_mode": {
    "name": "ipython",
    "version": 3
   },
   "file_extension": ".py",
   "mimetype": "text/x-python",
   "name": "python",
   "nbconvert_exporter": "python",
   "pygments_lexer": "ipython3",
   "version": "3.10.18"
  }
 },
 "nbformat": 4,
 "nbformat_minor": 5
}
